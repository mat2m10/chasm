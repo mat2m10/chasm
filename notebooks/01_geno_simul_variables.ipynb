{
 "cells": [
  {
   "cell_type": "code",
   "execution_count": 3,
   "id": "0af80759-5309-4af5-8c3a-6028b7ff621a",
   "metadata": {},
   "outputs": [
    {
     "name": "stdout",
     "output_type": "stream",
     "text": [
      "Creating a 5x5 grid\n"
     ]
    }
   ],
   "source": [
    "import tkinter as tk\n",
    "\n",
    "stored_value = None\n",
    "\n",
    "def store_value():\n",
    "    global stored_value\n",
    "    stored_value = slider.get()\n",
    "    print(f\"Stored value: {stored_value}\")\n",
    "\n",
    "def create_grid():\n",
    "    # Clear previous grid if any\n",
    "    for widget in grid_frame.winfo_children():\n",
    "        widget.destroy()\n",
    "\n",
    "    k = k_slider.get()\n",
    "    print(f\"Creating a {k}x{k} grid\")\n",
    "\n",
    "    for i in range(k):\n",
    "        for j in range(k):\n",
    "            cell = tk.Label(grid_frame, text=f\"{i},{j}\", borderwidth=1, relief=\"solid\", width=6, height=2)\n",
    "            cell.grid(row=i, column=j, padx=1, pady=1)\n",
    "\n",
    "# Create main window\n",
    "root = tk.Tk()\n",
    "root.title(\"HMI Slider + Grid Generator\")\n",
    "\n",
    "# Frame for sliders\n",
    "slider_frame = tk.Frame(root)\n",
    "slider_frame.pack(pady=10)\n",
    "\n",
    "# Value slider\n",
    "slider = tk.Scale(slider_frame, from_=0, to=100, orient='horizontal', label=\"Select a Value\")\n",
    "slider.grid(row=0, column=0, padx=20)\n",
    "\n",
    "# Store button\n",
    "store_button = tk.Button(slider_frame, text=\"Store Value\", command=store_value)\n",
    "store_button.grid(row=1, column=0, pady=5)\n",
    "\n",
    "# k slider for grid size\n",
    "k_slider = tk.Scale(slider_frame, from_=1, to=10, orient='horizontal', label=\"Select k (Grid Size)\")\n",
    "k_slider.grid(row=0, column=1, padx=20)\n",
    "\n",
    "# Grid creation button\n",
    "grid_button = tk.Button(slider_frame, text=\"Create k x k Grid\", command=create_grid)\n",
    "grid_button.grid(row=1, column=1, pady=5)\n",
    "\n",
    "# Frame for the dynamic grid\n",
    "grid_frame = tk.Frame(root)\n",
    "grid_frame.pack(pady=10)\n",
    "\n",
    "# Start GUI loop\n",
    "root.mainloop()\n"
   ]
  },
  {
   "cell_type": "code",
   "execution_count": 2,
   "id": "e7cfb66e-c4b0-4ce3-ad98-8ce1eddcd630",
   "metadata": {},
   "outputs": [
    {
     "data": {
      "text/plain": [
       "43"
      ]
     },
     "execution_count": 2,
     "metadata": {},
     "output_type": "execute_result"
    }
   ],
   "source": []
  },
  {
   "cell_type": "code",
   "execution_count": null,
   "id": "c5c39284-a9ea-46f3-94d1-4b6851eaaed9",
   "metadata": {},
   "outputs": [],
   "source": []
  }
 ],
 "metadata": {
  "kernelspec": {
   "display_name": "Python 3 (ipykernel)",
   "language": "python",
   "name": "python3"
  },
  "language_info": {
   "codemirror_mode": {
    "name": "ipython",
    "version": 3
   },
   "file_extension": ".py",
   "mimetype": "text/x-python",
   "name": "python",
   "nbconvert_exporter": "python",
   "pygments_lexer": "ipython3",
   "version": "3.10.6"
  }
 },
 "nbformat": 4,
 "nbformat_minor": 5
}
