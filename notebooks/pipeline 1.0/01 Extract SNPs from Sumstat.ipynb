{
 "cells": [
  {
   "cell_type": "markdown",
   "id": "fe94fe0e-4121-4c95-9795-ee180a9f41fc",
   "metadata": {},
   "source": [
    "# Load libraries"
   ]
  },
  {
   "cell_type": "code",
   "execution_count": 7,
   "id": "189baa04-d6c0-48d3-9eb8-484f5d4b132b",
   "metadata": {},
   "outputs": [],
   "source": [
    "import os\n",
    "import sys\n",
    "import datetime\n",
    "\n",
    "from termcolor import colored, cprint\n",
    "\n",
    "os.environ['TF_CPP_MIN_LOG_LEVEL'] = '3'\n",
    "import sys\n",
    "from os import listdir\n",
    "\n",
    "import numpy as np\n",
    "import pandas as pd  # Import Pandas and Numpy to create databases\n",
    "import tensorflow as tf  # Import tensorflow to do tensor manipulations\n",
    "import matplotlib.pyplot as plt\n",
    "import statsmodels.api as sm\n",
    "import seaborn as sns\n",
    "from sklearn.preprocessing import StandardScaler\n",
    "scaler = StandardScaler()"
   ]
  },
  {
   "cell_type": "code",
   "execution_count": 8,
   "id": "787c2a64-4772-4754-ab71-d1433ddaa36c",
   "metadata": {},
   "outputs": [],
   "source": [
    "phenotypes_labels = {\n",
    "    \"bc\": \"Breast Cancer\",\n",
    "    \"cad\": \"Coronary Artery Disease\",\n",
    "    \"ms\": \"Multiple Sclerosis\",\n",
    "    \"t2d\": \"Type 2 Diabetes\",\n",
    "    \"pc\": \"Prostate Cancer\",\n",
    "    \"ibd\": \"Inflammatory Bowel Disease\"\n",
    "}\n",
    "\n",
    "scenario_labels = {\n",
    "    \"no_cov\": \"no covariates\",\n",
    "    \"abyss\": \"Abyss correction\",\n",
    "    \"cov\": \"PCA correction\",\n",
    "    \"abyss_cov\": \"Abyss + PCA as covariates\"\n",
    "}"
   ]
  },
  {
   "cell_type": "code",
   "execution_count": 9,
   "id": "35eff930-b02c-4afb-8196-d1cd46f3d73d",
   "metadata": {},
   "outputs": [],
   "source": [
    "\n",
    "max_maf = 0.5\n",
    "min_maf = 0\n",
    "logp_min = 6\n",
    "logp_max = 100\n",
    "P_cutoff = 5e-8\n",
    "PCs = 15"
   ]
  },
  {
   "cell_type": "code",
   "execution_count": 10,
   "id": "ec81ef0e-3c5f-4338-9507-b8856cf5cdeb",
   "metadata": {},
   "outputs": [],
   "source": [
    "bin = 17"
   ]
  },
  {
   "cell_type": "code",
   "execution_count": 11,
   "id": "2968a791-b1a1-4cbb-ac44-04a3ff9963d0",
   "metadata": {},
   "outputs": [],
   "source": [
    "bin_param = f\"bin_{bin}_sumstat.pkl\"\n"
   ]
  },
  {
   "cell_type": "code",
   "execution_count": null,
   "id": "97395b78-3ef1-4332-9c4d-7e22b182497b",
   "metadata": {},
   "outputs": [],
   "source": []
  }
 ],
 "metadata": {
  "kernelspec": {
   "display_name": "Python 3 (ipykernel)",
   "language": "python",
   "name": "python3"
  },
  "language_info": {
   "codemirror_mode": {
    "name": "ipython",
    "version": 3
   },
   "file_extension": ".py",
   "mimetype": "text/x-python",
   "name": "python",
   "nbconvert_exporter": "python",
   "pygments_lexer": "ipython3",
   "version": "3.11.5"
  }
 },
 "nbformat": 4,
 "nbformat_minor": 5
}
