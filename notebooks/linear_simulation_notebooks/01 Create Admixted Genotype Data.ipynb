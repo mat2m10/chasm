{
 "cells": [
  {
   "cell_type": "markdown",
   "id": "61e3e068-2301-4431-ba91-0ae70f4e6865",
   "metadata": {},
   "source": [
    "# Import libraries"
   ]
  },
  {
   "cell_type": "code",
   "execution_count": 1,
   "id": "73f68edb-a3fc-44cb-9ce3-7734bf9407ee",
   "metadata": {
    "execution": {
     "iopub.execute_input": "2025-06-30T16:15:56.136120Z",
     "iopub.status.busy": "2025-06-30T16:15:56.135896Z",
     "iopub.status.idle": "2025-06-30T16:15:56.983325Z",
     "shell.execute_reply": "2025-06-30T16:15:56.982627Z",
     "shell.execute_reply.started": "2025-06-30T16:15:56.136099Z"
    }
   },
   "outputs": [],
   "source": [
    "import os\n",
    "import subprocess\n",
    "import pandas as pd\n",
    "import numpy as np\n",
    "from sklearn.preprocessing import StandardScaler\n",
    "from sklearn.decomposition import PCA\n",
    "import seaborn as sns\n",
    "import matplotlib.pyplot as plt\n",
    "import statsmodels.api as sm\n",
    "import scipy.stats as stats\n",
    "import importlib.util\n",
    "import sys"
   ]
  },
  {
   "cell_type": "markdown",
   "id": "42db9f08-b0fa-4cb2-b1a9-e433c40b5508",
   "metadata": {},
   "source": [
    "# Usefull functions"
   ]
  },
  {
   "cell_type": "code",
   "execution_count": 2,
   "id": "9a3fdf9f-c876-4690-bf2b-9b387f2c42ac",
   "metadata": {
    "execution": {
     "iopub.execute_input": "2025-06-30T16:15:56.993920Z",
     "iopub.status.busy": "2025-06-30T16:15:56.993799Z",
     "iopub.status.idle": "2025-06-30T16:15:56.997659Z",
     "shell.execute_reply": "2025-06-30T16:15:56.997139Z",
     "shell.execute_reply.started": "2025-06-30T16:15:56.993908Z"
    }
   },
   "outputs": [],
   "source": [
    "# Define a function to map values to colors\n",
    "def map_to_color(x, y, z, df):\n",
    "    # Check if there's variance to avoid division by zero\n",
    "    r = x / df['x'].max() if df['x'].max() != 0 else 0  # Red component based on 'x'\n",
    "    g = y / df['y'].max() if df['y'].max() != 0 else 0  # Green component based on 'y'\n",
    "    b = z / df['z'].max() if df['z'].max() != 0 else 0  # Blue component based on 'z'\n",
    "    \n",
    "    return (r, g, b)"
   ]
  },
  {
   "cell_type": "markdown",
   "id": "eab3dfa4-115c-44b1-bc34-1b037f7ecb3b",
   "metadata": {},
   "source": []
  },
  {
   "cell_type": "markdown",
   "id": "5944ecd4-30a1-4dee-a0a6-8257a09f2318",
   "metadata": {},
   "source": [
    "# Parse variables"
   ]
  },
  {
   "cell_type": "code",
   "execution_count": 3,
   "id": "d1945d76-25a2-49e4-a487-50d79def0c59",
   "metadata": {
    "execution": {
     "iopub.execute_input": "2025-06-30T16:15:56.998865Z",
     "iopub.status.busy": "2025-06-30T16:15:56.997991Z",
     "iopub.status.idle": "2025-06-30T16:15:57.006821Z",
     "shell.execute_reply": "2025-06-30T16:15:57.006257Z",
     "shell.execute_reply.started": "2025-06-30T16:15:56.998851Z"
    }
   },
   "outputs": [],
   "source": [
    "from scripts.parse_vars import parse_variables"
   ]
  },
  {
   "cell_type": "code",
   "execution_count": 4,
   "id": "00ccc7b4-3fb3-4657-ae31-90dc12032b34",
   "metadata": {
    "execution": {
     "iopub.execute_input": "2025-06-30T16:15:58.232263Z",
     "iopub.status.busy": "2025-06-30T16:15:58.231107Z",
     "iopub.status.idle": "2025-06-30T16:15:58.599939Z",
     "shell.execute_reply": "2025-06-30T16:15:58.598850Z",
     "shell.execute_reply.started": "2025-06-30T16:15:58.232224Z"
    }
   },
   "outputs": [
    {
     "ename": "FileNotFoundError",
     "evalue": "[Errno 2] No such file or directory: 'Rscript'",
     "output_type": "error",
     "traceback": [
      "\u001b[0;31m---------------------------------------------------------------------------\u001b[0m",
      "\u001b[0;31mFileNotFoundError\u001b[0m                         Traceback (most recent call last)",
      "Cell \u001b[0;32mIn[4], line 62\u001b[0m\n\u001b[1;32m     59\u001b[0m r_script \u001b[38;5;241m=\u001b[39m \u001b[38;5;124m\"\u001b[39m\u001b[38;5;124m;\u001b[39m\u001b[38;5;124m\"\u001b[39m\u001b[38;5;241m.\u001b[39mjoin(commands)\n\u001b[1;32m     61\u001b[0m \u001b[38;5;66;03m# Run the R script\u001b[39;00m\n\u001b[0;32m---> 62\u001b[0m result \u001b[38;5;241m=\u001b[39m \u001b[43msubprocess\u001b[49m\u001b[38;5;241;43m.\u001b[39;49m\u001b[43mrun\u001b[49m\u001b[43m(\u001b[49m\u001b[43m[\u001b[49m\u001b[38;5;124;43m'\u001b[39;49m\u001b[38;5;124;43mRscript\u001b[39;49m\u001b[38;5;124;43m'\u001b[39;49m\u001b[43m,\u001b[49m\u001b[43m \u001b[49m\u001b[38;5;124;43m'\u001b[39;49m\u001b[38;5;124;43m-e\u001b[39;49m\u001b[38;5;124;43m'\u001b[39;49m\u001b[43m,\u001b[49m\u001b[43m \u001b[49m\u001b[43mr_script\u001b[49m\u001b[43m]\u001b[49m\u001b[43m,\u001b[49m\u001b[43m \u001b[49m\u001b[43mcapture_output\u001b[49m\u001b[38;5;241;43m=\u001b[39;49m\u001b[38;5;28;43;01mTrue\u001b[39;49;00m\u001b[43m,\u001b[49m\u001b[43m \u001b[49m\u001b[43mtext\u001b[49m\u001b[38;5;241;43m=\u001b[39;49m\u001b[38;5;28;43;01mTrue\u001b[39;49;00m\u001b[43m)\u001b[49m\n",
      "File \u001b[0;32m~/.pyenv/versions/3.10.6/lib/python3.10/subprocess.py:501\u001b[0m, in \u001b[0;36mrun\u001b[0;34m(input, capture_output, timeout, check, *popenargs, **kwargs)\u001b[0m\n\u001b[1;32m    498\u001b[0m     kwargs[\u001b[38;5;124m'\u001b[39m\u001b[38;5;124mstdout\u001b[39m\u001b[38;5;124m'\u001b[39m] \u001b[38;5;241m=\u001b[39m PIPE\n\u001b[1;32m    499\u001b[0m     kwargs[\u001b[38;5;124m'\u001b[39m\u001b[38;5;124mstderr\u001b[39m\u001b[38;5;124m'\u001b[39m] \u001b[38;5;241m=\u001b[39m PIPE\n\u001b[0;32m--> 501\u001b[0m \u001b[38;5;28;01mwith\u001b[39;00m \u001b[43mPopen\u001b[49m\u001b[43m(\u001b[49m\u001b[38;5;241;43m*\u001b[39;49m\u001b[43mpopenargs\u001b[49m\u001b[43m,\u001b[49m\u001b[43m \u001b[49m\u001b[38;5;241;43m*\u001b[39;49m\u001b[38;5;241;43m*\u001b[39;49m\u001b[43mkwargs\u001b[49m\u001b[43m)\u001b[49m \u001b[38;5;28;01mas\u001b[39;00m process:\n\u001b[1;32m    502\u001b[0m     \u001b[38;5;28;01mtry\u001b[39;00m:\n\u001b[1;32m    503\u001b[0m         stdout, stderr \u001b[38;5;241m=\u001b[39m process\u001b[38;5;241m.\u001b[39mcommunicate(\u001b[38;5;28minput\u001b[39m, timeout\u001b[38;5;241m=\u001b[39mtimeout)\n",
      "File \u001b[0;32m~/.pyenv/versions/3.10.6/lib/python3.10/subprocess.py:969\u001b[0m, in \u001b[0;36mPopen.__init__\u001b[0;34m(self, args, bufsize, executable, stdin, stdout, stderr, preexec_fn, close_fds, shell, cwd, env, universal_newlines, startupinfo, creationflags, restore_signals, start_new_session, pass_fds, user, group, extra_groups, encoding, errors, text, umask, pipesize)\u001b[0m\n\u001b[1;32m    965\u001b[0m         \u001b[38;5;28;01mif\u001b[39;00m \u001b[38;5;28mself\u001b[39m\u001b[38;5;241m.\u001b[39mtext_mode:\n\u001b[1;32m    966\u001b[0m             \u001b[38;5;28mself\u001b[39m\u001b[38;5;241m.\u001b[39mstderr \u001b[38;5;241m=\u001b[39m io\u001b[38;5;241m.\u001b[39mTextIOWrapper(\u001b[38;5;28mself\u001b[39m\u001b[38;5;241m.\u001b[39mstderr,\n\u001b[1;32m    967\u001b[0m                     encoding\u001b[38;5;241m=\u001b[39mencoding, errors\u001b[38;5;241m=\u001b[39merrors)\n\u001b[0;32m--> 969\u001b[0m     \u001b[38;5;28;43mself\u001b[39;49m\u001b[38;5;241;43m.\u001b[39;49m\u001b[43m_execute_child\u001b[49m\u001b[43m(\u001b[49m\u001b[43margs\u001b[49m\u001b[43m,\u001b[49m\u001b[43m \u001b[49m\u001b[43mexecutable\u001b[49m\u001b[43m,\u001b[49m\u001b[43m \u001b[49m\u001b[43mpreexec_fn\u001b[49m\u001b[43m,\u001b[49m\u001b[43m \u001b[49m\u001b[43mclose_fds\u001b[49m\u001b[43m,\u001b[49m\n\u001b[1;32m    970\u001b[0m \u001b[43m                        \u001b[49m\u001b[43mpass_fds\u001b[49m\u001b[43m,\u001b[49m\u001b[43m \u001b[49m\u001b[43mcwd\u001b[49m\u001b[43m,\u001b[49m\u001b[43m \u001b[49m\u001b[43menv\u001b[49m\u001b[43m,\u001b[49m\n\u001b[1;32m    971\u001b[0m \u001b[43m                        \u001b[49m\u001b[43mstartupinfo\u001b[49m\u001b[43m,\u001b[49m\u001b[43m \u001b[49m\u001b[43mcreationflags\u001b[49m\u001b[43m,\u001b[49m\u001b[43m \u001b[49m\u001b[43mshell\u001b[49m\u001b[43m,\u001b[49m\n\u001b[1;32m    972\u001b[0m \u001b[43m                        \u001b[49m\u001b[43mp2cread\u001b[49m\u001b[43m,\u001b[49m\u001b[43m \u001b[49m\u001b[43mp2cwrite\u001b[49m\u001b[43m,\u001b[49m\n\u001b[1;32m    973\u001b[0m \u001b[43m                        \u001b[49m\u001b[43mc2pread\u001b[49m\u001b[43m,\u001b[49m\u001b[43m \u001b[49m\u001b[43mc2pwrite\u001b[49m\u001b[43m,\u001b[49m\n\u001b[1;32m    974\u001b[0m \u001b[43m                        \u001b[49m\u001b[43merrread\u001b[49m\u001b[43m,\u001b[49m\u001b[43m \u001b[49m\u001b[43merrwrite\u001b[49m\u001b[43m,\u001b[49m\n\u001b[1;32m    975\u001b[0m \u001b[43m                        \u001b[49m\u001b[43mrestore_signals\u001b[49m\u001b[43m,\u001b[49m\n\u001b[1;32m    976\u001b[0m \u001b[43m                        \u001b[49m\u001b[43mgid\u001b[49m\u001b[43m,\u001b[49m\u001b[43m \u001b[49m\u001b[43mgids\u001b[49m\u001b[43m,\u001b[49m\u001b[43m \u001b[49m\u001b[43muid\u001b[49m\u001b[43m,\u001b[49m\u001b[43m \u001b[49m\u001b[43mumask\u001b[49m\u001b[43m,\u001b[49m\n\u001b[1;32m    977\u001b[0m \u001b[43m                        \u001b[49m\u001b[43mstart_new_session\u001b[49m\u001b[43m)\u001b[49m\n\u001b[1;32m    978\u001b[0m \u001b[38;5;28;01mexcept\u001b[39;00m:\n\u001b[1;32m    979\u001b[0m     \u001b[38;5;66;03m# Cleanup if the child failed starting.\u001b[39;00m\n\u001b[1;32m    980\u001b[0m     \u001b[38;5;28;01mfor\u001b[39;00m f \u001b[38;5;129;01min\u001b[39;00m \u001b[38;5;28mfilter\u001b[39m(\u001b[38;5;28;01mNone\u001b[39;00m, (\u001b[38;5;28mself\u001b[39m\u001b[38;5;241m.\u001b[39mstdin, \u001b[38;5;28mself\u001b[39m\u001b[38;5;241m.\u001b[39mstdout, \u001b[38;5;28mself\u001b[39m\u001b[38;5;241m.\u001b[39mstderr)):\n",
      "File \u001b[0;32m~/.pyenv/versions/3.10.6/lib/python3.10/subprocess.py:1845\u001b[0m, in \u001b[0;36mPopen._execute_child\u001b[0;34m(self, args, executable, preexec_fn, close_fds, pass_fds, cwd, env, startupinfo, creationflags, shell, p2cread, p2cwrite, c2pread, c2pwrite, errread, errwrite, restore_signals, gid, gids, uid, umask, start_new_session)\u001b[0m\n\u001b[1;32m   1843\u001b[0m     \u001b[38;5;28;01mif\u001b[39;00m errno_num \u001b[38;5;241m!=\u001b[39m \u001b[38;5;241m0\u001b[39m:\n\u001b[1;32m   1844\u001b[0m         err_msg \u001b[38;5;241m=\u001b[39m os\u001b[38;5;241m.\u001b[39mstrerror(errno_num)\n\u001b[0;32m-> 1845\u001b[0m     \u001b[38;5;28;01mraise\u001b[39;00m child_exception_type(errno_num, err_msg, err_filename)\n\u001b[1;32m   1846\u001b[0m \u001b[38;5;28;01mraise\u001b[39;00m child_exception_type(err_msg)\n",
      "\u001b[0;31mFileNotFoundError\u001b[0m: [Errno 2] No such file or directory: 'Rscript'"
     ]
    }
   ],
   "source": [
    "path_vars = f\"../../geno_simulation.txt\"\n",
    "R_directory = f\"../../rstudio_geno_simulation\"\n",
    "R_file = f\"create_geno.R\"\n",
    "\n",
    "variables = parse_variables(path_vars)\n",
    "if 'G' not in globals():\n",
    "    G = int(variables['G'])\n",
    "if 'L' not in globals():\n",
    "    L = int(variables['L'])\n",
    "if 'c' not in globals():\n",
    "    c = int(variables['c'])\n",
    "if 'k' not in globals():\n",
    "    k = int(variables['k'])\n",
    "if 'M' not in globals():\n",
    "    M = float(variables['M'])\n",
    "if 'HWE' not in globals():\n",
    "    HWE = int(variables['HWE'])\n",
    "\n",
    "if 'tools' not in globals():\n",
    "    tools = ['PCA', 'abyss_counted', 'abyss', 'no_corr']\n",
    "\n",
    "\n",
    "if 'scenarios' not in globals():\n",
    "    scenarios = ['snp_effect',\n",
    "                 'linear_continuous',\n",
    "                 'non_linear_continuous',\n",
    "                 'discrete_global',\n",
    "                 'discrete_localized',\n",
    "                 'mix_linear_continuous',\n",
    "                 'mix_non_linear_continuous',\n",
    "                 'mix_discrete_global',\n",
    "                 'mix_discrete_localized']\n",
    "\n",
    "if 'very_rare_threshold_L' not in globals():\n",
    "    very_rare_threshold_L = float(variables['very_rare_threshold_L'])\n",
    "if 'very_rare_threshold_H' not in globals():\n",
    "    very_rare_threshold_H = float(variables['very_rare_threshold_H'])\n",
    "if 'rare_threshold_L' not in globals():\n",
    "    rare_threshold_L = float(variables['rare_threshold_L'])\n",
    "if 'rare_threshold_H' not in globals():\n",
    "    rare_threshold_H = float(variables['rare_threshold_H'])\n",
    "if 'common_threshold_L' not in globals():\n",
    "    common_threshold_L = float(variables['common_threshold_L'])\n",
    "if 'common_threshold_H' not in globals():\n",
    "    common_threshold_H = float(variables['common_threshold_H'])\n",
    "\n",
    "commands = [\n",
    "    f\"G <- {G}\",\n",
    "    f\"L <- {L}\",\n",
    "    f\"c <- {c}\",\n",
    "    f\"k <- {k}\",\n",
    "    f\"M <- {M}\",\n",
    "    f'setwd(\"{R_directory}\")',\n",
    "    f'source(\"{R_file}\", echo=TRUE)'\n",
    "]\n",
    "\n",
    "\n",
    "# Concatenate commands into a single string\n",
    "r_script = \";\".join(commands)\n",
    "\n",
    "# Run the R script\n",
    "result = subprocess.run(['Rscript', '-e', r_script], capture_output=True, text=True)\n"
   ]
  },
  {
   "cell_type": "markdown",
   "id": "e01e45e7-1f2e-4a62-a233-8ce8836220a1",
   "metadata": {},
   "source": [
    "# create Genotype"
   ]
  },
  {
   "cell_type": "code",
   "execution_count": null,
   "id": "42716f60-2c42-4846-9c5e-4a0751c10819",
   "metadata": {
    "execution": {
     "iopub.status.busy": "2025-06-30T16:15:58.600258Z",
     "iopub.status.idle": "2025-06-30T16:15:58.600408Z",
     "shell.execute_reply": "2025-06-30T16:15:58.600347Z",
     "shell.execute_reply.started": "2025-06-30T16:15:58.600340Z"
    }
   },
   "outputs": [],
   "source": [
    "df = pd.read_csv(f\"{R_directory}/simulated_genotypes_G{G}_L{L}_c{c}_k{k}_M{M}.csv\")\n",
    "os.system(f\"rm -rf {R_directory}/simulated_genotypes_G{G}_L{L}_c{c}_k{k}_M{M}.csv\")\n",
    "df[\"populations\"] = [i+1 for i in range(k*k) for _ in range(c)]"
   ]
  },
  {
   "cell_type": "code",
   "execution_count": 5,
   "id": "641ab6c4-2154-4fd2-a1c6-7d10923d5858",
   "metadata": {
    "execution": {
     "iopub.execute_input": "2025-06-30T16:15:58.728623Z",
     "iopub.status.busy": "2025-06-30T16:15:58.728085Z",
     "iopub.status.idle": "2025-06-30T16:15:58.751160Z",
     "shell.execute_reply": "2025-06-30T16:15:58.750235Z",
     "shell.execute_reply.started": "2025-06-30T16:15:58.728603Z"
    }
   },
   "outputs": [
    {
     "ename": "NameError",
     "evalue": "name 'df' is not defined",
     "output_type": "error",
     "traceback": [
      "\u001b[0;31m---------------------------------------------------------------------------\u001b[0m",
      "\u001b[0;31mNameError\u001b[0m                                 Traceback (most recent call last)",
      "Cell \u001b[0;32mIn[5], line 4\u001b[0m\n\u001b[1;32m      1\u001b[0m complete \u001b[38;5;241m=\u001b[39m []\n\u001b[1;32m      3\u001b[0m F \u001b[38;5;241m=\u001b[39m \u001b[38;5;241m0.0\u001b[39m  \u001b[38;5;66;03m# Inbreeding coefficient\u001b[39;00m\n\u001b[0;32m----> 4\u001b[0m unique_pops \u001b[38;5;241m=\u001b[39m \u001b[43mdf\u001b[49m[\u001b[38;5;124m'\u001b[39m\u001b[38;5;124mpopulations\u001b[39m\u001b[38;5;124m'\u001b[39m]\u001b[38;5;241m.\u001b[39munique()\n\u001b[1;32m      5\u001b[0m snp_cols \u001b[38;5;241m=\u001b[39m df\u001b[38;5;241m.\u001b[39mcolumns[:\u001b[38;5;241m-\u001b[39m\u001b[38;5;241m1\u001b[39m]  \u001b[38;5;66;03m# Assumes 'populations' is the last column\u001b[39;00m\n\u001b[1;32m      7\u001b[0m \u001b[38;5;28;01mfor\u001b[39;00m pop \u001b[38;5;129;01min\u001b[39;00m unique_pops:\n",
      "\u001b[0;31mNameError\u001b[0m: name 'df' is not defined"
     ]
    }
   ],
   "source": [
    "complete = []\n",
    "\n",
    "F = 0.0  # Inbreeding coefficient\n",
    "unique_pops = df['populations'].unique()\n",
    "snp_cols = df.columns[:-1]  # Assumes 'populations' is the last column\n",
    "\n",
    "for pop in unique_pops:\n",
    "    pop_df = df[df['populations'] == pop]\n",
    "\n",
    "    # Flip one random genotype per SNP\n",
    "    for col in snp_cols:\n",
    "        idx = np.random.choice(pop_df.index)\n",
    "        pop_df.loc[idx, col] = 1 - pop_df.loc[idx, col]  # Flip 0↔1\n",
    "\n",
    "    # Estimate MAF q\n",
    "    q_values = pop_df[snp_cols].mean()\n",
    "\n",
    "    # Simulate genotypes\n",
    "    n_individuals = len(pop_df)\n",
    "    genotype_matrix = np.zeros((n_individuals, len(snp_cols)), dtype=int)\n",
    "    \n",
    "    for i, snp in enumerate(snp_cols):\n",
    "        q = q_values[snp]\n",
    "        p = 1 - q\n",
    "        probs = np.array([q**2 + F*p*q, 2*p*q*(1 - F), p**2 + F*p*q])\n",
    "        probs /= probs.sum()\n",
    "        genotype_matrix[:, i] = np.random.choice([-1, 0, 1], size=n_individuals, p=probs)\n",
    "\n",
    "    pop_df.loc[:, snp_cols] = genotype_matrix\n",
    "    complete.append(pop_df)\n",
    "\n",
    "# Combine all populations\n",
    "complete = pd.concat(complete, ignore_index=True)\n",
    "N = len(complete)\n",
    "\n",
    "# Flip alleles so that MAF <= 0.5 and compute MAFs\n",
    "maf_values = {}\n",
    "for snp in snp_cols:\n",
    "    genos = complete[snp]\n",
    "    maf = (2 * (genos == -1).sum() + (genos == 0).sum()) / (2 * N)\n",
    "    if maf > 0.5:\n",
    "        complete[snp] = genos.replace({-1: 1, 1: -1})\n",
    "        maf = 1 - maf\n",
    "    maf_values[snp] = maf\n",
    "\n",
    "# Sort SNPs by descending MAF\n",
    "sorted_snps = sorted(maf_values.items(), key=lambda x: x[1], reverse=True)\n",
    "\n",
    "# Create new column names: V1_MAF_0.489, etc.\n",
    "new_col_names = {}\n",
    "for i, (snp, maf) in enumerate(sorted_snps):\n",
    "    new_name = f\"{i+1}_MAF_{maf:.3f}\"\n",
    "    new_col_names[snp] = new_name\n",
    "\n",
    "# Rename and reorder SNP columns\n",
    "complete.rename(columns=new_col_names, inplace=True)\n",
    "ordered_cols = list(new_col_names.values()) + ['populations']\n",
    "complete = complete[ordered_cols]"
   ]
  },
  {
   "cell_type": "code",
   "execution_count": 6,
   "id": "f194e2bb-c9ea-466c-a28a-469f1bc03ae3",
   "metadata": {
    "execution": {
     "iopub.execute_input": "2025-06-30T16:15:58.907675Z",
     "iopub.status.busy": "2025-06-30T16:15:58.907274Z",
     "iopub.status.idle": "2025-06-30T16:15:58.925575Z",
     "shell.execute_reply": "2025-06-30T16:15:58.924778Z",
     "shell.execute_reply.started": "2025-06-30T16:15:58.907647Z"
    }
   },
   "outputs": [
    {
     "ename": "TypeError",
     "evalue": "list indices must be integers or slices, not list",
     "output_type": "error",
     "traceback": [
      "\u001b[0;31m---------------------------------------------------------------------------\u001b[0m",
      "\u001b[0;31mTypeError\u001b[0m                                 Traceback (most recent call last)",
      "Cell \u001b[0;32mIn[6], line 1\u001b[0m\n\u001b[0;32m----> 1\u001b[0m humans \u001b[38;5;241m=\u001b[39m \u001b[43mcomplete\u001b[49m\u001b[43m[\u001b[49m\u001b[43m[\u001b[49m\u001b[38;5;124;43m'\u001b[39;49m\u001b[38;5;124;43mpopulations\u001b[39;49m\u001b[38;5;124;43m'\u001b[39;49m\u001b[43m]\u001b[49m\u001b[43m]\u001b[49m\n\u001b[1;32m      2\u001b[0m complete \u001b[38;5;241m=\u001b[39m complete\u001b[38;5;241m.\u001b[39mdrop(columns \u001b[38;5;241m=\u001b[39m [\u001b[38;5;124m'\u001b[39m\u001b[38;5;124mpopulations\u001b[39m\u001b[38;5;124m'\u001b[39m])\n",
      "\u001b[0;31mTypeError\u001b[0m: list indices must be integers or slices, not list"
     ]
    }
   ],
   "source": [
    "humans = complete[['populations']]\n",
    "complete = complete.drop(columns = ['populations'])"
   ]
  },
  {
   "cell_type": "markdown",
   "id": "34f538c7-45a9-4004-8f15-75af64b7cbbc",
   "metadata": {},
   "source": [
    "# Create population labels"
   ]
  },
  {
   "cell_type": "code",
   "execution_count": null,
   "id": "5a281bc3-6834-4121-87a6-271147b13f70",
   "metadata": {
    "execution": {
     "iopub.status.busy": "2025-06-30T16:15:17.411012Z",
     "iopub.status.idle": "2025-06-30T16:15:17.411155Z",
     "shell.execute_reply": "2025-06-30T16:15:17.411099Z",
     "shell.execute_reply.started": "2025-06-30T16:15:17.411093Z"
    }
   },
   "outputs": [],
   "source": [
    "humans = humans.copy()\n",
    "# Convert and calculate coordinates safely using .loc\n",
    "humans.loc[:, 'populations'] = humans['populations'].astype(int)\n",
    "humans.loc[:, 'x'] = ((humans['populations'] - 1) % k) + 1\n",
    "humans.loc[:, 'y'] = ((humans['populations'] - 1) // k) + 1\n",
    "humans.loc[:, 'z'] = 0\n",
    "humans.loc[:, 'population'] = humans['populations'] / (k * k)\n"
   ]
  },
  {
   "cell_type": "code",
   "execution_count": null,
   "id": "3dcaca2a-681b-4459-b712-e5e68cc989ae",
   "metadata": {
    "execution": {
     "iopub.status.busy": "2025-06-30T16:15:17.411870Z",
     "iopub.status.idle": "2025-06-30T16:15:17.412024Z",
     "shell.execute_reply": "2025-06-30T16:15:17.411963Z",
     "shell.execute_reply.started": "2025-06-30T16:15:17.411957Z"
    }
   },
   "outputs": [],
   "source": [
    "# Sort columns by MAF\n",
    "# Initialize lists to hold the DataFrames\n",
    "very_rare_cols = []\n",
    "rare_cols = []\n",
    "common_cols = []\n",
    "\n",
    "# Categorize columns based on allele frequency\n",
    "for col in complete.columns:\n",
    "    af_value = float(col.split('_')[2])\n",
    "    if very_rare_threshold_L < af_value <= very_rare_threshold_H:\n",
    "        very_rare_cols.append(complete[[col]].rename(columns={col: 'VR_' + col}))\n",
    "    elif rare_threshold_L < af_value <= rare_threshold_H:\n",
    "        rare_cols.append(complete[[col]].rename(columns={col: 'R_' + col}))\n",
    "    elif common_threshold_L < af_value <= common_threshold_H:\n",
    "        common_cols.append(complete[[col]].rename(columns={col: 'C_' + col}))\n",
    "\n",
    "# Concatenate all collected DataFrames at once\n",
    "very_rare = pd.concat(very_rare_cols, axis=1) if very_rare_cols else pd.DataFrame()\n",
    "rare = pd.concat(rare_cols, axis=1) if rare_cols else pd.DataFrame()\n",
    "common = pd.concat(common_cols, axis=1) if common_cols else pd.DataFrame()\n",
    "\n",
    "# Concatenate the final DataFrame\n",
    "complete = pd.concat([common, rare, very_rare], axis=1)"
   ]
  },
  {
   "cell_type": "markdown",
   "id": "f4c6bd6b-24f1-492d-8fd0-87c63085ea5e",
   "metadata": {},
   "source": [
    "# Vizualize populations through PCA"
   ]
  },
  {
   "cell_type": "code",
   "execution_count": null,
   "id": "02697940-2113-4acf-8fa4-56e21633ee12",
   "metadata": {
    "execution": {
     "iopub.status.busy": "2025-06-30T16:15:17.412808Z",
     "iopub.status.idle": "2025-06-30T16:15:17.412990Z",
     "shell.execute_reply": "2025-06-30T16:15:17.412907Z",
     "shell.execute_reply.started": "2025-06-30T16:15:17.412890Z"
    }
   },
   "outputs": [],
   "source": [
    "try:\n",
    "    scaler = StandardScaler()\n",
    "    scaled_complete = scaler.fit_transform(complete)\n",
    "    n_components = max(min(complete.shape[1], 50), 4)\n",
    "    pca = PCA(n_components=n_components)\n",
    "    pc_labels_complete = [f\"PC{i}\" for i in range(1, n_components + 1)]\n",
    "    PC_complete = pca.fit_transform(scaled_complete)\n",
    "    PC_complete = pd.DataFrame(data=PC_complete, columns=pc_labels_complete)\n",
    "\n",
    "except:\n",
    "    print(\"nothing in complete\")\n",
    "    PC_complete = pd.DataFrame(np.zeros((len(complete), 4)), columns=['PC1', 'PC2', 'PC3', 'PC4'])\n",
    "    \n",
    "try:\n",
    "    scaler = StandardScaler()\n",
    "    scaled_common = scaler.fit_transform(common)\n",
    "    n_components = max(min(common.shape[1], 50), 4)\n",
    "    pca = PCA(n_components=n_components)\n",
    "    pc_labels_common = [f\"PC{i}\" for i in range(1, n_components + 1)]\n",
    "    PC_common = pca.fit_transform(scaled_common)\n",
    "    PC_common = pd.DataFrame(data=PC_common, columns=pc_labels_common)\n",
    "except:\n",
    "    print(\"common is empty\")\n",
    "    PC_common = pd.DataFrame(np.zeros((len(common), 4)), columns=['PC1', 'PC2', 'PC3', 'PC4'])\n",
    "    \n",
    "try:\n",
    "    scaler = StandardScaler()\n",
    "    scaled_rare = scaler.fit_transform(rare)\n",
    "    n_components = max(min(rare.shape[1], 50), 4)\n",
    "    pca = PCA(n_components=n_components)\n",
    "    pc_labels_rare = [f\"PC{i}\" for i in range(1, n_components + 1)]\n",
    "    PC_rare = pca.fit_transform(scaled_rare)\n",
    "    PC_rare = pd.DataFrame(data=PC_rare, columns=pc_labels_rare)\n",
    "except:\n",
    "    print(\"rare is empty\")\n",
    "    PC_rare = pd.DataFrame(np.zeros((len(rare), 4)), columns=['PC1', 'PC2', 'PC3', 'PC4'])\n",
    "    \n",
    "try:\n",
    "    scaler = StandardScaler()\n",
    "    scaled_veryrare = scaler.fit_transform(very_rare)\n",
    "    n_components = max(min(very_rare.shape[1], 50), 4)\n",
    "    pca = PCA(n_components=n_components)\n",
    "    pc_labels_very_rare = [f\"PC{i}\" for i in range(1, n_components + 1)]\n",
    "    PC_veryrare = pca.fit_transform(scaled_veryrare)\n",
    "    PC_veryrare = pd.DataFrame(data=PC_veryrare, columns=pc_labels_very_rare)\n",
    "except:\n",
    "    print(\"very rare is empty\")\n",
    "    PC_veryrare = pd.DataFrame(np.zeros((len(very_rare), 4)), columns=['PC1', 'PC2', 'PC3', 'PC4'])"
   ]
  },
  {
   "cell_type": "code",
   "execution_count": null,
   "id": "c967c447-ece7-4140-a4d1-d36ca72cae25",
   "metadata": {
    "execution": {
     "iopub.status.busy": "2025-06-30T16:15:17.413590Z",
     "iopub.status.idle": "2025-06-30T16:15:17.413715Z",
     "shell.execute_reply": "2025-06-30T16:15:17.413664Z",
     "shell.execute_reply.started": "2025-06-30T16:15:17.413658Z"
    }
   },
   "outputs": [],
   "source": [
    "to_have_collumns = ['populations', 'x', 'y', 'population']\n",
    "PC_complete[to_have_collumns] = humans[to_have_collumns]\n",
    "PC_common[to_have_collumns] = humans[to_have_collumns]\n",
    "PC_rare[to_have_collumns] = humans[to_have_collumns]\n",
    "PC_veryrare[to_have_collumns] = humans[to_have_collumns]"
   ]
  },
  {
   "cell_type": "code",
   "execution_count": null,
   "id": "c4f35a59-f374-4458-acdf-b7137ec8178d",
   "metadata": {
    "execution": {
     "iopub.status.busy": "2025-06-30T16:15:17.414414Z",
     "iopub.status.idle": "2025-06-30T16:15:17.414606Z",
     "shell.execute_reply": "2025-06-30T16:15:17.414510Z",
     "shell.execute_reply.started": "2025-06-30T16:15:17.414503Z"
    }
   },
   "outputs": [],
   "source": [
    "number_of_snps = complete.shape[1]\n",
    "number_of_individuals = complete.shape[0]"
   ]
  },
  {
   "cell_type": "code",
   "execution_count": null,
   "id": "fefd103d-b356-4a90-8502-6ab1c137abda",
   "metadata": {
    "execution": {
     "iopub.status.busy": "2025-06-30T16:15:17.415142Z",
     "iopub.status.idle": "2025-06-30T16:15:17.415289Z",
     "shell.execute_reply": "2025-06-30T16:15:17.415235Z",
     "shell.execute_reply.started": "2025-06-30T16:15:17.415230Z"
    }
   },
   "outputs": [],
   "source": [
    "# Generate color mapping for the 'humans' DataFrame\n",
    "colors = [map_to_color(x, y, z, humans) for x, y, z in zip(humans['x'], humans['y'], humans['z'])]\n",
    "# Create a figure with subplots\n",
    "fig, axes = plt.subplots(2, 2, figsize=(12, 10))\n",
    "\n",
    "dataframes = [PC_complete, PC_common, PC_rare, PC_veryrare]\n",
    "titles = [f\"Complete Dataset - {number_of_snps} SNPs\\n{number_of_individuals} samples\\nMigration rate {M}\",\n",
    "          f\"Common Variants - AF({common_threshold_L}/{common_threshold_H})\", \n",
    "          f\"Rare Variants - AF({rare_threshold_L}/{rare_threshold_H})\", \n",
    "          f\"Very Rare Variants - AF({very_rare_threshold_L}/{very_rare_threshold_H})\"]\n",
    "\n",
    "# Iterate through dataframes, axes, and titles\n",
    "for df, ax, title in zip(dataframes, axes.flatten(), titles):\n",
    "    # Count the unique values in the 'populations' column\n",
    "    unique_populations = df['populations'].nunique()\n",
    "    # Plotting the principal components with colors\n",
    "    ax.scatter(x=df['PC1'], y=df['PC2'], c=colors, s=40)\n",
    "    \n",
    "    ax.set_title(title)  # Set the title for the current subplot\n",
    "    ax.set_xlabel('PC 1')\n",
    "    ax.set_ylabel('PC 2')\n",
    "    ax.legend([],[], frameon=False) # This hides the legend\n",
    "\n",
    "# Adjust layout\n",
    "plt.tight_layout()\n",
    "\n",
    "# Show the plots\n",
    "plt.show()\n",
    "plt.close()"
   ]
  },
  {
   "cell_type": "markdown",
   "id": "246d86f2-a009-4065-8ef8-13fa8c8340d8",
   "metadata": {},
   "source": [
    "# Save data"
   ]
  },
  {
   "cell_type": "code",
   "execution_count": null,
   "id": "a50099dc-205c-4e45-a8f6-01fb1eabe366",
   "metadata": {
    "execution": {
     "iopub.status.busy": "2025-06-30T16:15:17.416852Z",
     "iopub.status.idle": "2025-06-30T16:15:17.417025Z",
     "shell.execute_reply": "2025-06-30T16:15:17.416965Z",
     "shell.execute_reply.started": "2025-06-30T16:15:17.416959Z"
    }
   },
   "outputs": [],
   "source": [
    "path_geno = f\"simulation_data/G{G}_L{L}_c{c}_k{k}_M{M}_F{F}/genotype\"\n",
    "path_pheno = f\"simulation_data/G{G}_L{L}_c{c}_k{k}_M{M}_F{F}/phenotype/\"\n",
    "os.makedirs(path_geno, exist_ok = True)\n",
    "os.makedirs(path_pheno,exist_ok=True)"
   ]
  },
  {
   "cell_type": "code",
   "execution_count": null,
   "id": "a6949c09-8bd0-4198-b2d1-a979500917c1",
   "metadata": {
    "execution": {
     "iopub.status.busy": "2025-06-30T16:15:17.417226Z",
     "iopub.status.idle": "2025-06-30T16:15:17.417342Z",
     "shell.execute_reply": "2025-06-30T16:15:17.417292Z",
     "shell.execute_reply.started": "2025-06-30T16:15:17.417287Z"
    }
   },
   "outputs": [],
   "source": [
    "complete.to_pickle(f\"{path_geno}/complete_inbred.pkl\")\n",
    "humans[['populations', 'x','y']].to_pickle(f\"{path_pheno}/inbred_humans.pkl\")"
   ]
  },
  {
   "cell_type": "code",
   "execution_count": null,
   "id": "07b90488-b4e1-4368-b5a3-5744c872a13d",
   "metadata": {},
   "outputs": [],
   "source": []
  }
 ],
 "metadata": {
  "kernelspec": {
   "display_name": "Python 3 (ipykernel)",
   "language": "python",
   "name": "python3"
  },
  "language_info": {
   "codemirror_mode": {
    "name": "ipython",
    "version": 3
   },
   "file_extension": ".py",
   "mimetype": "text/x-python",
   "name": "python",
   "nbconvert_exporter": "python",
   "pygments_lexer": "ipython3",
   "version": "3.10.6"
  }
 },
 "nbformat": 4,
 "nbformat_minor": 5
}
