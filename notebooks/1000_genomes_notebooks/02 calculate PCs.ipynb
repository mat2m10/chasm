{
 "cells": [
  {
   "cell_type": "markdown",
   "id": "cbff8130-14a1-40d7-9601-6cfe05d7aa94",
   "metadata": {
    "execution": {
     "iopub.execute_input": "2025-09-11T09:56:25.534547Z",
     "iopub.status.busy": "2025-09-11T09:56:25.533768Z",
     "iopub.status.idle": "2025-09-11T09:56:25.537537Z",
     "shell.execute_reply": "2025-09-11T09:56:25.537117Z",
     "shell.execute_reply.started": "2025-09-11T09:56:25.534515Z"
    }
   },
   "source": [
    "# Import libraries"
   ]
  },
  {
   "cell_type": "code",
   "execution_count": 13,
   "id": "3987dd82-7baf-4d0f-8117-1516bacc616a",
   "metadata": {
    "execution": {
     "iopub.execute_input": "2025-09-11T10:12:35.904821Z",
     "iopub.status.busy": "2025-09-11T10:12:35.904524Z",
     "iopub.status.idle": "2025-09-11T10:12:35.909250Z",
     "shell.execute_reply": "2025-09-11T10:12:35.908743Z",
     "shell.execute_reply.started": "2025-09-11T10:12:35.904804Z"
    }
   },
   "outputs": [],
   "source": [
    "from pathlib import Path\n",
    "import subprocess\n",
    "\n",
    "# point to your repo/data dirs\n",
    "plink2 = \"/home/mat2m10/code/mat2m10/chasm/plink2\"\n",
    "data_dir = Path(\"/home/mat2m10/code/mat2m10/chasm/data/1000G\")\n",
    "\n",
    "pgen = data_dir / \"all_phase3.pgen\"\n",
    "pvar = data_dir / \"all_phase3.pvar\"\n",
    "psam = data_dir / \"phase3_corrected.psam\"\n",
    "\n",
    "clean_prefix = data_dir / \"all_phase3_clean\"\n"
   ]
  },
  {
   "cell_type": "code",
   "execution_count": 14,
   "id": "9b5599dc-6552-43a3-8b16-58c193764448",
   "metadata": {
    "execution": {
     "iopub.execute_input": "2025-09-11T10:12:43.121156Z",
     "iopub.status.busy": "2025-09-11T10:12:43.120875Z",
     "iopub.status.idle": "2025-09-11T10:14:06.553247Z",
     "shell.execute_reply": "2025-09-11T10:14:06.542142Z",
     "shell.execute_reply.started": "2025-09-11T10:12:43.121137Z"
    }
   },
   "outputs": [
    {
     "name": "stdout",
     "output_type": "stream",
     "text": [
      "PLINK v2.0.0-a.7LM 64-bit Intel (1 Sep 2025)       cog-genomics.org/plink/2.0/\n",
      "(C) 2005-2025 Shaun Purcell, Christopher Chang   GNU General Public License v3\n",
      "Logging to /home/mat2m10/code/mat2m10/chasm/data/1000G/all_phase3_clean.log.\n",
      "Options in effect:\n",
      "  --make-pgen\n",
      "  --max-alleles 2\n",
      "  --new-id-max-allele-len 200 missing\n",
      "  --out /home/mat2m10/code/mat2m10/chasm/data/1000G/all_phase3_clean\n",
      "  --pgen /home/mat2m10/code/mat2m10/chasm/data/1000G/all_phase3.pgen\n",
      "  --psam /home/mat2m10/code/mat2m10/chasm/data/1000G/phase3_corrected.psam\n",
      "  --pvar /home/mat2m10/code/mat2m10/chasm/data/1000G/all_phase3.pvar\n",
      "  --rm-dup exclude-mismatch\n",
      "  --set-all-var-ids @:#:$r:$a\n",
      "  --snps-only just-acgt\n",
      "\n",
      "Start time: Thu Sep 11 12:12:43 2025\n",
      "15841 MiB RAM detected, ~14731 available; reserving 7920 MiB for main\n",
      "workspace.\n",
      "Using up to 28 threads (change this with --threads).\n",
      "2504 samples (1270 females, 1233 males, 1 ambiguous; 2497 founders) loaded from\n",
      "/home/mat2m10/code/mat2m10/chasm/data/1000G/phase3_corrected.psam.\n",
      "81106363 out of 84805772 variants loaded from\n",
      "/home/mat2m10/code/mat2m10/chasm/data/1000G/all_phase3.pvar.\n",
      "2 categorical phenotypes loaded.\n",
      "done.dup: Loading INFO field... \n",
      "Note: 6 duplicate IDs with inconsistent genotype data or variant information\n",
      "detected by --rm-dup exclude-mismatch; all copies removed.\n",
      "--rm-dup: 7 duplicated IDs, 13 variants removed.\n",
      "81106350 variants remaining after main filters.\n",
      "Writing /home/mat2m10/code/mat2m10/chasm/data/1000G/all_phase3_clean.psam ...\n",
      "done.\n",
      "Writing /home/mat2m10/code/mat2m10/chasm/data/1000G/all_phase3_clean.pvar ...\n",
      "done.\n",
      "Writing /home/mat2m10/code/mat2m10/chasm/data/1000G/all_phase3_clean.pgen ...\n",
      "done.\n",
      "End time: Thu Sep 11 12:14:06 2025\n"
     ]
    },
    {
     "data": {
      "text/plain": [
       "CompletedProcess(args=['/home/mat2m10/code/mat2m10/chasm/plink2', '--pgen', '/home/mat2m10/code/mat2m10/chasm/data/1000G/all_phase3.pgen', '--pvar', '/home/mat2m10/code/mat2m10/chasm/data/1000G/all_phase3.pvar', '--psam', '/home/mat2m10/code/mat2m10/chasm/data/1000G/phase3_corrected.psam', '--set-all-var-ids', '@:#:$r:$a', '--new-id-max-allele-len', '200', 'missing', '--snps-only', 'just-acgt', '--max-alleles', '2', '--rm-dup', 'exclude-mismatch', '--make-pgen', '--out', '/home/mat2m10/code/mat2m10/chasm/data/1000G/all_phase3_clean'], returncode=0)"
      ]
     },
     "execution_count": 14,
     "metadata": {},
     "output_type": "execute_result"
    }
   ],
   "source": [
    "cmd = [\n",
    "    plink2,\n",
    "    \"--pgen\", str(pgen),\n",
    "    \"--pvar\", str(pvar),\n",
    "    \"--psam\", str(psam),\n",
    "    \"--set-all-var-ids\", \"@:#:$r:$a\",\n",
    "    \"--new-id-max-allele-len\", \"200\", \"missing\",\n",
    "    \"--snps-only\", \"just-acgt\",\n",
    "    \"--max-alleles\", \"2\",\n",
    "    \"--rm-dup\", \"exclude-mismatch\",\n",
    "    \"--make-pgen\",\n",
    "    \"--out\", str(clean_prefix)\n",
    "]\n",
    "\n",
    "subprocess.run(cmd, check=True)"
   ]
  },
  {
   "cell_type": "code",
   "execution_count": null,
   "id": "a395fa63-6436-4e14-b4db-048655a4ee73",
   "metadata": {
    "execution": {
     "iopub.execute_input": "2025-09-11T10:18:43.191769Z",
     "iopub.status.busy": "2025-09-11T10:18:43.191469Z"
    }
   },
   "outputs": [
    {
     "name": "stdout",
     "output_type": "stream",
     "text": [
      "PLINK v2.0.0-a.7LM 64-bit Intel (1 Sep 2025)       cog-genomics.org/plink/2.0/\n",
      "(C) 2005-2025 Shaun Purcell, Christopher Chang   GNU General Public License v3\n",
      "Logging to /home/mat2m10/code/mat2m10/chasm/data/1000G/pca/all_phase3_clean.prune.log.\n",
      "Options in effect:\n",
      "  --indep-pairwise 1000 100 0.05\n",
      "  --out /home/mat2m10/code/mat2m10/chasm/data/1000G/pca/all_phase3_clean.prune\n",
      "  --pfile /home/mat2m10/code/mat2m10/chasm/data/1000G/all_phase3_clean\n",
      "  --threads 8\n",
      "\n",
      "Start time: Thu Sep 11 12:18:43 2025\n",
      "15841 MiB RAM detected, ~15031 available; reserving 7920 MiB for main\n",
      "workspace.\n",
      "Using up to 8 compute threads.\n",
      "2504 samples (1270 females, 1233 males, 1 ambiguous; 2497 founders) loaded from\n",
      "/home/mat2m10/code/mat2m10/chasm/data/1000G/all_phase3_clean.psam.\n",
      "81106350 variants loaded from\n",
      "/home/mat2m10/code/mat2m10/chasm/data/1000G/all_phase3_clean.pvar.\n",
      "2 categorical phenotypes loaded.\n",
      "Calculating alledone.\n",
      "47%ndep-pairwise (7 compute threads): 0%"
     ]
    }
   ],
   "source": [
    "out_dir = data_dir / \"pca\"\n",
    "out_dir.mkdir(exist_ok=True)\n",
    "\n",
    "# prune\n",
    "prune_prefix = out_dir / \"all_phase3_clean.prune\"\n",
    "cmd = [\n",
    "    plink2, \"--pfile\", str(clean_prefix),\n",
    "    \"--indep-pairwise\", \"1000\", \"100\", \"0.05\",\n",
    "    \"--threads\", \"8\",\n",
    "    \"--out\", str(prune_prefix)\n",
    "]\n",
    "subprocess.run(cmd, check=True)\n",
    "\n",
    "# PCA (exact) — supports >100 PCs\n",
    "pca_prefix = out_dir / \"all_phase3_clean.PCA\"\n",
    "cmd = [\n",
    "    plink2, \"--pfile\", str(clean_prefix),\n",
    "    \"--extract\", str(prune_prefix) + \".prune.in\",\n",
    "    \"--pca\", \"200\",\n",
    "    \"--threads\", \"8\",\n",
    "    \"--out\", str(pca_prefix)\n",
    "]\n",
    "subprocess.run(cmd, check=True)\n",
    "\n"
   ]
  },
  {
   "cell_type": "code",
   "execution_count": null,
   "id": "0aa1381b-53b8-4db1-b492-7c3ae2e3b74c",
   "metadata": {},
   "outputs": [],
   "source": [
    "import pandas as pd\n",
    "\n",
    "eigvec = Path(str(pca_prefix) + \".eigenvec\")\n",
    "pcs_df = pd.read_csv(eigvec, delim_whitespace=True, header=None)\n",
    "pcs_df.columns = [\"FID\", \"IID\"] + [f\"PC{i}\" for i in range(1, pcs_df.shape[1]-1)]\n"
   ]
  },
  {
   "cell_type": "code",
   "execution_count": null,
   "id": "72def5e8-dc88-4a95-97bc-c25190a42500",
   "metadata": {},
   "outputs": [],
   "source": [
    "pcs_df"
   ]
  },
  {
   "cell_type": "code",
   "execution_count": null,
   "id": "d5b15ba7-8adf-4347-8404-b0fb9f56c9e9",
   "metadata": {},
   "outputs": [],
   "source": []
  },
  {
   "cell_type": "code",
   "execution_count": null,
   "id": "431fa535-dbdc-431c-81b8-1857a9840cce",
   "metadata": {},
   "outputs": [],
   "source": []
  },
  {
   "cell_type": "code",
   "execution_count": null,
   "id": "549230bc-79e5-467e-b1b7-f9db24a13006",
   "metadata": {},
   "outputs": [],
   "source": []
  },
  {
   "cell_type": "code",
   "execution_count": null,
   "id": "6e20987b-4750-4291-9dd5-fa3668e204b7",
   "metadata": {},
   "outputs": [],
   "source": []
  },
  {
   "cell_type": "code",
   "execution_count": 12,
   "id": "92595e47-79ea-4dde-9785-346a9e7b2960",
   "metadata": {
    "execution": {
     "iopub.execute_input": "2025-09-11T10:10:48.285854Z",
     "iopub.status.busy": "2025-09-11T10:10:48.284694Z",
     "iopub.status.idle": "2025-09-11T10:10:48.304965Z",
     "shell.execute_reply": "2025-09-11T10:10:48.304208Z",
     "shell.execute_reply.started": "2025-09-11T10:10:48.285839Z"
    }
   },
   "outputs": [
    {
     "ename": "NameError",
     "evalue": "name 'D' is not defined",
     "output_type": "error",
     "traceback": [
      "\u001b[0;31m---------------------------------------------------------------------------\u001b[0m",
      "\u001b[0;31mNameError\u001b[0m                                 Traceback (most recent call last)",
      "Cell \u001b[0;32mIn[12], line 14\u001b[0m\n\u001b[1;32m     11\u001b[0m     subprocess\u001b[38;5;241m.\u001b[39mrun(cmd, check\u001b[38;5;241m=\u001b[39m\u001b[38;5;28;01mTrue\u001b[39;00m, text\u001b[38;5;241m=\u001b[39m\u001b[38;5;28;01mTrue\u001b[39;00m, capture_output\u001b[38;5;241m=\u001b[39m\u001b[38;5;28;01mTrue\u001b[39;00m)\n\u001b[1;32m     13\u001b[0m \u001b[38;5;66;03m# usage inside pcs_from_pgen():\u001b[39;00m\n\u001b[0;32m---> 14\u001b[0m pgen \u001b[38;5;241m=\u001b[39m Path(D)\u001b[38;5;241m/\u001b[39m\u001b[38;5;124m\"\u001b[39m\u001b[38;5;124mall_phase3.pgen\u001b[39m\u001b[38;5;124m\"\u001b[39m; pvar \u001b[38;5;241m=\u001b[39m Path(D)\u001b[38;5;241m/\u001b[39m\u001b[38;5;124m\"\u001b[39m\u001b[38;5;124mall_phase3.pvar\u001b[39m\u001b[38;5;124m\"\u001b[39m; psam \u001b[38;5;241m=\u001b[39m Path(D)\u001b[38;5;241m/\u001b[39m\u001b[38;5;124m\"\u001b[39m\u001b[38;5;124mphase3_corrected.psam\u001b[39m\u001b[38;5;124m\"\u001b[39m\n\u001b[1;32m     15\u001b[0m clean \u001b[38;5;241m=\u001b[39m Path(D)\u001b[38;5;241m/\u001b[39m\u001b[38;5;124m\"\u001b[39m\u001b[38;5;124mall_phase3_clean\u001b[39m\u001b[38;5;124m\"\u001b[39m\n\u001b[1;32m     16\u001b[0m \u001b[38;5;28;01mif\u001b[39;00m \u001b[38;5;129;01mnot\u001b[39;00m (clean\u001b[38;5;241m.\u001b[39mwith_suffix(\u001b[38;5;124m\"\u001b[39m\u001b[38;5;124m.pgen\u001b[39m\u001b[38;5;124m\"\u001b[39m))\u001b[38;5;241m.\u001b[39mexists():\n",
      "\u001b[0;31mNameError\u001b[0m: name 'D' is not defined"
     ]
    }
   ],
   "source": []
  },
  {
   "cell_type": "code",
   "execution_count": 11,
   "id": "7000f249-1415-4969-84e4-10a4ac134e07",
   "metadata": {
    "execution": {
     "iopub.execute_input": "2025-09-11T10:09:33.764305Z",
     "iopub.status.busy": "2025-09-11T10:09:33.764088Z",
     "iopub.status.idle": "2025-09-11T10:09:44.960263Z",
     "shell.execute_reply": "2025-09-11T10:09:44.959472Z",
     "shell.execute_reply.started": "2025-09-11T10:09:33.764292Z"
    }
   },
   "outputs": [
    {
     "name": "stdout",
     "output_type": "stream",
     "text": [
      "COMMAND FAILED:\n",
      " /home/mat2m10/code/mat2m10/chasm/plink2 --pfile /home/mat2m10/code/mat2m10/chasm/data/1000G/all_phase3 --indep-pairwise 1000 100 0.05 --threads 8 --out /home/mat2m10/code/mat2m10/chasm/data/1000G/pca/all_phase3.prune\n",
      "\n",
      "--- STDERR ---\n",
      " Error: --indep-pairwise requires unique variant IDs. (--set-all-var-ids and/or\n",
      "--rm-dup may help.)\n",
      "\n"
     ]
    },
    {
     "ename": "CalledProcessError",
     "evalue": "Command '['/home/mat2m10/code/mat2m10/chasm/plink2', '--pfile', '/home/mat2m10/code/mat2m10/chasm/data/1000G/all_phase3', '--indep-pairwise', '1000', '100', '0.05', '--threads', '8', '--out', '/home/mat2m10/code/mat2m10/chasm/data/1000G/pca/all_phase3.prune']' returned non-zero exit status 7.",
     "output_type": "error",
     "traceback": [
      "\u001b[0;31m---------------------------------------------------------------------------\u001b[0m",
      "\u001b[0;31mCalledProcessError\u001b[0m                        Traceback (most recent call last)",
      "Cell \u001b[0;32mIn[11], line 61\u001b[0m\n\u001b[1;32m     57\u001b[0m     \u001b[38;5;66;03m# optional: save a convenient copy\u001b[39;00m\n\u001b[1;32m     58\u001b[0m     \u001b[38;5;66;03m#df.to_parquet(Path(pca_prefix + \".parquet\"), index=False)\u001b[39;00m\n\u001b[1;32m     59\u001b[0m     \u001b[38;5;28;01mreturn\u001b[39;00m df\n\u001b[0;32m---> 61\u001b[0m pcs_df \u001b[38;5;241m=\u001b[39m \u001b[43mpcs_from_pgen\u001b[49m\u001b[43m(\u001b[49m\u001b[43m)\u001b[49m\n\u001b[1;32m     62\u001b[0m pcs_df\u001b[38;5;241m.\u001b[39mhead()\n",
      "Cell \u001b[0;32mIn[11], line 34\u001b[0m, in \u001b[0;36mpcs_from_pgen\u001b[0;34m(path_data, pfile_prefix, path_plink, out_dir, n_pcs, threads, longrange_bed, indep_kb, indep_step, indep_r2)\u001b[0m\n\u001b[1;32m     32\u001b[0m \u001b[38;5;28;01mif\u001b[39;00m longrange_bed:\n\u001b[1;32m     33\u001b[0m     indep_cmd[\u001b[38;5;241m2\u001b[39m:\u001b[38;5;241m2\u001b[39m] \u001b[38;5;241m=\u001b[39m [\u001b[38;5;124m\"\u001b[39m\u001b[38;5;124m--exclude\u001b[39m\u001b[38;5;124m\"\u001b[39m, \u001b[38;5;124m\"\u001b[39m\u001b[38;5;124mbed3\u001b[39m\u001b[38;5;124m\"\u001b[39m, \u001b[38;5;28mstr\u001b[39m(Path(longrange_bed)\u001b[38;5;241m.\u001b[39mresolve())]\n\u001b[0;32m---> 34\u001b[0m \u001b[43msh\u001b[49m\u001b[43m(\u001b[49m\u001b[43mindep_cmd\u001b[49m\u001b[43m)\u001b[49m\n\u001b[1;32m     36\u001b[0m prune_in \u001b[38;5;241m=\u001b[39m Path(prune_tag \u001b[38;5;241m+\u001b[39m \u001b[38;5;124m\"\u001b[39m\u001b[38;5;124m.prune.in\u001b[39m\u001b[38;5;124m\"\u001b[39m)\n\u001b[1;32m     37\u001b[0m \u001b[38;5;28;01mif\u001b[39;00m \u001b[38;5;129;01mnot\u001b[39;00m prune_in\u001b[38;5;241m.\u001b[39mexists() \u001b[38;5;129;01mor\u001b[39;00m \u001b[38;5;28msum\u001b[39m(\u001b[38;5;241m1\u001b[39m \u001b[38;5;28;01mfor\u001b[39;00m _ \u001b[38;5;129;01min\u001b[39;00m \u001b[38;5;28mopen\u001b[39m(prune_in)) \u001b[38;5;241m<\u001b[39m \u001b[38;5;28mmax\u001b[39m(\u001b[38;5;241m1000\u001b[39m, \u001b[38;5;241m3\u001b[39m\u001b[38;5;241m*\u001b[39mn_pcs):\n\u001b[1;32m     38\u001b[0m     \u001b[38;5;66;03m# back off to a looser pruning if we were too aggressive\u001b[39;00m\n",
      "Cell \u001b[0;32mIn[11], line 7\u001b[0m, in \u001b[0;36msh\u001b[0;34m(cmd)\u001b[0m\n\u001b[1;32m      5\u001b[0m \u001b[38;5;28;01mdef\u001b[39;00m\u001b[38;5;250m \u001b[39m\u001b[38;5;21msh\u001b[39m(cmd):\n\u001b[1;32m      6\u001b[0m     \u001b[38;5;28;01mtry\u001b[39;00m:\n\u001b[0;32m----> 7\u001b[0m         \u001b[38;5;28;01mreturn\u001b[39;00m \u001b[43msubprocess\u001b[49m\u001b[38;5;241;43m.\u001b[39;49m\u001b[43mrun\u001b[49m\u001b[43m(\u001b[49m\u001b[43mcmd\u001b[49m\u001b[43m,\u001b[49m\u001b[43m \u001b[49m\u001b[43mcheck\u001b[49m\u001b[38;5;241;43m=\u001b[39;49m\u001b[38;5;28;43;01mTrue\u001b[39;49;00m\u001b[43m,\u001b[49m\u001b[43m \u001b[49m\u001b[43mtext\u001b[49m\u001b[38;5;241;43m=\u001b[39;49m\u001b[38;5;28;43;01mTrue\u001b[39;49;00m\u001b[43m,\u001b[49m\u001b[43m \u001b[49m\u001b[43mcapture_output\u001b[49m\u001b[38;5;241;43m=\u001b[39;49m\u001b[38;5;28;43;01mTrue\u001b[39;49;00m\u001b[43m)\u001b[49m\n\u001b[1;32m      8\u001b[0m     \u001b[38;5;28;01mexcept\u001b[39;00m subprocess\u001b[38;5;241m.\u001b[39mCalledProcessError \u001b[38;5;28;01mas\u001b[39;00m e:\n\u001b[1;32m      9\u001b[0m         \u001b[38;5;28mprint\u001b[39m(\u001b[38;5;124m\"\u001b[39m\u001b[38;5;124mCOMMAND FAILED:\u001b[39m\u001b[38;5;130;01m\\n\u001b[39;00m\u001b[38;5;124m\"\u001b[39m, \u001b[38;5;124m\"\u001b[39m\u001b[38;5;124m \u001b[39m\u001b[38;5;124m\"\u001b[39m\u001b[38;5;241m.\u001b[39mjoin(cmd))\n",
      "File \u001b[0;32m~/.pyenv/versions/3.12.9/lib/python3.12/subprocess.py:573\u001b[0m, in \u001b[0;36mrun\u001b[0;34m(input, capture_output, timeout, check, *popenargs, **kwargs)\u001b[0m\n\u001b[1;32m    571\u001b[0m     retcode \u001b[38;5;241m=\u001b[39m process\u001b[38;5;241m.\u001b[39mpoll()\n\u001b[1;32m    572\u001b[0m     \u001b[38;5;28;01mif\u001b[39;00m check \u001b[38;5;129;01mand\u001b[39;00m retcode:\n\u001b[0;32m--> 573\u001b[0m         \u001b[38;5;28;01mraise\u001b[39;00m CalledProcessError(retcode, process\u001b[38;5;241m.\u001b[39margs,\n\u001b[1;32m    574\u001b[0m                                  output\u001b[38;5;241m=\u001b[39mstdout, stderr\u001b[38;5;241m=\u001b[39mstderr)\n\u001b[1;32m    575\u001b[0m \u001b[38;5;28;01mreturn\u001b[39;00m CompletedProcess(process\u001b[38;5;241m.\u001b[39margs, retcode, stdout, stderr)\n",
      "\u001b[0;31mCalledProcessError\u001b[0m: Command '['/home/mat2m10/code/mat2m10/chasm/plink2', '--pfile', '/home/mat2m10/code/mat2m10/chasm/data/1000G/all_phase3', '--indep-pairwise', '1000', '100', '0.05', '--threads', '8', '--out', '/home/mat2m10/code/mat2m10/chasm/data/1000G/pca/all_phase3.prune']' returned non-zero exit status 7."
     ]
    }
   ],
   "source": [
    "import subprocess\n",
    "from pathlib import Path\n",
    "import pandas as pd\n",
    "\n",
    "def ensure_unique_ids_and_clean(plink2, pgen, pvar, psam, out_prefix):\n",
    "    cmd = [\n",
    "        plink2, \"--pgen\", str(pgen), \"--pvar\", str(pvar), \"--psam\", str(psam),\n",
    "        \"--set-all-var-ids\", \"@:#:$r:$a\",\n",
    "        \"--new-id-max-allele-len\", \"200\", \"missing\",\n",
    "        \"--snps-only\", \"just-acgt\",\n",
    "        \"--max-alleles\", \"2\",\n",
    "        \"--rm-dup\", \"exclude-mismatch\",\n",
    "        \"--make-pgen\", \"--out\", str(out_prefix)\n",
    "    ]\n",
    "    subprocess.run(cmd, check=True, text=True, capture_output=True)\n",
    "\n",
    "# usage inside pcs_from_pgen():\n",
    "pgen = Path(D)/\"all_phase3.pgen\"; pvar = Path(D)/\"all_phase3.pvar\"; psam = Path(D)/\"phase3_corrected.psam\"\n",
    "clean = Path(D)/\"all_phase3_clean\"\n",
    "if not (clean.with_suffix(\".pgen\")).exists():\n",
    "    ensure_unique_ids_and_clean(plink2, pgen, pvar, psam, clean)\n",
    "# then run prune/PCA on 'all_phase3_clean' as the --pfile prefix\n",
    "\n",
    "\n",
    "def sh(cmd):\n",
    "    try:\n",
    "        return subprocess.run(cmd, check=True, text=True, capture_output=True)\n",
    "    except subprocess.CalledProcessError as e:\n",
    "        print(\"COMMAND FAILED:\\n\", \" \".join(cmd))\n",
    "        print(\"\\n--- STDERR ---\\n\", e.stderr)\n",
    "        raise\n",
    "\n",
    "def pcs_from_pgen(\n",
    "    path_data=\"../../data/1000G\",\n",
    "    pfile_prefix=\"all_phase3\",          # you have all_phase3.pgen/pvar/psam\n",
    "    path_plink=\"../../\",                 # dir containing plink2\n",
    "    out_dir=\"../../data/1000G/pca\",\n",
    "    n_pcs=200, threads=8,\n",
    "    longrange_bed=None,                 # e.g. \"../../refs/longrangeLD.bed\"\n",
    "    indep_kb=1000, indep_step=100, indep_r2=0.05  # fairly aggressive to speed up\n",
    "):\n",
    "    path_data  = Path(path_data).resolve()\n",
    "    out_dir    = Path(out_dir).resolve(); out_dir.mkdir(parents=True, exist_ok=True)\n",
    "    plink2    = str((Path(path_plink).resolve() / \"plink2\").resolve())\n",
    "    pfile_abs = str((path_data / pfile_prefix).resolve())\n",
    "\n",
    "    # 1) (Optional) exclude long-range LD regions during pruning\n",
    "    prune_tag = str((out_dir / f\"{pfile_prefix}.prune\").resolve())\n",
    "    indep_cmd = [plink2, \"--pfile\", pfile_abs,\n",
    "                 \"--indep-pairwise\", str(indep_kb), str(indep_step), str(indep_r2),\n",
    "                 \"--threads\", str(threads), \"--out\", prune_tag]\n",
    "    if longrange_bed:\n",
    "        indep_cmd[2:2] = [\"--exclude\", \"bed3\", str(Path(longrange_bed).resolve())]\n",
    "    sh(indep_cmd)\n",
    "\n",
    "    prune_in = Path(prune_tag + \".prune.in\")\n",
    "    if not prune_in.exists() or sum(1 for _ in open(prune_in)) < max(1000, 3*n_pcs):\n",
    "        # back off to a looser pruning if we were too aggressive\n",
    "        prune_tag = str((out_dir / f\"{pfile_prefix}.prune_loose\").resolve())\n",
    "        sh([plink2, \"--pfile\", pfile_abs,\n",
    "            \"--indep-pairwise\", \"1000\", \"50\", \"0.1\",\n",
    "            \"--threads\", str(threads), \"--out\", prune_tag])\n",
    "        prune_in = Path(prune_tag + \".prune.in\")\n",
    "\n",
    "    # 2) PCA directly from PGEN + extract list (no intermediate BED paths!)\n",
    "    pca_prefix = str((out_dir / f\"{pfile_prefix}.PCA\").resolve())\n",
    "    sh([plink2, \"--pfile\", pfile_abs,\n",
    "        \"--extract\", str(prune_in),\n",
    "        \"--pca\", str(n_pcs), \"approx\",\n",
    "        \"--threads\", str(threads),\n",
    "        \"--out\", pca_prefix])\n",
    "\n",
    "    # 3) Load to pandas\n",
    "    eigvec = Path(pca_prefix + \".eigenvec\")\n",
    "    df = pd.read_csv(eigvec, delim_whitespace=True, header=None)\n",
    "    df.columns = [\"FID\",\"IID\"] + [f\"PC{i}\" for i in range(1, df.shape[1]-1)]\n",
    "    # optional: save a convenient copy\n",
    "    #df.to_parquet(Path(pca_prefix + \".parquet\"), index=False)\n",
    "    return df\n",
    "\n",
    "pcs_df = pcs_from_pgen()\n",
    "pcs_df.head()\n"
   ]
  },
  {
   "cell_type": "code",
   "execution_count": 4,
   "id": "272ed49a-d4a7-4aad-bc70-3b18692d2763",
   "metadata": {
    "execution": {
     "iopub.execute_input": "2025-09-11T10:04:18.610377Z",
     "iopub.status.busy": "2025-09-11T10:04:18.609977Z",
     "iopub.status.idle": "2025-09-11T10:04:18.622280Z",
     "shell.execute_reply": "2025-09-11T10:04:18.621406Z",
     "shell.execute_reply.started": "2025-09-11T10:04:18.610363Z"
    }
   },
   "outputs": [
    {
     "ename": "NameError",
     "evalue": "name 'pcs_df' is not defined",
     "output_type": "error",
     "traceback": [
      "\u001b[0;31m---------------------------------------------------------------------------\u001b[0m",
      "\u001b[0;31mNameError\u001b[0m                                 Traceback (most recent call last)",
      "Cell \u001b[0;32mIn[4], line 1\u001b[0m\n\u001b[0;32m----> 1\u001b[0m \u001b[43mpcs_df\u001b[49m\n",
      "\u001b[0;31mNameError\u001b[0m: name 'pcs_df' is not defined"
     ]
    }
   ],
   "source": [
    "pcs_df"
   ]
  },
  {
   "cell_type": "code",
   "execution_count": null,
   "id": "c4111c02-14bc-4739-af61-9d67d5d63b3a",
   "metadata": {},
   "outputs": [],
   "source": []
  }
 ],
 "metadata": {
  "kernelspec": {
   "display_name": "Python 3 (ipykernel)",
   "language": "python",
   "name": "python3"
  },
  "language_info": {
   "codemirror_mode": {
    "name": "ipython",
    "version": 3
   },
   "file_extension": ".py",
   "mimetype": "text/x-python",
   "name": "python",
   "nbconvert_exporter": "python",
   "pygments_lexer": "ipython3",
   "version": "3.12.9"
  }
 },
 "nbformat": 4,
 "nbformat_minor": 5
}
