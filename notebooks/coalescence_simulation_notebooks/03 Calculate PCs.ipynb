{
 "cells": [
  {
   "cell_type": "markdown",
   "id": "98c2d298-e394-4257-bb53-237e71c07fe7",
   "metadata": {},
   "source": [
    "# Import libraries"
   ]
  },
  {
   "cell_type": "code",
   "execution_count": 1,
   "id": "c14d092a-7a7b-4053-acc1-a2da1acfe8a9",
   "metadata": {
    "execution": {
     "iopub.execute_input": "2025-08-27T13:35:31.356947Z",
     "iopub.status.busy": "2025-08-27T13:35:31.356271Z",
     "iopub.status.idle": "2025-08-27T13:35:32.477955Z",
     "shell.execute_reply": "2025-08-27T13:35:32.477521Z",
     "shell.execute_reply.started": "2025-08-27T13:35:31.356922Z"
    }
   },
   "outputs": [],
   "source": [
    "import os\n",
    "import subprocess\n",
    "import pandas as pd\n",
    "import numpy as np\n",
    "from sklearn.preprocessing import StandardScaler\n",
    "from sklearn.decomposition import PCA\n",
    "import seaborn as sns\n",
    "import matplotlib.pyplot as plt\n",
    "import statsmodels.api as sm\n",
    "import scipy.stats as stats\n",
    "import importlib.util\n",
    "import sys\n",
    "from pathlib import Path\n",
    "import re\n",
    "import joblib\n",
    "from pathlib import Path"
   ]
  },
  {
   "cell_type": "markdown",
   "id": "99a201f1-0b6a-4659-a760-44a232aa7f38",
   "metadata": {},
   "source": [
    "# Load data"
   ]
  },
  {
   "cell_type": "code",
   "execution_count": 2,
   "id": "ef11fb3b-956b-4245-acef-4b6009540300",
   "metadata": {
    "execution": {
     "iopub.execute_input": "2025-08-27T13:35:32.478849Z",
     "iopub.status.busy": "2025-08-27T13:35:32.478593Z",
     "iopub.status.idle": "2025-08-27T13:35:32.481631Z",
     "shell.execute_reply": "2025-08-27T13:35:32.481122Z",
     "shell.execute_reply.started": "2025-08-27T13:35:32.478838Z"
    }
   },
   "outputs": [],
   "source": [
    "from scripts.parse_vars import parse_variables, load_config"
   ]
  },
  {
   "cell_type": "code",
   "execution_count": 3,
   "id": "5d684411-fdb9-456c-a6f3-ab90e67951b2",
   "metadata": {
    "execution": {
     "iopub.execute_input": "2025-08-27T13:35:32.482100Z",
     "iopub.status.busy": "2025-08-27T13:35:32.481985Z",
     "iopub.status.idle": "2025-08-27T13:35:32.486688Z",
     "shell.execute_reply": "2025-08-27T13:35:32.486097Z",
     "shell.execute_reply.started": "2025-08-27T13:35:32.482091Z"
    }
   },
   "outputs": [],
   "source": [
    "PATH_VARS = Path(\"../../geno_simulation.txt\")\n",
    "R_DIRECTORY = Path(\"../../rstudio_geno_simulation\")\n",
    "\n",
    "# Random seed for reproducibility of the flip step\n",
    "RNG_SEED = 42\n",
    "rng = np.random.default_rng(RNG_SEED)\n",
    "cfg = load_config(PATH_VARS)\n",
    "G = int(cfg[\"G\"]); L = int(cfg[\"L\"]); c = int(cfg[\"c\"]); k = int(cfg[\"k\"]); M = float(cfg[\"M\"]);\n"
   ]
  },
  {
   "cell_type": "code",
   "execution_count": 4,
   "id": "a4542b3c-fd79-4843-9eea-294a7940909a",
   "metadata": {
    "execution": {
     "iopub.execute_input": "2025-08-27T13:35:32.487882Z",
     "iopub.status.busy": "2025-08-27T13:35:32.487520Z",
     "iopub.status.idle": "2025-08-27T13:35:32.492936Z",
     "shell.execute_reply": "2025-08-27T13:35:32.492489Z",
     "shell.execute_reply.started": "2025-08-27T13:35:32.487840Z"
    }
   },
   "outputs": [],
   "source": [
    "# Build prefix pattern for filtering\n",
    "prefix = f\"G{G}_L{L}_c{c}_k{k}_M{M}\"\n",
    "\n",
    "# Filter only relevant directories\n",
    "filtered = [d for d in os.listdir(\"simulation_data\") if d.startswith(prefix)]\n",
    "# Extract F values and mixed cases\n",
    "F_values = []\n",
    "mixed_cases = []\n",
    "\n",
    "for d in filtered:\n",
    "    # Check if F is present\n",
    "    match_F = re.search(r\"F([0-9.]+)\", d)\n",
    "    if match_F:\n",
    "        F_values.append(float(match_F.group(1)))\n",
    "\n",
    "    # Check if mixed is present\n",
    "    match_mixed = re.search(r\"(mixed_[^/]+)\", d)\n",
    "    if match_mixed:\n",
    "        mixed_cases.append(match_mixed.group(1))"
   ]
  },
  {
   "cell_type": "code",
   "execution_count": 5,
   "id": "fdb8f0f6-50fd-4e58-90d8-818dc482a8ca",
   "metadata": {
    "execution": {
     "iopub.execute_input": "2025-08-27T13:35:32.493492Z",
     "iopub.status.busy": "2025-08-27T13:35:32.493374Z",
     "iopub.status.idle": "2025-08-27T13:35:32.502055Z",
     "shell.execute_reply": "2025-08-27T13:35:32.501410Z",
     "shell.execute_reply.started": "2025-08-27T13:35:32.493482Z"
    }
   },
   "outputs": [],
   "source": [
    "def compute_and_save_pcs(\n",
    "    X: np.ndarray,\n",
    "    outdir: Path,\n",
    "    basename: str,\n",
    "    pc_counts=(1,5,15,35,40,50,100),\n",
    "    n_max=None,\n",
    "    randomized=True,\n",
    "    float_dtype=np.float32,\n",
    "    seed=42\n",
    "):\n",
    "    outdir.mkdir(parents=True, exist_ok=True)\n",
    "    n_max = n_max or max(pc_counts)\n",
    "\n",
    "    # 1) Standardize once\n",
    "    scaler = StandardScaler(with_mean=True, with_std=True)\n",
    "    X_std = scaler.fit_transform(X.astype(float_dtype, copy=False))\n",
    "\n",
    "    # 2) Fit PCA once up to the largest k\n",
    "    pca = PCA(\n",
    "        n_components=n_max,\n",
    "        svd_solver=\"randomized\" if randomized else \"full\",\n",
    "        random_state=seed\n",
    "    )\n",
    "    scores = pca.fit_transform(X_std)        # shape: (n_samples, n_max)\n",
    "\n",
    "    # 3) Persist model bits for reuse/repro\n",
    "    joblib.dump({\"scaler\": scaler, \"pca\": pca}, outdir / f\"{basename}_pca_model.joblib\")\n",
    "    pd.DataFrame({\n",
    "        \"pc\": np.arange(1, n_max+1),\n",
    "        \"explained_variance_ratio\": pca.explained_variance_ratio_\n",
    "    }).to_pickle(outdir / f\"{basename}_explained_variance.pkl\")\n",
    "\n",
    "    # 4) Write all requested subsets without refitting\n",
    "    for k in sorted(set(pc_counts)):\n",
    "        df = pd.DataFrame(scores[:, :k], columns=[f\"PC{i}\" for i in range(1, k+1)])\n",
    "        df.to_pickle(outdir / f\"{basename}_{k}_PCs.pkl\")\n",
    "\n",
    "    return scores, pca, scaler\n"
   ]
  },
  {
   "cell_type": "code",
   "execution_count": 8,
   "id": "84c658b9-23b6-487d-9bf5-7c82487f2f30",
   "metadata": {
    "execution": {
     "iopub.execute_input": "2025-08-27T13:40:33.648902Z",
     "iopub.status.busy": "2025-08-27T13:40:33.647601Z",
     "iopub.status.idle": "2025-08-27T13:40:33.652088Z",
     "shell.execute_reply": "2025-08-27T13:40:33.651585Z",
     "shell.execute_reply.started": "2025-08-27T13:40:33.648866Z"
    }
   },
   "outputs": [],
   "source": [
    "pc_range = [1, 5, 15, 35, 40, 50, 60, 100, 110, 130, 150, 170, 200]\n",
    "n_max = max(pc_range)\n"
   ]
  },
  {
   "cell_type": "code",
   "execution_count": 9,
   "id": "1f85d2c7-d74d-4197-9fa0-bd7efa09ed74",
   "metadata": {
    "execution": {
     "iopub.execute_input": "2025-08-27T13:40:34.873648Z",
     "iopub.status.busy": "2025-08-27T13:40:34.873291Z",
     "iopub.status.idle": "2025-08-27T13:40:56.780126Z",
     "shell.execute_reply": "2025-08-27T13:40:56.769297Z",
     "shell.execute_reply.started": "2025-08-27T13:40:34.873625Z"
    }
   },
   "outputs": [],
   "source": [
    "for mixed_case in mixed_cases:\n",
    "    base_path = f\"simulation_data/G{G}_L{L}_c{c}_k{k}_M{M}_{mixed_case}\"\n",
    "    path_geno = f\"{base_path}/genotype\"\n",
    "    geno = pd.read_pickle((f\"{path_geno}/complete.pkl\"))\n",
    "\n",
    "    base = Path(f\"{base_path}/PCs\")\n",
    "    compute_and_save_pcs(geno,  base, \"geno\",  pc_range, n_max)"
   ]
  },
  {
   "cell_type": "code",
   "execution_count": null,
   "id": "e3c21273-d500-4f20-9a75-ab82abdef07f",
   "metadata": {},
   "outputs": [],
   "source": []
  }
 ],
 "metadata": {
  "kernelspec": {
   "display_name": "Python 3 (ipykernel)",
   "language": "python",
   "name": "python3"
  },
  "language_info": {
   "codemirror_mode": {
    "name": "ipython",
    "version": 3
   },
   "file_extension": ".py",
   "mimetype": "text/x-python",
   "name": "python",
   "nbconvert_exporter": "python",
   "pygments_lexer": "ipython3",
   "version": "3.12.9"
  }
 },
 "nbformat": 4,
 "nbformat_minor": 5
}
