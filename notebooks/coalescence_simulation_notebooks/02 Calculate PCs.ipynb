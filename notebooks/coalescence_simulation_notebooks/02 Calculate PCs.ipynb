{
 "cells": [
  {
   "cell_type": "markdown",
   "id": "98c2d298-e394-4257-bb53-237e71c07fe7",
   "metadata": {},
   "source": [
    "# Import libraries"
   ]
  },
  {
   "cell_type": "code",
   "execution_count": 15,
   "id": "c14d092a-7a7b-4053-acc1-a2da1acfe8a9",
   "metadata": {
    "execution": {
     "iopub.execute_input": "2025-08-27T08:33:14.865372Z",
     "iopub.status.busy": "2025-08-27T08:33:14.864979Z",
     "iopub.status.idle": "2025-08-27T08:33:14.869732Z",
     "shell.execute_reply": "2025-08-27T08:33:14.869183Z",
     "shell.execute_reply.started": "2025-08-27T08:33:14.865353Z"
    }
   },
   "outputs": [],
   "source": [
    "import os\n",
    "import subprocess\n",
    "import pandas as pd\n",
    "import numpy as np\n",
    "from sklearn.preprocessing import StandardScaler\n",
    "from sklearn.decomposition import PCA\n",
    "import seaborn as sns\n",
    "import matplotlib.pyplot as plt\n",
    "import statsmodels.api as sm\n",
    "import scipy.stats as stats\n",
    "import importlib.util\n",
    "import sys\n",
    "from pathlib import Path\n",
    "import re\n",
    "import joblib\n",
    "from pathlib import Path"
   ]
  },
  {
   "cell_type": "markdown",
   "id": "99a201f1-0b6a-4659-a760-44a232aa7f38",
   "metadata": {},
   "source": [
    "# Load data"
   ]
  },
  {
   "cell_type": "code",
   "execution_count": 16,
   "id": "ef11fb3b-956b-4245-acef-4b6009540300",
   "metadata": {
    "execution": {
     "iopub.execute_input": "2025-08-27T08:33:14.871002Z",
     "iopub.status.busy": "2025-08-27T08:33:14.870879Z",
     "iopub.status.idle": "2025-08-27T08:33:14.879586Z",
     "shell.execute_reply": "2025-08-27T08:33:14.879020Z",
     "shell.execute_reply.started": "2025-08-27T08:33:14.870992Z"
    }
   },
   "outputs": [],
   "source": [
    "from scripts.parse_vars import parse_variables, load_config"
   ]
  },
  {
   "cell_type": "code",
   "execution_count": 17,
   "id": "5d684411-fdb9-456c-a6f3-ab90e67951b2",
   "metadata": {
    "execution": {
     "iopub.execute_input": "2025-08-27T08:33:14.880237Z",
     "iopub.status.busy": "2025-08-27T08:33:14.880098Z",
     "iopub.status.idle": "2025-08-27T08:33:14.885008Z",
     "shell.execute_reply": "2025-08-27T08:33:14.884533Z",
     "shell.execute_reply.started": "2025-08-27T08:33:14.880227Z"
    }
   },
   "outputs": [],
   "source": [
    "PATH_VARS = Path(\"../../geno_simulation.txt\")\n",
    "R_DIRECTORY = Path(\"../../rstudio_geno_simulation\")\n",
    "\n",
    "# Random seed for reproducibility of the flip step\n",
    "RNG_SEED = 42\n",
    "rng = np.random.default_rng(RNG_SEED)\n",
    "cfg = load_config(PATH_VARS)\n",
    "G = int(cfg[\"G\"]); L = int(cfg[\"L\"]); c = int(cfg[\"c\"]); k = int(cfg[\"k\"]); M = float(cfg[\"M\"]);\n"
   ]
  },
  {
   "cell_type": "code",
   "execution_count": 18,
   "id": "a4542b3c-fd79-4843-9eea-294a7940909a",
   "metadata": {
    "execution": {
     "iopub.execute_input": "2025-08-27T08:33:14.886192Z",
     "iopub.status.busy": "2025-08-27T08:33:14.885589Z",
     "iopub.status.idle": "2025-08-27T08:33:14.890664Z",
     "shell.execute_reply": "2025-08-27T08:33:14.889980Z",
     "shell.execute_reply.started": "2025-08-27T08:33:14.886178Z"
    }
   },
   "outputs": [],
   "source": [
    "# Build prefix pattern for filtering\n",
    "prefix = f\"G{G}_L{L}_c{c}_k{k}_M{M}\"\n",
    "\n",
    "# Filter only relevant directories\n",
    "filtered = [d for d in os.listdir(\"simulation_data\") if d.startswith(prefix)]\n",
    "# Extract F values and mixed cases\n",
    "F_values = []\n",
    "mixed_cases = []\n",
    "\n",
    "for d in filtered:\n",
    "    # Check if F is present\n",
    "    match_F = re.search(r\"F([0-9.]+)\", d)\n",
    "    if match_F:\n",
    "        F_values.append(float(match_F.group(1)))\n",
    "\n",
    "    # Check if mixed is present\n",
    "    match_mixed = re.search(r\"(mixed_[^/]+)\", d)\n",
    "    if match_mixed:\n",
    "        mixed_cases.append(match_mixed.group(1))"
   ]
  },
  {
   "cell_type": "code",
   "execution_count": 19,
   "id": "34440060-bf0b-45b4-8067-937c19a5d9c9",
   "metadata": {
    "execution": {
     "iopub.execute_input": "2025-08-27T08:33:14.892111Z",
     "iopub.status.busy": "2025-08-27T08:33:14.891741Z",
     "iopub.status.idle": "2025-08-27T08:33:14.896257Z",
     "shell.execute_reply": "2025-08-27T08:33:14.895699Z",
     "shell.execute_reply.started": "2025-08-27T08:33:14.892095Z"
    }
   },
   "outputs": [
    {
     "data": {
      "text/plain": [
       "[0.0, 1.0]"
      ]
     },
     "execution_count": 19,
     "metadata": {},
     "output_type": "execute_result"
    }
   ],
   "source": [
    "F_values"
   ]
  },
  {
   "cell_type": "code",
   "execution_count": 20,
   "id": "fdb8f0f6-50fd-4e58-90d8-818dc482a8ca",
   "metadata": {
    "execution": {
     "iopub.execute_input": "2025-08-27T08:33:14.897134Z",
     "iopub.status.busy": "2025-08-27T08:33:14.896863Z",
     "iopub.status.idle": "2025-08-27T08:33:14.900666Z",
     "shell.execute_reply": "2025-08-27T08:33:14.900096Z",
     "shell.execute_reply.started": "2025-08-27T08:33:14.897119Z"
    }
   },
   "outputs": [
    {
     "data": {
      "text/plain": [
       "['mixed_01_pheno_linear']"
      ]
     },
     "execution_count": 20,
     "metadata": {},
     "output_type": "execute_result"
    }
   ],
   "source": [
    "mixed_cases"
   ]
  },
  {
   "cell_type": "code",
   "execution_count": 21,
   "id": "ae0f338f-3fd7-4c6d-ad9d-90fb33e3429a",
   "metadata": {
    "execution": {
     "iopub.execute_input": "2025-08-27T08:33:14.901784Z",
     "iopub.status.busy": "2025-08-27T08:33:14.901289Z",
     "iopub.status.idle": "2025-08-27T08:33:14.907418Z",
     "shell.execute_reply": "2025-08-27T08:33:14.906896Z",
     "shell.execute_reply.started": "2025-08-27T08:33:14.901768Z"
    }
   },
   "outputs": [],
   "source": [
    "#path_geno = f\"simulation_data/G{G}_L{L}_c{c}_k{k}_M{M}_F{F_values[0]}/genotype\"\n",
    "base_path = f\"simulation_data/G{G}_L{L}_c{c}_k{k}_M{M}_{mixed_cases[0]}\"\n",
    "path_geno = f\"{base_path}/genotype\"\n",
    "geno = pd.read_pickle((f\"{path_geno}/complete.pkl\"))"
   ]
  },
  {
   "cell_type": "code",
   "execution_count": 22,
   "id": "172c7b1f-ad13-4368-84c7-eb60ccd2c323",
   "metadata": {
    "execution": {
     "iopub.execute_input": "2025-08-27T08:33:14.908144Z",
     "iopub.status.busy": "2025-08-27T08:33:14.907928Z",
     "iopub.status.idle": "2025-08-27T08:33:14.914859Z",
     "shell.execute_reply": "2025-08-27T08:33:14.914289Z",
     "shell.execute_reply.started": "2025-08-27T08:33:14.908134Z"
    }
   },
   "outputs": [],
   "source": [
    "# Create the three new DataFrames\n",
    "minor = (geno == -1).astype(int)\n",
    "het = (geno == 0).astype(int)\n",
    "major = (geno == 1).astype(int)"
   ]
  },
  {
   "cell_type": "code",
   "execution_count": 23,
   "id": "73537a6a-19c8-455f-aec9-bdebeee46d9c",
   "metadata": {
    "execution": {
     "iopub.execute_input": "2025-08-27T08:33:14.915690Z",
     "iopub.status.busy": "2025-08-27T08:33:14.915305Z",
     "iopub.status.idle": "2025-08-27T08:33:14.919633Z",
     "shell.execute_reply": "2025-08-27T08:33:14.919039Z",
     "shell.execute_reply.started": "2025-08-27T08:33:14.915675Z"
    }
   },
   "outputs": [],
   "source": [
    "def compute_and_save_pcs(\n",
    "    X: np.ndarray,\n",
    "    outdir: Path,\n",
    "    basename: str,\n",
    "    pc_counts=(1,5,15,35,40,50,100),\n",
    "    n_max=None,\n",
    "    randomized=True,\n",
    "    float_dtype=np.float32,\n",
    "    seed=42\n",
    "):\n",
    "    outdir.mkdir(parents=True, exist_ok=True)\n",
    "    n_max = n_max or max(pc_counts)\n",
    "\n",
    "    # 1) Standardize once\n",
    "    scaler = StandardScaler(with_mean=True, with_std=True)\n",
    "    X_std = scaler.fit_transform(X.astype(float_dtype, copy=False))\n",
    "\n",
    "    # 2) Fit PCA once up to the largest k\n",
    "    pca = PCA(\n",
    "        n_components=n_max,\n",
    "        svd_solver=\"randomized\" if randomized else \"full\",\n",
    "        random_state=seed\n",
    "    )\n",
    "    scores = pca.fit_transform(X_std)        # shape: (n_samples, n_max)\n",
    "\n",
    "    # 3) Persist model bits for reuse/repro\n",
    "    joblib.dump({\"scaler\": scaler, \"pca\": pca}, outdir / f\"{basename}_pca_model.joblib\")\n",
    "    pd.DataFrame({\n",
    "        \"pc\": np.arange(1, n_max+1),\n",
    "        \"explained_variance_ratio\": pca.explained_variance_ratio_\n",
    "    }).to_pickle(outdir / f\"{basename}_explained_variance.pkl\")\n",
    "\n",
    "    # 4) Write all requested subsets without refitting\n",
    "    for k in sorted(set(pc_counts)):\n",
    "        df = pd.DataFrame(scores[:, :k], columns=[f\"PC{i}\" for i in range(1, k+1)])\n",
    "        df.to_pickle(outdir / f\"{basename}_{k}_PCs.pkl\")\n",
    "\n",
    "    return scores, pca, scaler\n"
   ]
  },
  {
   "cell_type": "markdown",
   "id": "7d8804c2-951c-49bc-b46c-851cb2708067",
   "metadata": {},
   "source": [
    "# Iterate through PCs"
   ]
  },
  {
   "cell_type": "code",
   "execution_count": 24,
   "id": "0657d9e1-97b8-43da-bdfc-87456bd61c6d",
   "metadata": {
    "execution": {
     "iopub.execute_input": "2025-08-27T08:33:14.920511Z",
     "iopub.status.busy": "2025-08-27T08:33:14.920203Z",
     "iopub.status.idle": "2025-08-27T08:33:15.609357Z",
     "shell.execute_reply": "2025-08-27T08:33:15.608992Z",
     "shell.execute_reply.started": "2025-08-27T08:33:14.920498Z"
    }
   },
   "outputs": [
    {
     "data": {
      "text/plain": [
       "(array([[ 4.2410846 ,  0.06168489, -5.350476  , ...,  0.4088999 ,\n",
       "          0.5715976 , -0.06765921],\n",
       "        [ 3.8956935 , -1.1569859 , -5.902987  , ...,  0.05620424,\n",
       "         -1.8439921 ,  2.4000697 ],\n",
       "        [ 5.0932107 ,  0.35543987, -5.556452  , ..., -0.31447557,\n",
       "         -0.06292939,  0.60534644],\n",
       "        ...,\n",
       "        [-7.036894  , -1.0455897 , -1.2093135 , ...,  0.5317109 ,\n",
       "         -1.7397271 , -0.6720754 ],\n",
       "        [-8.348721  , -2.6913815 , -1.4138376 , ..., -0.07650787,\n",
       "          1.2575276 ,  1.2280847 ],\n",
       "        [-7.5354657 , -2.3389616 , -1.8831695 , ..., -0.4331922 ,\n",
       "          0.17766286, -1.3992802 ]], dtype=float32),\n",
       " PCA(n_components=100, random_state=42, svd_solver='randomized'),\n",
       " StandardScaler())"
      ]
     },
     "execution_count": 24,
     "metadata": {},
     "output_type": "execute_result"
    }
   ],
   "source": [
    "pc_range = [1, 5, 15, 35, 40, 50, 100]\n",
    "n_max = max(pc_range)\n",
    "\n",
    "\n",
    "base = Path(f\"{base_path}/PCs\")\n",
    "compute_and_save_pcs(geno,  base, \"geno\",  pc_range, n_max)\n",
    "#compute_and_save_pcs(minor, base, \"minor\", pc_range, n_max)\n",
    "#compute_and_save_pcs(het,   base, \"het\",   pc_range, n_max)\n",
    "#compute_and_save_pcs(major, base, \"major\", pc_range, n_max)"
   ]
  },
  {
   "cell_type": "code",
   "execution_count": null,
   "id": "e3c21273-d500-4f20-9a75-ab82abdef07f",
   "metadata": {},
   "outputs": [],
   "source": []
  }
 ],
 "metadata": {
  "kernelspec": {
   "display_name": "Python 3 (ipykernel)",
   "language": "python",
   "name": "python3"
  },
  "language_info": {
   "codemirror_mode": {
    "name": "ipython",
    "version": 3
   },
   "file_extension": ".py",
   "mimetype": "text/x-python",
   "name": "python",
   "nbconvert_exporter": "python",
   "pygments_lexer": "ipython3",
   "version": "3.12.9"
  }
 },
 "nbformat": 4,
 "nbformat_minor": 5
}
