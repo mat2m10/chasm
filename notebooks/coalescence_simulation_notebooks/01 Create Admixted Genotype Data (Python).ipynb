{
 "cells": [
  {
   "cell_type": "markdown",
   "id": "049a4847",
   "metadata": {},
   "source": [
    "\n",
    "# Create Admixed Genotype Data (Python)\n",
    "\n",
    "This notebook simulates admixed diploid genotypes using a Balding–Nichols model for source populations and a simple local-ancestry draw per haplotype.\n",
    "It mirrors the R workflow but is vectorized in NumPy. Outputs include a genotype matrix (CSV/NPZ), summary statistics, and PCA plots.\n"
   ]
  },
  {
   "cell_type": "code",
   "execution_count": 3,
   "id": "6a58e6e4",
   "metadata": {
    "execution": {
     "iopub.execute_input": "2025-08-25T10:57:48.196274Z",
     "iopub.status.busy": "2025-08-25T10:57:48.195457Z",
     "iopub.status.idle": "2025-08-25T10:57:48.201127Z",
     "shell.execute_reply": "2025-08-25T10:57:48.200705Z",
     "shell.execute_reply.started": "2025-08-25T10:57:48.196253Z"
    }
   },
   "outputs": [],
   "source": [
    "\n",
    "# Setup\n",
    "import sys, os\n",
    "sys.path.append(\"/mnt/data\")\n",
    "\n",
    "import numpy as np\n",
    "import pandas as pd\n",
    "import matplotlib.pyplot as plt\n",
    "\n",
    "# Local modules (provided/uploaded)\n",
    "from chasm.admix_sim import simulate_admixed_genotypes, sample_ancestry_proportions\n",
    "\n",
    "# Optional: your helper libraries (will import if available)\n",
    "try:\n",
    "    import chasm.allele_sharing_lib as asl\n",
    "    HAVE_ASL = True\n",
    "except Exception as e:\n",
    "    HAVE_ASL = False\n",
    "    print(\"allele_sharing_lib.py not found or import failed:\", e)\n"
   ]
  },
  {
   "cell_type": "code",
   "execution_count": 7,
   "id": "a6f6138f",
   "metadata": {
    "execution": {
     "iopub.execute_input": "2025-08-25T10:58:25.643534Z",
     "iopub.status.busy": "2025-08-25T10:58:25.643372Z",
     "iopub.status.idle": "2025-08-25T10:58:25.647705Z",
     "shell.execute_reply": "2025-08-25T10:58:25.647131Z",
     "shell.execute_reply.started": "2025-08-25T10:58:25.643523Z"
    }
   },
   "outputs": [
    {
     "name": "stdout",
     "output_type": "stream",
     "text": [
      "Will write to: ../..\n"
     ]
    }
   ],
   "source": [
    "\n",
    "# Parameters (edit as needed)\n",
    "N = 500          # individuals\n",
    "L = 10000        # SNPs\n",
    "K = 3            # sources\n",
    "FST = 0.07       # Balding–Nichols drift\n",
    "SEED = 123\n",
    "\n",
    "# Ancestry proportion centers for individuals; if None, uniform Dirichlet\n",
    "centers = np.array([0.6, 0.3, 0.1])  # length K\n",
    "conc = 80.0                           # higher => tighter around centers\n",
    "\n",
    "# Output paths\n",
    "OUT_DIR = \"simulation_data/\"\n",
    "OUT_BASE = \"admixed_genotypes_python\"\n",
    "CSV_PATH = os.path.join(OUT_DIR, f\"{OUT_BASE}.csv\")\n",
    "NPZ_PATH = os.path.join(OUT_DIR, f\"{OUT_BASE}.npz\")\n",
    "PC_FIG12 = os.path.join(OUT_DIR, f\"{OUT_BASE}_PC1_PC2.png\")\n",
    "PC_FIG13 = os.path.join(OUT_DIR, f\"{OUT_BASE}_PC1_PC3.png\")\n",
    "W_PATH = os.path.join(OUT_DIR, f\"{OUT_BASE}_W.csv\")\n",
    "\n",
    "print(\"Will write to:\", OUT_DIR)\n"
   ]
  },
  {
   "cell_type": "code",
   "execution_count": 8,
   "id": "490c099e",
   "metadata": {
    "execution": {
     "iopub.execute_input": "2025-08-25T10:58:28.108222Z",
     "iopub.status.busy": "2025-08-25T10:58:28.107863Z",
     "iopub.status.idle": "2025-08-25T10:58:29.398019Z",
     "shell.execute_reply": "2025-08-25T10:58:29.397546Z",
     "shell.execute_reply.started": "2025-08-25T10:58:28.108200Z"
    }
   },
   "outputs": [
    {
     "name": "stdout",
     "output_type": "stream",
     "text": [
      "Genotypes shape: (500, 10000)\n",
      "Saved: ../../admixed_genotypes_python.csv\n",
      "Saved: ../../admixed_genotypes_python.npz\n",
      "Saved: ../../admixed_genotypes_python_W.csv\n"
     ]
    }
   ],
   "source": [
    "\n",
    "# Sample ancestry proportions and simulate genotypes\n",
    "W = sample_ancestry_proportions(N, K, centers=centers, conc=conc, seed=SEED)\n",
    "G = simulate_admixed_genotypes(N, L, K=K, Fst=FST, W=W, seed=SEED)\n",
    "\n",
    "# Save genotypes and ancestry\n",
    "dfG = pd.DataFrame(G, columns=[f\"SNP{j+1}\" for j in range(G.shape[1])])\n",
    "dfG.insert(0, \"IID\", [f\"ind{i+1}\" for i in range(G.shape[0])])\n",
    "dfG.to_csv(CSV_PATH, index=False)\n",
    "\n",
    "np.savez_compressed(NPZ_PATH, G=G, W=W)\n",
    "pd.DataFrame(W, columns=[f\"pop{k+1}\" for k in range(K)]).to_csv(W_PATH, index=False)\n",
    "\n",
    "print(\"Genotypes shape:\", G.shape)\n",
    "print(\"Saved:\", CSV_PATH)\n",
    "print(\"Saved:\", NPZ_PATH)\n",
    "print(\"Saved:\", W_PATH)\n"
   ]
  },
  {
   "cell_type": "code",
   "execution_count": null,
   "id": "ef8821d1",
   "metadata": {},
   "outputs": [],
   "source": [
    "\n",
    "# Summary statistics\n",
    "# Mean allele frequency across SNPs (estimated from genotypes)\n",
    "maf_est = (G.mean(axis=0) / 2.0)  # per SNP\n",
    "mean_maf = float(maf_est.mean())\n",
    "\n",
    "# Per-individual heterozygosity\n",
    "het = (G * (2 - G)) / 2.0  # 0->0, 1->0.5, 2->0\n",
    "mean_het = float(het.mean())\n",
    "\n",
    "print({\"N\": N, \"L\": L, \"K\": K, \"FST\": FST, \"mean_maf\": mean_maf, \"mean_het\": mean_het})\n"
   ]
  },
  {
   "cell_type": "code",
   "execution_count": null,
   "id": "f4c785ba",
   "metadata": {},
   "outputs": [],
   "source": [
    "\n",
    "# PCA (no external dependencies)\n",
    "# Center genotypes by 2 * estimated freq\n",
    "p_hat = G.mean(axis=0) / 2.0\n",
    "X = G - (2.0 * p_hat)  # N x L\n",
    "\n",
    "# Thin if very large to speed up SVD (optional)\n",
    "# Here we use all SNPs; for huge L consider LD-pruning or random subset.\n",
    "U, S, Vt = np.linalg.svd(X, full_matrices=False)\n",
    "PCs = U[:, :3] * S[:3]  # top 3 PCs\n",
    "\n",
    "# Plot PC1 vs PC2\n",
    "plt.figure(figsize=(6,5))\n",
    "plt.scatter(PCs[:,0], PCs[:,1], s=10, alpha=0.6)\n",
    "plt.xlabel(\"PC1\")\n",
    "plt.ylabel(\"PC2\")\n",
    "plt.title(\"PCA of Simulated Admixed Genotypes\")\n",
    "plt.tight_layout()\n",
    "plt.savefig(PC_FIG12, dpi=150)\n",
    "plt.show()\n",
    "\n",
    "# Plot PC1 vs PC3\n",
    "plt.figure(figsize=(6,5))\n",
    "plt.scatter(PCs[:,0], PCs[:,2], s=10, alpha=0.6)\n",
    "plt.xlabel(\"PC1\")\n",
    "plt.ylabel(\"PC3\")\n",
    "plt.title(\"PCA of Simulated Admixed Genotypes\")\n",
    "plt.tight_layout()\n",
    "plt.savefig(PC_FIG13, dpi=150)\n",
    "plt.show()\n",
    "\n",
    "print(\"Saved PCA figures:\", PC_FIG12, PC_FIG13)\n"
   ]
  },
  {
   "cell_type": "markdown",
   "id": "56402431",
   "metadata": {},
   "source": [
    "\n",
    "## Optional: Allele sharing (if `allele_sharing_lib.py` is available)\n",
    "\n",
    "This block converts diploid genotypes to presence/absence and, if your helper\n",
    "functions are importable, computes a simple allele-sharing summary.\n"
   ]
  },
  {
   "cell_type": "code",
   "execution_count": null,
   "id": "29909309",
   "metadata": {},
   "outputs": [],
   "source": [
    "\n",
    "if HAVE_ASL:\n",
    "    # Convert diploid to presence/absence (any derived allele present)\n",
    "    X01 = (G > 0).astype(np.uint8)  # N x L\n",
    "    \n",
    "    # Example: pairwise sharing = proportion of SNPs where both have derived allele present\n",
    "    # (This is a simple baseline; adapt to your library's interfaces as needed.)\n",
    "    import itertools\n",
    "    def pairwise_sharing(x):\n",
    "        n = x.shape[0]\n",
    "        ps = np.zeros((n, n), dtype=float)\n",
    "        denom = x.shape[1]\n",
    "        for i, j in itertools.combinations(range(n), 2):\n",
    "            ps[i,j] = (x[i] & x[j]).sum() / denom\n",
    "            ps[j,i] = ps[i,j]\n",
    "        np.fill_diagonal(ps, 1.0)\n",
    "        return ps\n",
    "\n",
    "    # For speed, compute on a subset if N is large\n",
    "    idx = np.arange(min(100, N))\n",
    "    PS = pairwise_sharing(X01[idx])\n",
    "\n",
    "    # Quick visualize histogram of pairwise sharing\n",
    "    vals = PS[np.triu_indices_from(PS, 1)]\n",
    "    import matplotlib.pyplot as plt\n",
    "    plt.figure(figsize=(6,4))\n",
    "    plt.hist(vals, bins=30)\n",
    "    plt.xlabel(\"Pairwise derived-allele sharing\")\n",
    "    plt.ylabel(\"Count\")\n",
    "    plt.title(\"Allele Sharing (subset)\")\n",
    "    plt.tight_layout()\n",
    "    AS_FIG = os.path.join(OUT_DIR, f\"{OUT_BASE}_allele_sharing_hist.png\")\n",
    "    plt.savefig(AS_FIG, dpi=150)\n",
    "    plt.show()\n",
    "    print(\"Saved:\", AS_FIG)\n",
    "else:\n",
    "    print(\"Skipping allele-sharing: allele_sharing_lib.py not available.\")\n"
   ]
  }
 ],
 "metadata": {
  "kernelspec": {
   "display_name": "Python 3 (ipykernel)",
   "language": "python",
   "name": "python3"
  },
  "language_info": {
   "codemirror_mode": {
    "name": "ipython",
    "version": 3
   },
   "file_extension": ".py",
   "mimetype": "text/x-python",
   "name": "python",
   "nbconvert_exporter": "python",
   "pygments_lexer": "ipython3",
   "version": "3.12.9"
  }
 },
 "nbformat": 4,
 "nbformat_minor": 5
}
