{
 "cells": [
  {
   "cell_type": "markdown",
   "id": "bf525c62-a58d-4d21-b66d-1285fa9ffac9",
   "metadata": {},
   "source": [
    "# Import libraries"
   ]
  },
  {
   "cell_type": "code",
   "execution_count": 9,
   "id": "97c5b11f-f423-44b8-9b3a-67354872775a",
   "metadata": {
    "execution": {
     "iopub.execute_input": "2025-08-14T10:25:48.339656Z",
     "iopub.status.busy": "2025-08-14T10:25:48.338362Z",
     "iopub.status.idle": "2025-08-14T10:25:48.343455Z",
     "shell.execute_reply": "2025-08-14T10:25:48.342835Z",
     "shell.execute_reply.started": "2025-08-14T10:25:48.339627Z"
    }
   },
   "outputs": [],
   "source": [
    "import os\n",
    "import subprocess\n",
    "import pandas as pd\n",
    "import numpy as np\n",
    "from sklearn.preprocessing import StandardScaler\n",
    "import tensorflow as tf\n",
    "from tensorflow.keras.models import Sequential\n",
    "from tensorflow.keras.layers import Dense\n",
    "from tensorflow.keras.optimizers import Adam\n",
    "from sklearn.decomposition import PCA\n",
    "import seaborn as sns\n",
    "import matplotlib.pyplot as plt\n",
    "from mpl_toolkits.mplot3d import Axes3D  # 3D plotting toolkit\n",
    "from sklearn.model_selection import train_test_split\n",
    "import statsmodels.api as sm\n",
    "import scipy.stats as stats\n",
    "import importlib.util\n",
    "import sys"
   ]
  },
  {
   "cell_type": "markdown",
   "id": "de26181e-83c1-454b-bb80-c2565dc85599",
   "metadata": {},
   "source": [
    "# Load data"
   ]
  },
  {
   "cell_type": "code",
   "execution_count": 10,
   "id": "7298f428-7090-47fe-9ca0-6bc027916d3f",
   "metadata": {
    "execution": {
     "iopub.execute_input": "2025-08-14T10:25:51.876220Z",
     "iopub.status.busy": "2025-08-14T10:25:51.874937Z",
     "iopub.status.idle": "2025-08-14T10:25:51.905708Z",
     "shell.execute_reply": "2025-08-14T10:25:51.905057Z",
     "shell.execute_reply.started": "2025-08-14T10:25:51.876181Z"
    }
   },
   "outputs": [],
   "source": [
    "from scripts.parse_vars import parse_variables\n",
    "path_vars = f\"../../geno_simulation.txt\"\n",
    "R_directory = f\"../../rstudio_geno_simulation\"\n",
    "R_file = f\"create_geno.R\"\n",
    "\n",
    "variables = parse_variables(path_vars)\n",
    "if 'G' not in globals():\n",
    "    G = int(variables['G'])\n",
    "if 'L' not in globals():\n",
    "    L = int(variables['L'])\n",
    "if 'c' not in globals():\n",
    "    c = int(variables['c'])\n",
    "if 'k' not in globals():\n",
    "    k = int(variables['k'])\n",
    "if 'M' not in globals():\n",
    "    M = float(variables['M'])\n",
    "if 'HWE' not in globals():\n",
    "    HWE = int(variables['HWE'])\n",
    "\n",
    "if 'tools' not in globals():\n",
    "    tools = ['PCA', 'abyss_counted', 'abyss', 'no_corr']\n",
    "\n",
    "\n",
    "if 'scenarios' not in globals():\n",
    "    scenarios = ['snp_effect',\n",
    "                 'linear_continuous',\n",
    "                 'non_linear_continuous',\n",
    "                 'discrete_global',\n",
    "                 'discrete_localized',\n",
    "                 'mix_linear_continuous',\n",
    "                 'mix_non_linear_continuous',\n",
    "                 'mix_discrete_global',\n",
    "                 'mix_discrete_localized']\n",
    "\n",
    "if 'very_rare_threshold_L' not in globals():\n",
    "    very_rare_threshold_L = float(variables['very_rare_threshold_L'])\n",
    "if 'very_rare_threshold_H' not in globals():\n",
    "    very_rare_threshold_H = float(variables['very_rare_threshold_H'])\n",
    "if 'rare_threshold_L' not in globals():\n",
    "    rare_threshold_L = float(variables['rare_threshold_L'])\n",
    "if 'rare_threshold_H' not in globals():\n",
    "    rare_threshold_H = float(variables['rare_threshold_H'])\n",
    "if 'common_threshold_L' not in globals():\n",
    "    common_threshold_L = float(variables['common_threshold_L'])\n",
    "if 'common_threshold_H' not in globals():\n",
    "    common_threshold_H = float(variables['common_threshold_H'])\n",
    "if 'F' not in globals():\n",
    "    F = float(variables['F'])\n",
    "\n",
    "path_geno = f\"simulation_data/G{G}_L{L}_c{c}_k{k}_M{M}_F{F}/genotype\"\n",
    "geno = pd.read_pickle((f\"{path_geno}/complete_inbred.pkl\"))"
   ]
  },
  {
   "cell_type": "code",
   "execution_count": 11,
   "id": "6ef58a6c-b514-4c5e-8879-469fbc10a19e",
   "metadata": {
    "execution": {
     "iopub.execute_input": "2025-08-14T10:25:52.310659Z",
     "iopub.status.busy": "2025-08-14T10:25:52.310404Z",
     "iopub.status.idle": "2025-08-14T10:25:52.314441Z",
     "shell.execute_reply": "2025-08-14T10:25:52.313745Z",
     "shell.execute_reply.started": "2025-08-14T10:25:52.310643Z"
    }
   },
   "outputs": [],
   "source": [
    "nr_pcs = 15"
   ]
  },
  {
   "cell_type": "code",
   "execution_count": 12,
   "id": "a4c20cb6-f737-4e5b-ade5-20498737f63f",
   "metadata": {
    "execution": {
     "iopub.execute_input": "2025-08-14T10:25:52.654902Z",
     "iopub.status.busy": "2025-08-14T10:25:52.654598Z",
     "iopub.status.idle": "2025-08-14T10:25:52.687790Z",
     "shell.execute_reply": "2025-08-14T10:25:52.687351Z",
     "shell.execute_reply.started": "2025-08-14T10:25:52.654882Z"
    }
   },
   "outputs": [],
   "source": [
    "path_geno = f\"simulation_data/G{G}_L{L}_c{c}_k{k}_M{M}_F{F}/genotype\"\n",
    "geno = pd.read_pickle((f\"{path_geno}/complete_inbred.pkl\"))"
   ]
  },
  {
   "cell_type": "code",
   "execution_count": 13,
   "id": "f356682c-3c52-43ca-8757-b161ea7574a0",
   "metadata": {
    "execution": {
     "iopub.execute_input": "2025-08-14T10:25:53.028722Z",
     "iopub.status.busy": "2025-08-14T10:25:53.028432Z",
     "iopub.status.idle": "2025-08-14T10:25:53.032941Z",
     "shell.execute_reply": "2025-08-14T10:25:53.032384Z",
     "shell.execute_reply.started": "2025-08-14T10:25:53.028704Z"
    }
   },
   "outputs": [],
   "source": [
    "geno_pcs = pd.read_pickle(f\"simulation_data/G{G}_L{L}_c{c}_k{k}_M{M}_F{F}/PCs/geno_{nr_pcs}_PCs.pkl\")"
   ]
  },
  {
   "cell_type": "code",
   "execution_count": 14,
   "id": "6b07f302-b9fe-46f7-a676-09482797eebf",
   "metadata": {
    "execution": {
     "iopub.execute_input": "2025-08-14T10:25:53.403093Z",
     "iopub.status.busy": "2025-08-14T10:25:53.402785Z",
     "iopub.status.idle": "2025-08-14T10:25:53.443043Z",
     "shell.execute_reply": "2025-08-14T10:25:53.442330Z",
     "shell.execute_reply.started": "2025-08-14T10:25:53.403073Z"
    }
   },
   "outputs": [],
   "source": [
    "# Create the three new DataFrames\n",
    "minor = (geno == -1).astype(int)\n",
    "het = (geno == 0).astype(int)\n",
    "major = (geno == 1).astype(int)"
   ]
  },
  {
   "cell_type": "code",
   "execution_count": 15,
   "id": "ae15f915-f4c6-445a-911c-6beb1e39b1e7",
   "metadata": {
    "execution": {
     "iopub.execute_input": "2025-08-14T10:25:54.712331Z",
     "iopub.status.busy": "2025-08-14T10:25:54.711949Z",
     "iopub.status.idle": "2025-08-14T10:25:54.720217Z",
     "shell.execute_reply": "2025-08-14T10:25:54.719479Z",
     "shell.execute_reply.started": "2025-08-14T10:25:54.712307Z"
    }
   },
   "outputs": [],
   "source": [
    "def train_and_reconstruct(df1, df2, learning_rate, epochs):\n",
    "    # Safety: ensure float32 for TF\n",
    "    X = df1.astype(\"float32\").values\n",
    "    y = df2.astype(\"float32\").values\n",
    "    X_tr, X_val, y_tr, y_val = train_test_split(X, y, test_size=0.1, random_state=42)\n",
    "    n_out = y.shape[1]\n",
    "    inputs = tf.keras.Input(shape=(X.shape[1],), dtype=tf.float32)\n",
    "    outputs = tf.keras.layers.Dense(n_out, activation=\"linear\", use_bias=True)(inputs)\n",
    "    model = tf.keras.Model(inputs, outputs)\n",
    "    model.compile(\n",
    "    optimizer=tf.keras.optimizers.Adam(learning_rate=learning_rate),\n",
    "    loss=\"mse\",\n",
    "    metrics=[\"mae\"]\n",
    "    )\n",
    "    \n",
    "    # (Optional) Early stopping to avoid overfitting/futile training\n",
    "    cb = tf.keras.callbacks.EarlyStopping(\n",
    "        monitor=\"val_loss\", patience=10, restore_best_weights=True\n",
    "    )\n",
    "    \n",
    "    history = model.fit(\n",
    "        X_tr, y_tr,\n",
    "        validation_data=(X_val, y_val),\n",
    "        epochs=epochs,           # will stop early if val_loss stops improving\n",
    "        batch_size=64,\n",
    "        callbacks=[cb],\n",
    "        verbose=0\n",
    "    )\n",
    "    \n",
    "    # Reconstruction: pass df1 through the trained model to get df3\n",
    "    y_hat = model.predict(X, verbose=0)\n",
    "    \n",
    "    # Make it a DataFrame aligned to df2\n",
    "    df3 = pd.DataFrame(y_hat, index=df2.index, columns=df2.columns)\n",
    "    return df3"
   ]
  },
  {
   "cell_type": "code",
   "execution_count": 16,
   "id": "7e56ffb5-b36f-4d29-9764-2e74c653ebf8",
   "metadata": {
    "execution": {
     "iopub.execute_input": "2025-08-14T10:25:56.560681Z",
     "iopub.status.busy": "2025-08-14T10:25:56.560350Z",
     "iopub.status.idle": "2025-08-14T10:26:06.882274Z",
     "shell.execute_reply": "2025-08-14T10:26:06.881566Z",
     "shell.execute_reply.started": "2025-08-14T10:25:56.560659Z"
    }
   },
   "outputs": [
    {
     "name": "stderr",
     "output_type": "stream",
     "text": [
      "E0000 00:00:1755167156.735387    1701 cuda_executor.cc:1228] INTERNAL: CUDA Runtime error: Failed call to cudaGetRuntimeVersion: Error loading CUDA libraries. GPU will not be used.: Error loading CUDA libraries. GPU will not be used.\n",
      "W0000 00:00:1755167156.735984    1701 gpu_device.cc:2341] Cannot dlopen some GPU libraries. Please make sure the missing libraries mentioned above are installed properly if you would like to use GPU. Follow the guide at https://www.tensorflow.org/install/gpu for how to download and setup the required libraries for your platform.\n",
      "Skipping registering GPU devices...\n"
     ]
    }
   ],
   "source": [
    "test = train_and_reconstruct(geno_pcs, geno, learning_rate=1e-3, epochs=500)"
   ]
  },
  {
   "cell_type": "code",
   "execution_count": 18,
   "id": "570bb977-a46f-44c5-88ec-6a2c256f5fea",
   "metadata": {
    "execution": {
     "iopub.execute_input": "2025-08-14T10:26:17.219603Z",
     "iopub.status.busy": "2025-08-14T10:26:17.218770Z",
     "iopub.status.idle": "2025-08-14T10:26:17.224942Z",
     "shell.execute_reply": "2025-08-14T10:26:17.224188Z",
     "shell.execute_reply.started": "2025-08-14T10:26:17.219574Z"
    }
   },
   "outputs": [],
   "source": [
    "nrs_pcs = list(set([int(f.split(\"_\")[1]) for f in os.listdir(f\"simulation_data//G{G}_L{L}_c{c}_k{k}_M{M}_F{F}/PCs\")]))"
   ]
  },
  {
   "cell_type": "code",
   "execution_count": 19,
   "id": "00d17d00-6fb4-4993-ad1d-5ce5e1a6ba71",
   "metadata": {
    "execution": {
     "iopub.execute_input": "2025-08-14T10:26:18.035521Z",
     "iopub.status.busy": "2025-08-14T10:26:18.034749Z",
     "iopub.status.idle": "2025-08-14T10:26:18.038792Z",
     "shell.execute_reply": "2025-08-14T10:26:18.038376Z",
     "shell.execute_reply.started": "2025-08-14T10:26:18.035503Z"
    }
   },
   "outputs": [
    {
     "data": {
      "text/plain": [
       "[1, 2, 3, 4, 5, 6, 7, 8, 9, 10, 11, 12, 13, 14, 15]"
      ]
     },
     "execution_count": 19,
     "metadata": {},
     "output_type": "execute_result"
    }
   ],
   "source": [
    "nrs_pcs"
   ]
  },
  {
   "cell_type": "code",
   "execution_count": 20,
   "id": "a108ff31-9b6c-48ad-afad-2d9dbdc628cc",
   "metadata": {
    "execution": {
     "iopub.execute_input": "2025-08-14T10:26:19.229747Z",
     "iopub.status.busy": "2025-08-14T10:26:19.228467Z",
     "iopub.status.idle": "2025-08-14T10:26:19.233983Z",
     "shell.execute_reply": "2025-08-14T10:26:19.233463Z",
     "shell.execute_reply.started": "2025-08-14T10:26:19.229712Z"
    }
   },
   "outputs": [],
   "source": [
    "os.makedirs(f\"simulation_data/G{G}_L{L}_c{c}_k{k}_M{M}_F{F}/maf_reconstruct/\",exist_ok = True)"
   ]
  },
  {
   "cell_type": "code",
   "execution_count": 21,
   "id": "b9aa6eb7-b746-4ab4-b9cc-cce95995a8e8",
   "metadata": {
    "execution": {
     "iopub.execute_input": "2025-08-14T10:26:21.271277Z",
     "iopub.status.busy": "2025-08-14T10:26:21.270926Z",
     "iopub.status.idle": "2025-08-14T11:10:59.197453Z",
     "shell.execute_reply": "2025-08-14T11:10:59.195655Z",
     "shell.execute_reply.started": "2025-08-14T10:26:21.271255Z"
    }
   },
   "outputs": [
    {
     "name": "stdout",
     "output_type": "stream",
     "text": [
      "1\n",
      "2\n",
      "3\n",
      "4\n",
      "5\n",
      "6\n",
      "7\n",
      "8\n",
      "9\n",
      "10\n",
      "11\n",
      "12\n",
      "13\n",
      "14\n",
      "15\n"
     ]
    }
   ],
   "source": [
    "for nr_pcs in nrs_pcs:\n",
    "    print(nr_pcs)\n",
    "    geno_pcs = pd.read_pickle(f\"simulation_data/G{G}_L{L}_c{c}_k{k}_M{M}_F{F}/PCs/geno_{nr_pcs}_PCs.pkl\")\n",
    "    geno_reconstruct = train_and_reconstruct(geno_pcs, geno, learning_rate=1e-3, epochs=500)\n",
    "    min_reconstruct = train_and_reconstruct(minor, geno, learning_rate=1e-3, epochs=500)\n",
    "    het_reconstruct = train_and_reconstruct(het, geno, learning_rate=1e-3, epochs=500)\n",
    "    major_reconstruct = train_and_reconstruct(major, geno, learning_rate=1e-3, epochs=500)\n",
    "    geno_reconstruct.to_pickle(f\"simulation_data/G{G}_L{L}_c{c}_k{k}_M{M}_F{F}/maf_reconstruct/geno_reconstruct_{nr_pcs}_PCs.pkl\")\n",
    "    min_reconstruct.to_pickle(f\"simulation_data/G{G}_L{L}_c{c}_k{k}_M{M}_F{F}/maf_reconstruct/minor_reconstruct_{nr_pcs}_PCs.pkl\")\n",
    "    het_reconstruct.to_pickle(f\"simulation_data/G{G}_L{L}_c{c}_k{k}_M{M}_F{F}/maf_reconstruct/het_reconstruct_{nr_pcs}_PCs.pkl\")\n",
    "    major_reconstruct.to_pickle(f\"simulation_data/G{G}_L{L}_c{c}_k{k}_M{M}_F{F}/maf_reconstruct/major_reconstruct_{nr_pcs}_PCs.pkl\")"
   ]
  },
  {
   "cell_type": "code",
   "execution_count": null,
   "id": "045289ce-523d-466f-816c-bc441858d4f3",
   "metadata": {},
   "outputs": [],
   "source": []
  }
 ],
 "metadata": {
  "kernelspec": {
   "display_name": "Python 3 (ipykernel)",
   "language": "python",
   "name": "python3"
  },
  "language_info": {
   "codemirror_mode": {
    "name": "ipython",
    "version": 3
   },
   "file_extension": ".py",
   "mimetype": "text/x-python",
   "name": "python",
   "nbconvert_exporter": "python",
   "pygments_lexer": "ipython3",
   "version": "3.12.9"
  }
 },
 "nbformat": 4,
 "nbformat_minor": 5
}
