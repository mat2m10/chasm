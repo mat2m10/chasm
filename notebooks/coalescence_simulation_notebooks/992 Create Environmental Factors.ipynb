{
 "cells": [
  {
   "cell_type": "markdown",
   "id": "b9fac88b-69c2-4385-8ab9-e46aab18ad13",
   "metadata": {},
   "source": [
    "# Import libraries"
   ]
  },
  {
   "cell_type": "code",
   "execution_count": 5,
   "id": "1af92a07-0327-4864-a290-74f6ab722716",
   "metadata": {
    "execution": {
     "iopub.execute_input": "2025-06-30T16:25:34.187748Z",
     "iopub.status.busy": "2025-06-30T16:25:34.186947Z",
     "iopub.status.idle": "2025-06-30T16:25:34.192689Z",
     "shell.execute_reply": "2025-06-30T16:25:34.191997Z",
     "shell.execute_reply.started": "2025-06-30T16:25:34.187710Z"
    }
   },
   "outputs": [],
   "source": [
    "import os\n",
    "import subprocess\n",
    "import pandas as pd\n",
    "import numpy as np\n",
    "from sklearn.preprocessing import StandardScaler\n",
    "from sklearn.decomposition import PCA\n",
    "import seaborn as sns\n",
    "import matplotlib.pyplot as plt\n",
    "import statsmodels.api as sm\n",
    "import scipy.stats as stats\n",
    "import importlib.util\n",
    "import sys"
   ]
  },
  {
   "cell_type": "code",
   "execution_count": 6,
   "id": "ae0ad86c-7f26-44c5-8adb-8b0f5538fdf8",
   "metadata": {
    "execution": {
     "iopub.execute_input": "2025-06-30T16:25:34.193600Z",
     "iopub.status.busy": "2025-06-30T16:25:34.193339Z",
     "iopub.status.idle": "2025-06-30T16:25:34.201279Z",
     "shell.execute_reply": "2025-06-30T16:25:34.200645Z",
     "shell.execute_reply.started": "2025-06-30T16:25:34.193589Z"
    }
   },
   "outputs": [],
   "source": [
    "from scripts.parse_vars import parse_variables"
   ]
  },
  {
   "cell_type": "code",
   "execution_count": 7,
   "id": "f6ddecb6-9aca-4ab8-b763-c6b6baa7d0ac",
   "metadata": {
    "execution": {
     "iopub.execute_input": "2025-06-30T16:25:34.201834Z",
     "iopub.status.busy": "2025-06-30T16:25:34.201718Z",
     "iopub.status.idle": "2025-06-30T16:25:34.322665Z",
     "shell.execute_reply": "2025-06-30T16:25:34.322093Z",
     "shell.execute_reply.started": "2025-06-30T16:25:34.201823Z"
    }
   },
   "outputs": [],
   "source": [
    "path_vars = f\"../../geno_simulation.txt\"\n",
    "R_directory = f\"../../rstudio_geno_simulation\"\n",
    "R_file = f\"create_geno.R\"\n",
    "\n",
    "variables = parse_variables(path_vars)\n",
    "if 'G' not in globals():\n",
    "    G = int(variables['G'])\n",
    "if 'L' not in globals():\n",
    "    L = int(variables['L'])\n",
    "if 'c' not in globals():\n",
    "    c = int(variables['c'])\n",
    "if 'k' not in globals():\n",
    "    k = int(variables['k'])\n",
    "if 'M' not in globals():\n",
    "    M = float(variables['M'])\n",
    "if 'HWE' not in globals():\n",
    "    HWE = int(variables['HWE'])\n",
    "\n",
    "if 'tools' not in globals():\n",
    "    tools = ['PCA', 'abyss_counted', 'abyss', 'no_corr']\n",
    "\n",
    "\n",
    "if 'scenarios' not in globals():\n",
    "    scenarios = ['snp_effect',\n",
    "                 'linear_continuous',\n",
    "                 'non_linear_continuous',\n",
    "                 'discrete_global',\n",
    "                 'discrete_localized',\n",
    "                 'mix_linear_continuous',\n",
    "                 'mix_non_linear_continuous',\n",
    "                 'mix_discrete_global',\n",
    "                 'mix_discrete_localized']\n",
    "\n",
    "if 'very_rare_threshold_L' not in globals():\n",
    "    very_rare_threshold_L = float(variables['very_rare_threshold_L'])\n",
    "if 'very_rare_threshold_H' not in globals():\n",
    "    very_rare_threshold_H = float(variables['very_rare_threshold_H'])\n",
    "if 'rare_threshold_L' not in globals():\n",
    "    rare_threshold_L = float(variables['rare_threshold_L'])\n",
    "if 'rare_threshold_H' not in globals():\n",
    "    rare_threshold_H = float(variables['rare_threshold_H'])\n",
    "if 'common_threshold_L' not in globals():\n",
    "    common_threshold_L = float(variables['common_threshold_L'])\n",
    "if 'common_threshold_H' not in globals():\n",
    "    common_threshold_H = float(variables['common_threshold_H'])\n",
    "if 'F' not in globals():\n",
    "    F = float(variables['F'])\n",
    "\n",
    "commands = [\n",
    "    f\"G <- {G}\",\n",
    "    f\"L <- {L}\",\n",
    "    f\"c <- {c}\",\n",
    "    f\"k <- {k}\",\n",
    "    f\"M <- {M}\",\n",
    "    f'setwd(\"{R_directory}\")',\n",
    "    f'source(\"{R_file}\", echo=TRUE)'\n",
    "]\n",
    "\n",
    "\n",
    "# Concatenate commands into a single string\n",
    "r_script = \";\".join(commands)\n",
    "\n",
    "# Run the R script\n",
    "result = subprocess.run(['Rscript', '-e', r_script], capture_output=True, text=True)\n"
   ]
  },
  {
   "cell_type": "code",
   "execution_count": 8,
   "id": "f1b788d8-bdf3-4305-846d-43396fc08f70",
   "metadata": {
    "execution": {
     "iopub.execute_input": "2025-06-30T16:25:34.323705Z",
     "iopub.status.busy": "2025-06-30T16:25:34.323578Z",
     "iopub.status.idle": "2025-06-30T16:25:34.326970Z",
     "shell.execute_reply": "2025-06-30T16:25:34.326352Z",
     "shell.execute_reply.started": "2025-06-30T16:25:34.323694Z"
    }
   },
   "outputs": [],
   "source": [
    "path_pheno = f\"simulation_data/G{G}_L{L}_c{c}_k{k}_M{M}_F{F}/phenotype/\"\n",
    "humans = pd.read_pickle(f\"{path_pheno}/inbred_humans.pkl\")"
   ]
  },
  {
   "cell_type": "code",
   "execution_count": 19,
   "id": "718783a5-48ff-40b7-a8f4-5c519467fbf1",
   "metadata": {
    "execution": {
     "iopub.execute_input": "2025-06-30T16:35:02.100289Z",
     "iopub.status.busy": "2025-06-30T16:35:02.099928Z",
     "iopub.status.idle": "2025-06-30T16:35:02.105119Z",
     "shell.execute_reply": "2025-06-30T16:35:02.104378Z",
     "shell.execute_reply.started": "2025-06-30T16:35:02.100265Z"
    }
   },
   "outputs": [],
   "source": [
    "humans['z'] = int(F)"
   ]
  },
  {
   "cell_type": "code",
   "execution_count": 20,
   "id": "f631d33b-b131-485f-a2f4-ec255d332d77",
   "metadata": {
    "execution": {
     "iopub.execute_input": "2025-06-30T16:35:02.490224Z",
     "iopub.status.busy": "2025-06-30T16:35:02.489831Z",
     "iopub.status.idle": "2025-06-30T16:35:02.498064Z",
     "shell.execute_reply": "2025-06-30T16:35:02.496942Z",
     "shell.execute_reply.started": "2025-06-30T16:35:02.490197Z"
    }
   },
   "outputs": [],
   "source": [
    "# Define a function to map values to colors\n",
    "def map_to_color(x, y, z, df):\n",
    "    # Check if there's variance to avoid division by zero\n",
    "    r = x / df['x'].max() if df['x'].max() != 0 else 0  # Red component based on 'x'\n",
    "    g = y / df['y'].max() if df['y'].max() != 0 else 0  # Green component based on 'y'\n",
    "    b = z / df['z'].max() if df['z'].max() != 0 else 0  # Blue component based on 'z'\n",
    "    \n",
    "    return (r, g, b)"
   ]
  },
  {
   "cell_type": "code",
   "execution_count": 26,
   "id": "7d952976-1941-458f-bde9-06129da36b54",
   "metadata": {
    "execution": {
     "iopub.execute_input": "2025-06-30T16:38:21.217451Z",
     "iopub.status.busy": "2025-06-30T16:38:21.216418Z",
     "iopub.status.idle": "2025-06-30T16:38:21.353750Z",
     "shell.execute_reply": "2025-06-30T16:38:21.353222Z",
     "shell.execute_reply.started": "2025-06-30T16:38:21.217422Z"
    }
   },
   "outputs": [
    {
     "data": {
      "image/png": "[encoded data removed]",
      "text/plain": [
       "<Figure size 600x600 with 1 Axes>"
      ]
     },
     "metadata": {},
     "output_type": "display_data"
    }
   ],
   "source": [
    "fig, ax = plt.subplots(figsize=(6, 6))\n",
    "\n",
    "for i in range(k):\n",
    "    for j in range(k):\n",
    "        # Get the first matching row for x=i+1 and y=j+1\n",
    "        row = humans[(humans['x'] == i+1) & (humans['y'] == j+1)].iloc[0]\n",
    "        color = map_to_color(row['x'], row['y'], row['populations'], humans)\n",
    "        ax.add_patch(plt.Rectangle((i, j), 1, 1, color=color))\n",
    "\n",
    "# Formatting the plot\n",
    "ax.set_xlim(0, k)\n",
    "ax.set_ylim(0, k)\n",
    "ax.set_aspect('equal')\n",
    "ax.set_xticks(range(k + 1))\n",
    "ax.set_yticks(range(k + 1))\n",
    "ax.grid(True)\n",
    "plt.title(f\"{k}x{k} populations of {c} people with migration rate {M}\")\n",
    "plt.show()"
   ]
  },
  {
   "cell_type": "markdown",
   "id": "c1c361ad-059a-4a03-a62e-599de6f37129",
   "metadata": {
    "execution": {
     "iopub.execute_input": "2025-06-30T16:49:43.056711Z",
     "iopub.status.busy": "2025-06-30T16:49:43.055542Z",
     "iopub.status.idle": "2025-06-30T16:49:43.061277Z",
     "shell.execute_reply": "2025-06-30T16:49:43.060302Z",
     "shell.execute_reply.started": "2025-06-30T16:49:43.056669Z"
    }
   },
   "source": [
    "# creating environmental effects"
   ]
  },
  {
   "cell_type": "code",
   "execution_count": 102,
   "id": "ce245a78-5c03-499c-be4c-44485d9d7211",
   "metadata": {
    "execution": {
     "iopub.execute_input": "2025-06-30T18:12:15.008542Z",
     "iopub.status.busy": "2025-06-30T18:12:15.007428Z",
     "iopub.status.idle": "2025-06-30T18:12:15.019183Z",
     "shell.execute_reply": "2025-06-30T18:12:15.018300Z",
     "shell.execute_reply.started": "2025-06-30T18:12:15.008512Z"
    }
   },
   "outputs": [],
   "source": [
    "pheno = humans[['x','y']].copy()\n",
    "pheno['01_pheno_linear'] = pheno['x'] + pheno['y']\n",
    "# Sinusoidal pattern (e.g., across x)\n",
    "freq_x = 3  # 3 full sine cycles across the x-dimension\n",
    "freq_y = 2  # 2 full sine cycles across the y-dimension\n",
    "\n",
    "pheno['02_pheno_sine_x'] = np.round(np.sin(pheno['x'] * freq_x * np.pi / k), 2)\n",
    "pheno['03_pheno_sine_y'] = np.round(np.sin(pheno['y'] * freq_y * np.pi / k), 2)\n",
    "# Interaction term (e.g., product of x and y)\n",
    "pheno['04_pheno_sine_x_y'] = np.round(pheno['02_pheno_sine_x'] + pheno['03_pheno_sine_y'],2)\n",
    "n = int(k - k//3)\n",
    "pheno['05_pheno_discrete'] = ((pheno['x'] == n) & (pheno['y'] == n)).astype(int)\n",
    "\n",
    "from sklearn.preprocessing import MinMaxScaler\n",
    "\n",
    "# Define a function to scale to [-1, 1]\n",
    "def scale_minus1_to_1(series):\n",
    "    scaler = MinMaxScaler(feature_range=(-1, 1))\n",
    "    return scaler.fit_transform(series.values.reshape(-1, 1)).flatten()\n",
    "\n",
    "# Apply scaling to all relevant phenotypes\n",
    "for col in ['01_pheno_linear', '02_pheno_sine_x', '03_pheno_sine_y', '04_pheno_sine_x_y']:\n",
    "    pheno[col] = scale_minus1_to_1(pheno[col])\n"
   ]
  },
  {
   "cell_type": "code",
   "execution_count": 103,
   "id": "dc7dde6a-0abd-4cb4-be44-ef4515c90bea",
   "metadata": {
    "execution": {
     "iopub.execute_input": "2025-06-30T18:12:15.763438Z",
     "iopub.status.busy": "2025-06-30T18:12:15.763042Z",
     "iopub.status.idle": "2025-06-30T18:12:15.905927Z",
     "shell.execute_reply": "2025-06-30T18:12:15.905457Z",
     "shell.execute_reply.started": "2025-06-30T18:12:15.763412Z"
    }
   },
   "outputs": [
    {
     "data": {
      "image/png": "[encoded data removed]",
      "text/plain": [
       "<Figure size 600x600 with 1 Axes>"
      ]
     },
     "metadata": {},
     "output_type": "display_data"
    }
   ],
   "source": [
    "fig, ax = plt.subplots(figsize=(6, 6))\n",
    "\n",
    "for i in range(k):\n",
    "    for j in range(k):\n",
    "        # Get the first matching row for x=i+1 and y=j+1\n",
    "        row = humans[(humans['x'] == i+1) & (humans['y'] == j+1)].iloc[0]\n",
    "        color = map_to_color(row['x'], row['y'], row['populations'], humans)\n",
    "        ax.add_patch(plt.Rectangle((i, j), 1, 1, color=color))\n",
    "\n",
    "# Formatting the plot\n",
    "ax.set_xlim(0, k)\n",
    "ax.set_ylim(0, k)\n",
    "ax.set_aspect('equal')\n",
    "ax.set_xticks(range(k + 1))\n",
    "ax.set_yticks(range(k + 1))\n",
    "ax.grid(True)\n",
    "plt.title(f\"{k}x{k} populations of {c} people with migration rate {M}\")\n",
    "plt.show()"
   ]
  },
  {
   "cell_type": "markdown",
   "id": "d8fea0ac-70f7-4233-95b7-6fa5b2f76224",
   "metadata": {
    "execution": {
     "iopub.execute_input": "2025-06-30T16:59:34.246004Z",
     "iopub.status.busy": "2025-06-30T16:59:34.245605Z",
     "iopub.status.idle": "2025-06-30T16:59:34.251342Z",
     "shell.execute_reply": "2025-06-30T16:59:34.250464Z",
     "shell.execute_reply.started": "2025-06-30T16:59:34.245981Z"
    }
   },
   "source": [
    "## linear"
   ]
  },
  {
   "cell_type": "code",
   "execution_count": 104,
   "id": "9e975a3b-e216-4ef1-acbd-4d5babc4d1f9",
   "metadata": {
    "execution": {
     "iopub.execute_input": "2025-06-30T18:12:16.564160Z",
     "iopub.status.busy": "2025-06-30T18:12:16.563759Z",
     "iopub.status.idle": "2025-06-30T18:12:16.648964Z",
     "shell.execute_reply": "2025-06-30T18:12:16.648217Z",
     "shell.execute_reply.started": "2025-06-30T18:12:16.564132Z"
    }
   },
   "outputs": [
    {
     "data": {
      "image/png": "[encoded data removed]",
      "text/plain": [
       "<Figure size 600x600 with 1 Axes>"
      ]
     },
     "metadata": {},
     "output_type": "display_data"
    }
   ],
   "source": [
    "# Aggregate to ensure one value per (x, y)\n",
    "pheno_agg = pheno.groupby(['y', 'x'])['01_pheno_linear'].mean().reset_index()\n",
    "\n",
    "# Pivot to wide format\n",
    "pivoted = pheno_agg.pivot(index='y', columns='x', values='01_pheno_linear')\n",
    "\n",
    "plt.figure(figsize=(6, 6))\n",
    "sns.heatmap(\n",
    "    pivoted,\n",
    "    cmap='rocket',\n",
    "    square=True,\n",
    "    cbar=False  # <- disables the colorbar\n",
    ")\n",
    "plt.title(\"Linear Env (x + y)\")\n",
    "plt.xlabel(\"x\")\n",
    "plt.ylabel(\"y\")\n",
    "plt.tight_layout()\n",
    "plt.show()"
   ]
  },
  {
   "cell_type": "markdown",
   "id": "e34f1658-c0a3-44e9-9417-d5cf486b6428",
   "metadata": {},
   "source": [
    "## Non-linear"
   ]
  },
  {
   "cell_type": "code",
   "execution_count": 105,
   "id": "a8b58aae-af2f-4d85-a418-d02a887b9725",
   "metadata": {
    "execution": {
     "iopub.execute_input": "2025-06-30T18:12:17.323323Z",
     "iopub.status.busy": "2025-06-30T18:12:17.322352Z",
     "iopub.status.idle": "2025-06-30T18:12:17.404415Z",
     "shell.execute_reply": "2025-06-30T18:12:17.403640Z",
     "shell.execute_reply.started": "2025-06-30T18:12:17.323286Z"
    }
   },
   "outputs": [
    {
     "data": {
      "image/png": "[encoded data removed]",
      "text/plain": [
       "<Figure size 600x600 with 1 Axes>"
      ]
     },
     "metadata": {},
     "output_type": "display_data"
    }
   ],
   "source": [
    "# Aggregate to ensure one value per (x, y)\n",
    "pheno_agg = pheno.groupby(['y', 'x'])['02_pheno_sine_x'].mean().reset_index()\n",
    "\n",
    "# Pivot to wide format\n",
    "pivoted = pheno_agg.pivot(index='y', columns='x', values='02_pheno_sine_x')\n",
    "\n",
    "plt.figure(figsize=(6, 6))\n",
    "sns.heatmap(\n",
    "    pivoted,\n",
    "    cmap='rocket',\n",
    "    square=True,\n",
    "    cbar=False  # <- disables the colorbar\n",
    ")\n",
    "plt.title(f\"Non-linear Env {freq_x}sin(x)\")\n",
    "plt.xlabel(\"x\")\n",
    "plt.ylabel(\"y\")\n",
    "plt.tight_layout()\n",
    "plt.show()"
   ]
  },
  {
   "cell_type": "code",
   "execution_count": 106,
   "id": "afee3231-1f27-49d7-b5b1-526616d88396",
   "metadata": {
    "execution": {
     "iopub.execute_input": "2025-06-30T18:12:17.842706Z",
     "iopub.status.busy": "2025-06-30T18:12:17.841889Z",
     "iopub.status.idle": "2025-06-30T18:12:17.922864Z",
     "shell.execute_reply": "2025-06-30T18:12:17.922128Z",
     "shell.execute_reply.started": "2025-06-30T18:12:17.842667Z"
    }
   },
   "outputs": [
    {
     "data": {
      "image/png": "[encoded data removed]",
      "text/plain": [
       "<Figure size 600x600 with 1 Axes>"
      ]
     },
     "metadata": {},
     "output_type": "display_data"
    }
   ],
   "source": [
    "# Aggregate to ensure one value per (x, y)\n",
    "pheno_agg = pheno.groupby(['y', 'x'])['03_pheno_sine_y'].mean().reset_index()\n",
    "\n",
    "# Pivot to wide format\n",
    "pivoted = pheno_agg.pivot(index='y', columns='x', values='03_pheno_sine_y')\n",
    "\n",
    "plt.figure(figsize=(6, 6))\n",
    "sns.heatmap(\n",
    "    pivoted,\n",
    "    cmap='rocket',\n",
    "    square=True,\n",
    "    cbar=False  # <- disables the colorbar\n",
    ")\n",
    "plt.title(f\"Non-linear Env {freq_y}sin(y)\")\n",
    "plt.xlabel(\"x\")\n",
    "plt.ylabel(\"y\")\n",
    "plt.tight_layout()\n",
    "plt.show()"
   ]
  },
  {
   "cell_type": "code",
   "execution_count": 107,
   "id": "a4e6b745-e34f-4f3c-afb2-1414e33cc1cb",
   "metadata": {
    "execution": {
     "iopub.execute_input": "2025-06-30T18:12:18.188201Z",
     "iopub.status.busy": "2025-06-30T18:12:18.187720Z",
     "iopub.status.idle": "2025-06-30T18:12:18.271153Z",
     "shell.execute_reply": "2025-06-30T18:12:18.270474Z",
     "shell.execute_reply.started": "2025-06-30T18:12:18.188172Z"
    }
   },
   "outputs": [
    {
     "data": {
      "image/png": "[encoded data removed]",
      "text/plain": [
       "<Figure size 600x600 with 1 Axes>"
      ]
     },
     "metadata": {},
     "output_type": "display_data"
    }
   ],
   "source": [
    "# Aggregate to ensure one value per (x, y)\n",
    "pheno_agg = pheno.groupby(['y', 'x'])['04_pheno_sine_x_y'].mean().reset_index()\n",
    "\n",
    "# Pivot to wide format\n",
    "pivoted = pheno_agg.pivot(index='y', columns='x', values='04_pheno_sine_x_y')\n",
    "\n",
    "plt.figure(figsize=(6, 6))\n",
    "sns.heatmap(\n",
    "    pivoted,\n",
    "    cmap='rocket',\n",
    "    square=True,\n",
    "    cbar=False  # <- disables the colorbar\n",
    ")\n",
    "plt.title(f\"Non-linear Env {freq_x}sin(x)+{freq_y}sin(y)\")\n",
    "plt.xlabel(\"x\")\n",
    "plt.ylabel(\"y\")\n",
    "plt.tight_layout()\n",
    "plt.show()"
   ]
  },
  {
   "cell_type": "markdown",
   "id": "07c08d8e-8156-497b-9134-622aeb174dfa",
   "metadata": {},
   "source": [
    "## Discrete"
   ]
  },
  {
   "cell_type": "code",
   "execution_count": 108,
   "id": "c439b3d3-c267-42c4-a881-17901f85d6e9",
   "metadata": {
    "execution": {
     "iopub.execute_input": "2025-06-30T18:12:19.032052Z",
     "iopub.status.busy": "2025-06-30T18:12:19.030493Z",
     "iopub.status.idle": "2025-06-30T18:12:19.123701Z",
     "shell.execute_reply": "2025-06-30T18:12:19.122974Z",
     "shell.execute_reply.started": "2025-06-30T18:12:19.032012Z"
    }
   },
   "outputs": [
    {
     "data": {
      "image/png": "[encoded data removed]",
      "text/plain": [
       "<Figure size 600x600 with 1 Axes>"
      ]
     },
     "metadata": {},
     "output_type": "display_data"
    }
   ],
   "source": [
    "# Aggregate to ensure one value per (x, y)\n",
    "pheno_agg = pheno.groupby(['y', 'x'])['05_pheno_discrete'].mean().reset_index()\n",
    "\n",
    "# Pivot to wide format\n",
    "pivoted = pheno_agg.pivot(index='y', columns='x', values='05_pheno_discrete')\n",
    "\n",
    "plt.figure(figsize=(6, 6))\n",
    "sns.heatmap(\n",
    "    pivoted,\n",
    "    cmap='rocket',\n",
    "    square=True,\n",
    "    cbar=False  # <- disables the colorbar\n",
    ")\n",
    "plt.title(f\"Discrete Env\")\n",
    "plt.xlabel(\"x\")\n",
    "plt.ylabel(\"y\")\n",
    "plt.tight_layout()\n",
    "plt.show()"
   ]
  },
  {
   "cell_type": "code",
   "execution_count": 109,
   "id": "ba104a5e-96e5-4e7c-bd64-e77a610aa2c0",
   "metadata": {
    "execution": {
     "iopub.execute_input": "2025-06-30T18:12:19.898929Z",
     "iopub.status.busy": "2025-06-30T18:12:19.898625Z",
     "iopub.status.idle": "2025-06-30T18:12:19.907982Z",
     "shell.execute_reply": "2025-06-30T18:12:19.907277Z",
     "shell.execute_reply.started": "2025-06-30T18:12:19.898911Z"
    }
   },
   "outputs": [
    {
     "data": {
      "text/html": [
       "<div>\n",
       "<style scoped>\n",
       "    .dataframe tbody tr th:only-of-type {\n",
       "        vertical-align: middle;\n",
       "    }\n",
       "\n",
       "    .dataframe tbody tr th {\n",
       "        vertical-align: top;\n",
       "    }\n",
       "\n",
       "    .dataframe thead th {\n",
       "        text-align: right;\n",
       "    }\n",
       "</style>\n",
       "<table border=\"1\" class=\"dataframe\">\n",
       "  <thead>\n",
       "    <tr style=\"text-align: right;\">\n",
       "      <th></th>\n",
       "      <th>x</th>\n",
       "      <th>y</th>\n",
       "      <th>01_pheno_linear</th>\n",
       "      <th>02_pheno_sine_x</th>\n",
       "      <th>03_pheno_sine_y</th>\n",
       "      <th>04_pheno_sine_x_y</th>\n",
       "      <th>05_pheno_discrete</th>\n",
       "    </tr>\n",
       "  </thead>\n",
       "  <tbody>\n",
       "    <tr>\n",
       "      <th>0</th>\n",
       "      <td>1</td>\n",
       "      <td>1</td>\n",
       "      <td>-1.0</td>\n",
       "      <td>0.856410</td>\n",
       "      <td>6.210526e-01</td>\n",
       "      <td>0.740260</td>\n",
       "      <td>0</td>\n",
       "    </tr>\n",
       "    <tr>\n",
       "      <th>1</th>\n",
       "      <td>1</td>\n",
       "      <td>1</td>\n",
       "      <td>-1.0</td>\n",
       "      <td>0.856410</td>\n",
       "      <td>6.210526e-01</td>\n",
       "      <td>0.740260</td>\n",
       "      <td>0</td>\n",
       "    </tr>\n",
       "    <tr>\n",
       "      <th>2</th>\n",
       "      <td>1</td>\n",
       "      <td>1</td>\n",
       "      <td>-1.0</td>\n",
       "      <td>0.856410</td>\n",
       "      <td>6.210526e-01</td>\n",
       "      <td>0.740260</td>\n",
       "      <td>0</td>\n",
       "    </tr>\n",
       "    <tr>\n",
       "      <th>3</th>\n",
       "      <td>1</td>\n",
       "      <td>1</td>\n",
       "      <td>-1.0</td>\n",
       "      <td>0.856410</td>\n",
       "      <td>6.210526e-01</td>\n",
       "      <td>0.740260</td>\n",
       "      <td>0</td>\n",
       "    </tr>\n",
       "    <tr>\n",
       "      <th>4</th>\n",
       "      <td>1</td>\n",
       "      <td>1</td>\n",
       "      <td>-1.0</td>\n",
       "      <td>0.856410</td>\n",
       "      <td>6.210526e-01</td>\n",
       "      <td>0.740260</td>\n",
       "      <td>0</td>\n",
       "    </tr>\n",
       "    <tr>\n",
       "      <th>...</th>\n",
       "      <td>...</td>\n",
       "      <td>...</td>\n",
       "      <td>...</td>\n",
       "      <td>...</td>\n",
       "      <td>...</td>\n",
       "      <td>...</td>\n",
       "      <td>...</td>\n",
       "    </tr>\n",
       "    <tr>\n",
       "      <th>1995</th>\n",
       "      <td>10</td>\n",
       "      <td>10</td>\n",
       "      <td>1.0</td>\n",
       "      <td>0.025641</td>\n",
       "      <td>-1.110223e-16</td>\n",
       "      <td>0.012987</td>\n",
       "      <td>0</td>\n",
       "    </tr>\n",
       "    <tr>\n",
       "      <th>1996</th>\n",
       "      <td>10</td>\n",
       "      <td>10</td>\n",
       "      <td>1.0</td>\n",
       "      <td>0.025641</td>\n",
       "      <td>-1.110223e-16</td>\n",
       "      <td>0.012987</td>\n",
       "      <td>0</td>\n",
       "    </tr>\n",
       "    <tr>\n",
       "      <th>1997</th>\n",
       "      <td>10</td>\n",
       "      <td>10</td>\n",
       "      <td>1.0</td>\n",
       "      <td>0.025641</td>\n",
       "      <td>-1.110223e-16</td>\n",
       "      <td>0.012987</td>\n",
       "      <td>0</td>\n",
       "    </tr>\n",
       "    <tr>\n",
       "      <th>1998</th>\n",
       "      <td>10</td>\n",
       "      <td>10</td>\n",
       "      <td>1.0</td>\n",
       "      <td>0.025641</td>\n",
       "      <td>-1.110223e-16</td>\n",
       "      <td>0.012987</td>\n",
       "      <td>0</td>\n",
       "    </tr>\n",
       "    <tr>\n",
       "      <th>1999</th>\n",
       "      <td>10</td>\n",
       "      <td>10</td>\n",
       "      <td>1.0</td>\n",
       "      <td>0.025641</td>\n",
       "      <td>-1.110223e-16</td>\n",
       "      <td>0.012987</td>\n",
       "      <td>0</td>\n",
       "    </tr>\n",
       "  </tbody>\n",
       "</table>\n",
       "<p>2000 rows × 7 columns</p>\n",
       "</div>"
      ],
      "text/plain": [
       "       x   y  01_pheno_linear  02_pheno_sine_x  03_pheno_sine_y  \\\n",
       "0      1   1             -1.0         0.856410     6.210526e-01   \n",
       "1      1   1             -1.0         0.856410     6.210526e-01   \n",
       "2      1   1             -1.0         0.856410     6.210526e-01   \n",
       "3      1   1             -1.0         0.856410     6.210526e-01   \n",
       "4      1   1             -1.0         0.856410     6.210526e-01   \n",
       "...   ..  ..              ...              ...              ...   \n",
       "1995  10  10              1.0         0.025641    -1.110223e-16   \n",
       "1996  10  10              1.0         0.025641    -1.110223e-16   \n",
       "1997  10  10              1.0         0.025641    -1.110223e-16   \n",
       "1998  10  10              1.0         0.025641    -1.110223e-16   \n",
       "1999  10  10              1.0         0.025641    -1.110223e-16   \n",
       "\n",
       "      04_pheno_sine_x_y  05_pheno_discrete  \n",
       "0              0.740260                  0  \n",
       "1              0.740260                  0  \n",
       "2              0.740260                  0  \n",
       "3              0.740260                  0  \n",
       "4              0.740260                  0  \n",
       "...                 ...                ...  \n",
       "1995           0.012987                  0  \n",
       "1996           0.012987                  0  \n",
       "1997           0.012987                  0  \n",
       "1998           0.012987                  0  \n",
       "1999           0.012987                  0  \n",
       "\n",
       "[2000 rows x 7 columns]"
      ]
     },
     "execution_count": 109,
     "metadata": {},
     "output_type": "execute_result"
    }
   ],
   "source": [
    "pheno"
   ]
  },
  {
   "cell_type": "code",
   "execution_count": 110,
   "id": "b9cfa613-0f36-4308-9f2a-398864229e1e",
   "metadata": {
    "execution": {
     "iopub.execute_input": "2025-06-30T18:12:31.815032Z",
     "iopub.status.busy": "2025-06-30T18:12:31.814641Z",
     "iopub.status.idle": "2025-06-30T18:12:31.824012Z",
     "shell.execute_reply": "2025-06-30T18:12:31.823301Z",
     "shell.execute_reply.started": "2025-06-30T18:12:31.815006Z"
    }
   },
   "outputs": [],
   "source": [
    "path_pheno = f\"simulation_data/G{G}_L{L}_c{c}_k{k}_M{M}_F{F}/phenotype/\"\n",
    "pheno.to_pickle(f\"{path_pheno}/env_pheno.pkl\")"
   ]
  },
  {
   "cell_type": "code",
   "execution_count": null,
   "id": "652bde41-1475-4ebe-9d84-2da81a500ea2",
   "metadata": {},
   "outputs": [],
   "source": []
  }
 ],
 "metadata": {
  "kernelspec": {
   "display_name": "Python 3 (ipykernel)",
   "language": "python",
   "name": "python3"
  },
  "language_info": {
   "codemirror_mode": {
    "name": "ipython",
    "version": 3
   },
   "file_extension": ".py",
   "mimetype": "text/x-python",
   "name": "python",
   "nbconvert_exporter": "python",
   "pygments_lexer": "ipython3",
   "version": "3.12.9"
  }
 },
 "nbformat": 4,
 "nbformat_minor": 5
}
