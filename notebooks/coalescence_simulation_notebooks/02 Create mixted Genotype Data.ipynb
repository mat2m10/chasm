{
 "cells": [
  {
   "cell_type": "code",
   "execution_count": null,
   "id": "7e21f0b9-949d-48c0-8523-538a6a64e24a",
   "metadata": {},
   "outputs": [],
   "source": []
  }
 ],
 "metadata": {
  "kernelspec": {
   "display_name": "",
   "name": ""
  },
  "language_info": {
   "name": ""
  }
 },
 "nbformat": 4,
 "nbformat_minor": 5
}
