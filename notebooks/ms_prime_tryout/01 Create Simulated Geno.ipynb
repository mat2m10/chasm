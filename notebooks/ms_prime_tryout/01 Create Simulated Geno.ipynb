{
 "cells": [
  {
   "cell_type": "markdown",
   "id": "2f005db1-3727-46b2-a039-1825712ff8c6",
   "metadata": {
    "execution": {
     "iopub.execute_input": "2025-09-16T12:26:47.013417Z",
     "iopub.status.busy": "2025-09-16T12:26:47.013142Z",
     "iopub.status.idle": "2025-09-16T12:26:47.018324Z",
     "shell.execute_reply": "2025-09-16T12:26:47.017530Z",
     "shell.execute_reply.started": "2025-09-16T12:26:47.013397Z"
    }
   },
   "source": [
    "# Import libraries"
   ]
  },
  {
   "cell_type": "code",
   "execution_count": 1,
   "id": "ee4d6b26-6fb1-4f72-8e05-991f16642ee2",
   "metadata": {
    "execution": {
     "iopub.execute_input": "2025-09-16T13:40:52.698422Z",
     "iopub.status.busy": "2025-09-16T13:40:52.698134Z",
     "iopub.status.idle": "2025-09-16T13:40:53.470278Z",
     "shell.execute_reply": "2025-09-16T13:40:53.469863Z",
     "shell.execute_reply.started": "2025-09-16T13:40:52.698402Z"
    }
   },
   "outputs": [],
   "source": [
    "import numpy as np, pandas as pd, msprime, tskit, pathlib\n",
    "from pathlib import Path\n",
    "from ascertainment_diploid_multi import ascertain_chip_diploid, AscertainmentConfig"
   ]
  },
  {
   "cell_type": "code",
   "execution_count": 2,
   "id": "5ea4b67a-001f-4bb9-8230-36e040674999",
   "metadata": {
    "execution": {
     "iopub.execute_input": "2025-09-16T13:41:01.571875Z",
     "iopub.status.busy": "2025-09-16T13:41:01.570905Z",
     "iopub.status.idle": "2025-09-16T13:41:01.576192Z",
     "shell.execute_reply": "2025-09-16T13:41:01.575485Z",
     "shell.execute_reply.started": "2025-09-16T13:41:01.571854Z"
    }
   },
   "outputs": [],
   "source": [
    "# ------- CONFIG -------\n",
    "rng = np.random.default_rng(42)\n",
    "contig_length = 50_000_000             # 50 Mb window\n",
    "mu = 1.25e-8                           # per-base per-gen mutation rate\n",
    "N_anc = 12_000                         # ancestral Ne\n",
    "split_time = 2_000                     # generations ago\n",
    "m12 = m21 = 5e-4                       # symmetric migration\n",
    "n_A = 500                              # samples in pop A\n",
    "n_B = 500                              # samples in pop B\n",
    "recomb_rate = 1e-8                     # fallback if not using a map\n",
    "# Optional: use an external recombination map if you have a file:\n",
    "recomb_map = None      "
   ]
  },
  {
   "cell_type": "code",
   "execution_count": 3,
   "id": "b7919635-03f3-458b-b8f5-216dc7d8b628",
   "metadata": {
    "execution": {
     "iopub.execute_input": "2025-09-16T13:41:07.104213Z",
     "iopub.status.busy": "2025-09-16T13:41:07.103749Z",
     "iopub.status.idle": "2025-09-16T13:41:07.108810Z",
     "shell.execute_reply": "2025-09-16T13:41:07.108356Z",
     "shell.execute_reply.started": "2025-09-16T13:41:07.104195Z"
    }
   },
   "outputs": [],
   "source": [
    "# ------- DEMOGRAPHY -------\n",
    "dem = msprime.Demography()\n",
    "dem.add_population(name=\"ancestral\", initial_size=N_anc)\n",
    "dem.add_population(name=\"A\", initial_size=N_anc)\n",
    "dem.add_population(name=\"B\", initial_size=N_anc)\n",
    "dem.add_population_split(time=split_time, derived=[\"A\",\"B\"], ancestral=\"ancestral\")\n",
    "dem.set_migration_rate(\"A\", \"B\", m12)\n",
    "dem.set_migration_rate(\"B\", \"A\", m21)"
   ]
  },
  {
   "cell_type": "code",
   "execution_count": 4,
   "id": "3a91cacd-7371-4eab-8732-7f3f65f950cb",
   "metadata": {
    "execution": {
     "iopub.execute_input": "2025-09-16T13:41:12.827107Z",
     "iopub.status.busy": "2025-09-16T13:41:12.826165Z",
     "iopub.status.idle": "2025-09-16T13:41:24.476317Z",
     "shell.execute_reply": "2025-09-16T13:41:24.475588Z",
     "shell.execute_reply.started": "2025-09-16T13:41:12.827081Z"
    }
   },
   "outputs": [],
   "source": [
    "# ------- ANCESTRY -------\n",
    "if recomb_map is None:\n",
    "    ts_anc = msprime.sim_ancestry(\n",
    "        samples={\"A\": n_A, \"B\": n_B},\n",
    "        sequence_length=contig_length,\n",
    "        recombination_rate=recomb_rate,\n",
    "        demography=dem,\n",
    "        random_seed=12345,\n",
    "    )\n",
    "else:\n",
    "    ts_anc = msprime.sim_ancestry(\n",
    "        samples={\"A\": n_A, \"B\": n_B},\n",
    "        recombination_rate=recomb_map,\n",
    "        demography=dem,\n",
    "        random_seed=12345,\n",
    "    )\n"
   ]
  },
  {
   "cell_type": "code",
   "execution_count": 5,
   "id": "79f8c040-77ca-4eb1-a9ad-053f2f64c153",
   "metadata": {
    "execution": {
     "iopub.execute_input": "2025-09-16T13:41:24.477135Z",
     "iopub.status.busy": "2025-09-16T13:41:24.477015Z",
     "iopub.status.idle": "2025-09-16T13:41:29.532117Z",
     "shell.execute_reply": "2025-09-16T13:41:29.531524Z",
     "shell.execute_reply.started": "2025-09-16T13:41:24.477125Z"
    }
   },
   "outputs": [],
   "source": [
    "# ------- MUTATIONS -------\n",
    "ts = msprime.sim_mutations(ts_anc, rate=mu, discrete_genome=True, random_seed=54321)\n",
    "\n",
    "# ------- OUTPUT: variant table + genotypes -------\n",
    "# Per-site metadata\n",
    "sites = []\n",
    "for v in ts.variants():\n",
    "    sites.append({\"pos\": int(v.site.position), \"id\": f\"sim_{v.site.id}\", \"alleles\": v.alleles})\n",
    "sites = pd.DataFrame(sites).sort_values(\"pos\").reset_index(drop=True)"
   ]
  },
  {
   "cell_type": "code",
   "execution_count": 6,
   "id": "dfb5569e-2539-4d47-aad6-92b7d16b7f88",
   "metadata": {
    "execution": {
     "iopub.execute_input": "2025-09-16T13:41:39.116919Z",
     "iopub.status.busy": "2025-09-16T13:41:39.116096Z",
     "iopub.status.idle": "2025-09-16T13:41:43.885051Z",
     "shell.execute_reply": "2025-09-16T13:41:43.884338Z",
     "shell.execute_reply.started": "2025-09-16T13:41:39.116896Z"
    }
   },
   "outputs": [],
   "source": [
    "# Sample table: map samples to populations\n",
    "sample_pops = []\n",
    "for i, n in enumerate(ts.samples()):\n",
    "    pop_id = ts.node(n).population\n",
    "    pop_name = ts.population(pop_id).metadata.get(\"name\") if ts.population(pop_id).metadata else None\n",
    "    sample_pops.append({\"sample_index\": i, \"node\": n, \"population_id\": pop_id,\n",
    "                        \"population\": pop_name if pop_name else (\"A\" if pop_id==1 else \"B\")})\n",
    "sample_df = pd.DataFrame(sample_pops)\n",
    "\n",
    "# Dense genotype matrix (variants x samples) as 0/1/2\n",
    "G = np.vstack([v.genotypes for v in ts.variants()])   # shape: n_variants x n_samples\n",
    "# ts.variants() yields haploid calls per sample for haploid samples; here samples are diploids by default in msprime>=1.3 if ploidy=2.\n",
    "# To ensure diploid genotypes, pass ploidy=2 in sim_ancestry and reshape; or keep ploidy=1 and later combine pairs as needed.\n"
   ]
  },
  {
   "cell_type": "code",
   "execution_count": 7,
   "id": "9a03e41a-bde4-4257-8850-b8b59d0c4ad4",
   "metadata": {
    "execution": {
     "iopub.execute_input": "2025-09-16T13:41:47.797633Z",
     "iopub.status.busy": "2025-09-16T13:41:47.797180Z",
     "iopub.status.idle": "2025-09-16T13:41:54.327607Z",
     "shell.execute_reply": "2025-09-16T13:41:54.326284Z",
     "shell.execute_reply.started": "2025-09-16T13:41:47.797607Z"
    }
   },
   "outputs": [],
   "source": [
    "# Save to your pipeline’s expected format (e.g., parquet)\n",
    "outdir = pathlib.Path(\"simulation_realistic/msprime_A_B\")\n",
    "outdir.mkdir(parents=True, exist_ok=True)\n",
    "sites.to_parquet(outdir / \"sites.parquet\", index=False)\n",
    "sample_df.to_parquet(outdir / \"samples.parquet\", index=False)\n",
    "pd.DataFrame(G).to_parquet(outdir / \"genotypes_raw.parquet\", index=False)"
   ]
  },
  {
   "cell_type": "code",
   "execution_count": null,
   "id": "89551726-9dd3-4fc3-ac6f-930969125b17",
   "metadata": {},
   "outputs": [],
   "source": []
  },
  {
   "cell_type": "code",
   "execution_count": null,
   "id": "6f48d0c5-dfe3-47bf-90b9-6e658475a43b",
   "metadata": {},
   "outputs": [],
   "source": []
  },
  {
   "cell_type": "code",
   "execution_count": null,
   "id": "36d0d1a9-f1e0-4986-bbcf-689f0bac75ef",
   "metadata": {},
   "outputs": [],
   "source": []
  },
  {
   "cell_type": "code",
   "execution_count": null,
   "id": "80d600e2-4daf-4f9f-8ba6-4ebd195588a6",
   "metadata": {},
   "outputs": [],
   "source": []
  },
  {
   "cell_type": "code",
   "execution_count": null,
   "id": "56445fc0-6fe5-454d-b85b-33462d31aaae",
   "metadata": {},
   "outputs": [],
   "source": []
  },
  {
   "cell_type": "code",
   "execution_count": null,
   "id": "e092e9be-2b3a-4456-ae14-34cc9c802265",
   "metadata": {},
   "outputs": [],
   "source": []
  },
  {
   "cell_type": "code",
   "execution_count": null,
   "id": "127ccddc-9467-4fe2-8534-46c9073d1244",
   "metadata": {},
   "outputs": [],
   "source": []
  },
  {
   "cell_type": "code",
   "execution_count": null,
   "id": "8dd96657-f248-4406-9681-ba0fc91fbce8",
   "metadata": {},
   "outputs": [],
   "source": []
  },
  {
   "cell_type": "code",
   "execution_count": 8,
   "id": "b6ede1d7-995d-48a8-8a9c-908e17f21183",
   "metadata": {
    "execution": {
     "iopub.execute_input": "2025-09-16T13:41:55.733778Z",
     "iopub.status.busy": "2025-09-16T13:41:55.733223Z",
     "iopub.status.idle": "2025-09-16T13:41:55.957963Z",
     "shell.execute_reply": "2025-09-16T13:41:55.957046Z",
     "shell.execute_reply.started": "2025-09-16T13:41:55.733747Z"
    }
   },
   "outputs": [
    {
     "ename": "FileNotFoundError",
     "evalue": "[Errno 2] No such file or directory: 'notebooks/ms_prime_tryout/simulation_realistic/msprime_A_B/genotypes_raw.parquet'",
     "output_type": "error",
     "traceback": [
      "\u001b[0;31m---------------------------------------------------------------------------\u001b[0m",
      "\u001b[0;31mFileNotFoundError\u001b[0m                         Traceback (most recent call last)",
      "Cell \u001b[0;32mIn[8], line 6\u001b[0m\n\u001b[1;32m      3\u001b[0m \u001b[38;5;28;01mfrom\u001b[39;00m\u001b[38;5;250m \u001b[39m\u001b[38;5;21;01mascertainment_diploid_multi\u001b[39;00m\u001b[38;5;250m \u001b[39m\u001b[38;5;28;01mimport\u001b[39;00m AscertainmentConfig, ascertain_chip_diploid\n\u001b[1;32m      5\u001b[0m base \u001b[38;5;241m=\u001b[39m Path(\u001b[38;5;124m\"\u001b[39m\u001b[38;5;124mnotebooks/ms_prime_tryout/simulation_realistic/msprime_A_B\u001b[39m\u001b[38;5;124m\"\u001b[39m)\n\u001b[0;32m----> 6\u001b[0m G \u001b[38;5;241m=\u001b[39m \u001b[43mpd\u001b[49m\u001b[38;5;241;43m.\u001b[39;49m\u001b[43mread_parquet\u001b[49m\u001b[43m(\u001b[49m\u001b[43mbase\u001b[49m\u001b[43m \u001b[49m\u001b[38;5;241;43m/\u001b[39;49m\u001b[43m \u001b[49m\u001b[38;5;124;43m\"\u001b[39;49m\u001b[38;5;124;43mgenotypes_raw.parquet\u001b[39;49m\u001b[38;5;124;43m\"\u001b[39;49m\u001b[43m)\u001b[49m  \u001b[38;5;66;03m# variants x haplotypes (0/1)\u001b[39;00m\n\u001b[1;32m      7\u001b[0m S \u001b[38;5;241m=\u001b[39m pd\u001b[38;5;241m.\u001b[39mread_parquet(base \u001b[38;5;241m/\u001b[39m \u001b[38;5;124m\"\u001b[39m\u001b[38;5;124msites.parquet\u001b[39m\u001b[38;5;124m\"\u001b[39m)          \u001b[38;5;66;03m# must contain 'pos' (bp)\u001b[39;00m\n\u001b[1;32m      8\u001b[0m X \u001b[38;5;241m=\u001b[39m pd\u001b[38;5;241m.\u001b[39mread_parquet(base \u001b[38;5;241m/\u001b[39m \u001b[38;5;124m\"\u001b[39m\u001b[38;5;124msamples.parquet\u001b[39m\u001b[38;5;124m\"\u001b[39m)        \u001b[38;5;66;03m# per-haplotype; has 'population'\u001b[39;00m\n",
      "File \u001b[0;32m~/.pyenv/versions/3.12.9/lib/python3.12/site-packages/pandas/io/parquet.py:667\u001b[0m, in \u001b[0;36mread_parquet\u001b[0;34m(path, engine, columns, storage_options, use_nullable_dtypes, dtype_backend, filesystem, filters, **kwargs)\u001b[0m\n\u001b[1;32m    664\u001b[0m     use_nullable_dtypes \u001b[38;5;241m=\u001b[39m \u001b[38;5;28;01mFalse\u001b[39;00m\n\u001b[1;32m    665\u001b[0m check_dtype_backend(dtype_backend)\n\u001b[0;32m--> 667\u001b[0m \u001b[38;5;28;01mreturn\u001b[39;00m \u001b[43mimpl\u001b[49m\u001b[38;5;241;43m.\u001b[39;49m\u001b[43mread\u001b[49m\u001b[43m(\u001b[49m\n\u001b[1;32m    668\u001b[0m \u001b[43m    \u001b[49m\u001b[43mpath\u001b[49m\u001b[43m,\u001b[49m\n\u001b[1;32m    669\u001b[0m \u001b[43m    \u001b[49m\u001b[43mcolumns\u001b[49m\u001b[38;5;241;43m=\u001b[39;49m\u001b[43mcolumns\u001b[49m\u001b[43m,\u001b[49m\n\u001b[1;32m    670\u001b[0m \u001b[43m    \u001b[49m\u001b[43mfilters\u001b[49m\u001b[38;5;241;43m=\u001b[39;49m\u001b[43mfilters\u001b[49m\u001b[43m,\u001b[49m\n\u001b[1;32m    671\u001b[0m \u001b[43m    \u001b[49m\u001b[43mstorage_options\u001b[49m\u001b[38;5;241;43m=\u001b[39;49m\u001b[43mstorage_options\u001b[49m\u001b[43m,\u001b[49m\n\u001b[1;32m    672\u001b[0m \u001b[43m    \u001b[49m\u001b[43muse_nullable_dtypes\u001b[49m\u001b[38;5;241;43m=\u001b[39;49m\u001b[43muse_nullable_dtypes\u001b[49m\u001b[43m,\u001b[49m\n\u001b[1;32m    673\u001b[0m \u001b[43m    \u001b[49m\u001b[43mdtype_backend\u001b[49m\u001b[38;5;241;43m=\u001b[39;49m\u001b[43mdtype_backend\u001b[49m\u001b[43m,\u001b[49m\n\u001b[1;32m    674\u001b[0m \u001b[43m    \u001b[49m\u001b[43mfilesystem\u001b[49m\u001b[38;5;241;43m=\u001b[39;49m\u001b[43mfilesystem\u001b[49m\u001b[43m,\u001b[49m\n\u001b[1;32m    675\u001b[0m \u001b[43m    \u001b[49m\u001b[38;5;241;43m*\u001b[39;49m\u001b[38;5;241;43m*\u001b[39;49m\u001b[43mkwargs\u001b[49m\u001b[43m,\u001b[49m\n\u001b[1;32m    676\u001b[0m \u001b[43m\u001b[49m\u001b[43m)\u001b[49m\n",
      "File \u001b[0;32m~/.pyenv/versions/3.12.9/lib/python3.12/site-packages/pandas/io/parquet.py:267\u001b[0m, in \u001b[0;36mPyArrowImpl.read\u001b[0;34m(self, path, columns, filters, use_nullable_dtypes, dtype_backend, storage_options, filesystem, **kwargs)\u001b[0m\n\u001b[1;32m    264\u001b[0m \u001b[38;5;28;01mif\u001b[39;00m manager \u001b[38;5;241m==\u001b[39m \u001b[38;5;124m\"\u001b[39m\u001b[38;5;124marray\u001b[39m\u001b[38;5;124m\"\u001b[39m:\n\u001b[1;32m    265\u001b[0m     to_pandas_kwargs[\u001b[38;5;124m\"\u001b[39m\u001b[38;5;124msplit_blocks\u001b[39m\u001b[38;5;124m\"\u001b[39m] \u001b[38;5;241m=\u001b[39m \u001b[38;5;28;01mTrue\u001b[39;00m  \u001b[38;5;66;03m# type: ignore[assignment]\u001b[39;00m\n\u001b[0;32m--> 267\u001b[0m path_or_handle, handles, filesystem \u001b[38;5;241m=\u001b[39m \u001b[43m_get_path_or_handle\u001b[49m\u001b[43m(\u001b[49m\n\u001b[1;32m    268\u001b[0m \u001b[43m    \u001b[49m\u001b[43mpath\u001b[49m\u001b[43m,\u001b[49m\n\u001b[1;32m    269\u001b[0m \u001b[43m    \u001b[49m\u001b[43mfilesystem\u001b[49m\u001b[43m,\u001b[49m\n\u001b[1;32m    270\u001b[0m \u001b[43m    \u001b[49m\u001b[43mstorage_options\u001b[49m\u001b[38;5;241;43m=\u001b[39;49m\u001b[43mstorage_options\u001b[49m\u001b[43m,\u001b[49m\n\u001b[1;32m    271\u001b[0m \u001b[43m    \u001b[49m\u001b[43mmode\u001b[49m\u001b[38;5;241;43m=\u001b[39;49m\u001b[38;5;124;43m\"\u001b[39;49m\u001b[38;5;124;43mrb\u001b[39;49m\u001b[38;5;124;43m\"\u001b[39;49m\u001b[43m,\u001b[49m\n\u001b[1;32m    272\u001b[0m \u001b[43m\u001b[49m\u001b[43m)\u001b[49m\n\u001b[1;32m    273\u001b[0m \u001b[38;5;28;01mtry\u001b[39;00m:\n\u001b[1;32m    274\u001b[0m     pa_table \u001b[38;5;241m=\u001b[39m \u001b[38;5;28mself\u001b[39m\u001b[38;5;241m.\u001b[39mapi\u001b[38;5;241m.\u001b[39mparquet\u001b[38;5;241m.\u001b[39mread_table(\n\u001b[1;32m    275\u001b[0m         path_or_handle,\n\u001b[1;32m    276\u001b[0m         columns\u001b[38;5;241m=\u001b[39mcolumns,\n\u001b[0;32m   (...)\u001b[0m\n\u001b[1;32m    279\u001b[0m         \u001b[38;5;241m*\u001b[39m\u001b[38;5;241m*\u001b[39mkwargs,\n\u001b[1;32m    280\u001b[0m     )\n",
      "File \u001b[0;32m~/.pyenv/versions/3.12.9/lib/python3.12/site-packages/pandas/io/parquet.py:140\u001b[0m, in \u001b[0;36m_get_path_or_handle\u001b[0;34m(path, fs, storage_options, mode, is_dir)\u001b[0m\n\u001b[1;32m    130\u001b[0m handles \u001b[38;5;241m=\u001b[39m \u001b[38;5;28;01mNone\u001b[39;00m\n\u001b[1;32m    131\u001b[0m \u001b[38;5;28;01mif\u001b[39;00m (\n\u001b[1;32m    132\u001b[0m     \u001b[38;5;129;01mnot\u001b[39;00m fs\n\u001b[1;32m    133\u001b[0m     \u001b[38;5;129;01mand\u001b[39;00m \u001b[38;5;129;01mnot\u001b[39;00m is_dir\n\u001b[0;32m   (...)\u001b[0m\n\u001b[1;32m    138\u001b[0m     \u001b[38;5;66;03m# fsspec resources can also point to directories\u001b[39;00m\n\u001b[1;32m    139\u001b[0m     \u001b[38;5;66;03m# this branch is used for example when reading from non-fsspec URLs\u001b[39;00m\n\u001b[0;32m--> 140\u001b[0m     handles \u001b[38;5;241m=\u001b[39m \u001b[43mget_handle\u001b[49m\u001b[43m(\u001b[49m\n\u001b[1;32m    141\u001b[0m \u001b[43m        \u001b[49m\u001b[43mpath_or_handle\u001b[49m\u001b[43m,\u001b[49m\u001b[43m \u001b[49m\u001b[43mmode\u001b[49m\u001b[43m,\u001b[49m\u001b[43m \u001b[49m\u001b[43mis_text\u001b[49m\u001b[38;5;241;43m=\u001b[39;49m\u001b[38;5;28;43;01mFalse\u001b[39;49;00m\u001b[43m,\u001b[49m\u001b[43m \u001b[49m\u001b[43mstorage_options\u001b[49m\u001b[38;5;241;43m=\u001b[39;49m\u001b[43mstorage_options\u001b[49m\n\u001b[1;32m    142\u001b[0m \u001b[43m    \u001b[49m\u001b[43m)\u001b[49m\n\u001b[1;32m    143\u001b[0m     fs \u001b[38;5;241m=\u001b[39m \u001b[38;5;28;01mNone\u001b[39;00m\n\u001b[1;32m    144\u001b[0m     path_or_handle \u001b[38;5;241m=\u001b[39m handles\u001b[38;5;241m.\u001b[39mhandle\n",
      "File \u001b[0;32m~/.pyenv/versions/3.12.9/lib/python3.12/site-packages/pandas/io/common.py:882\u001b[0m, in \u001b[0;36mget_handle\u001b[0;34m(path_or_buf, mode, encoding, compression, memory_map, is_text, errors, storage_options)\u001b[0m\n\u001b[1;32m    873\u001b[0m         handle \u001b[38;5;241m=\u001b[39m \u001b[38;5;28mopen\u001b[39m(\n\u001b[1;32m    874\u001b[0m             handle,\n\u001b[1;32m    875\u001b[0m             ioargs\u001b[38;5;241m.\u001b[39mmode,\n\u001b[0;32m   (...)\u001b[0m\n\u001b[1;32m    878\u001b[0m             newline\u001b[38;5;241m=\u001b[39m\u001b[38;5;124m\"\u001b[39m\u001b[38;5;124m\"\u001b[39m,\n\u001b[1;32m    879\u001b[0m         )\n\u001b[1;32m    880\u001b[0m     \u001b[38;5;28;01melse\u001b[39;00m:\n\u001b[1;32m    881\u001b[0m         \u001b[38;5;66;03m# Binary mode\u001b[39;00m\n\u001b[0;32m--> 882\u001b[0m         handle \u001b[38;5;241m=\u001b[39m \u001b[38;5;28;43mopen\u001b[39;49m\u001b[43m(\u001b[49m\u001b[43mhandle\u001b[49m\u001b[43m,\u001b[49m\u001b[43m \u001b[49m\u001b[43mioargs\u001b[49m\u001b[38;5;241;43m.\u001b[39;49m\u001b[43mmode\u001b[49m\u001b[43m)\u001b[49m\n\u001b[1;32m    883\u001b[0m     handles\u001b[38;5;241m.\u001b[39mappend(handle)\n\u001b[1;32m    885\u001b[0m \u001b[38;5;66;03m# Convert BytesIO or file objects passed with an encoding\u001b[39;00m\n",
      "\u001b[0;31mFileNotFoundError\u001b[0m: [Errno 2] No such file or directory: 'notebooks/ms_prime_tryout/simulation_realistic/msprime_A_B/genotypes_raw.parquet'"
     ]
    }
   ],
   "source": [
    "from pathlib import Path\n",
    "import pandas as pd\n",
    "from ascertainment_diploid_multi import AscertainmentConfig, ascertain_chip_diploid\n",
    "\n",
    "base = Path(\"notebooks/ms_prime_tryout/simulation_realistic/msprime_A_B\")\n",
    "G = pd.read_parquet(base / \"genotypes_raw.parquet\")  # variants x haplotypes (0/1)\n",
    "S = pd.read_parquet(base / \"sites.parquet\")          # must contain 'pos' (bp)\n",
    "X = pd.read_parquet(base / \"samples.parquet\")        # per-haplotype; has 'population'\n",
    "\n",
    "cfg = AscertainmentConfig(\n",
    "    discovery_pops=[\"A\",\"B\"],        # put any pops here; can be >2\n",
    "    maf_mode=\"pooled\",               # or \"any\" / \"all\"\n",
    "    maf_min=0.05, maf_max=0.50,\n",
    "    n_snps_target=60_000,            # smaller for a quick run; set as needed\n",
    "    ld_r2=0.2, ld_window_bp=50_000, ld_step_bp=5_000,\n",
    "    # discovery_weights={\"A\":2.0, \"B\":1.0}  # optional, only for maf_mode=\"pooled\"\n",
    ")\n",
    "\n",
    "out = ascertain_chip_diploid(\n",
    "    G, S, X,\n",
    "    config=cfg,\n",
    "    discovery_sample_col=\"population\",                     # adjust if your column is named differently\n",
    "    outdir=base.parent / \"msprime_A_B_arraylike_multi\"     # new output folder alongside the original\n",
    ")\n"
   ]
  },
  {
   "cell_type": "code",
   "execution_count": null,
   "id": "61163613-2c88-4f8a-b1c7-e0c6500c39f5",
   "metadata": {},
   "outputs": [],
   "source": []
  },
  {
   "cell_type": "code",
   "execution_count": null,
   "id": "24e26fee-7378-40d2-9a6b-e27dba002532",
   "metadata": {},
   "outputs": [],
   "source": []
  },
  {
   "cell_type": "code",
   "execution_count": null,
   "id": "82728d29-35d6-415c-9e4e-d0d72fa13089",
   "metadata": {},
   "outputs": [],
   "source": []
  },
  {
   "cell_type": "code",
   "execution_count": null,
   "id": "b754bcad-92f9-4f11-a9aa-9519f6de00d5",
   "metadata": {},
   "outputs": [],
   "source": []
  },
  {
   "cell_type": "code",
   "execution_count": null,
   "id": "ec35d128-eabf-4968-a10c-672cf0f7b0be",
   "metadata": {},
   "outputs": [],
   "source": []
  },
  {
   "cell_type": "code",
   "execution_count": null,
   "id": "86b8cd0f-b62b-4ec9-9177-52509ebddbd1",
   "metadata": {},
   "outputs": [],
   "source": []
  },
  {
   "cell_type": "code",
   "execution_count": null,
   "id": "471ece05-2643-40f5-8c39-629420b71c60",
   "metadata": {},
   "outputs": [],
   "source": []
  },
  {
   "cell_type": "code",
   "execution_count": null,
   "id": "e616532c-cfba-4b49-b965-9a7bb19d589c",
   "metadata": {},
   "outputs": [],
   "source": []
  },
  {
   "cell_type": "code",
   "execution_count": null,
   "id": "f9fc9a3f-4df4-4fee-85ed-33c15000d5fe",
   "metadata": {},
   "outputs": [],
   "source": []
  },
  {
   "cell_type": "code",
   "execution_count": null,
   "id": "51707a78-82e2-444c-8e07-0a6b1d3c95e2",
   "metadata": {},
   "outputs": [],
   "source": []
  },
  {
   "cell_type": "code",
   "execution_count": null,
   "id": "cb0f5d40-b394-49e7-b514-9144fdc53ef7",
   "metadata": {},
   "outputs": [],
   "source": []
  },
  {
   "cell_type": "code",
   "execution_count": null,
   "id": "eb732ebd-0a24-4237-8e6f-d2f54cdac686",
   "metadata": {},
   "outputs": [],
   "source": []
  },
  {
   "cell_type": "code",
   "execution_count": null,
   "id": "df58956a-4b23-48d9-a9b3-17b7ef8bacd2",
   "metadata": {},
   "outputs": [],
   "source": []
  },
  {
   "cell_type": "code",
   "execution_count": null,
   "id": "727f2188-2287-4e1a-9d33-e7323625e8a5",
   "metadata": {},
   "outputs": [],
   "source": []
  },
  {
   "cell_type": "code",
   "execution_count": null,
   "id": "0802da45-5696-4fbe-b1fc-0d4205185c77",
   "metadata": {},
   "outputs": [],
   "source": []
  },
  {
   "cell_type": "code",
   "execution_count": null,
   "id": "2950b58d-a6c2-43c4-9c8d-020b3f81f10e",
   "metadata": {},
   "outputs": [],
   "source": []
  },
  {
   "cell_type": "code",
   "execution_count": null,
   "id": "ea769ced-d689-4513-bc90-d7e35a37b431",
   "metadata": {},
   "outputs": [],
   "source": []
  },
  {
   "cell_type": "code",
   "execution_count": null,
   "id": "20c328c5-becd-4a7d-bb84-bbdadaea85f0",
   "metadata": {},
   "outputs": [],
   "source": []
  },
  {
   "cell_type": "code",
   "execution_count": null,
   "id": "ba74afb1-4a85-4269-ad5c-e8e260975fbb",
   "metadata": {},
   "outputs": [],
   "source": []
  },
  {
   "cell_type": "code",
   "execution_count": null,
   "id": "18a90653-d449-4ae1-ac51-549ca40bb67f",
   "metadata": {},
   "outputs": [],
   "source": []
  },
  {
   "cell_type": "code",
   "execution_count": null,
   "id": "05cb398a-76c8-49b3-814c-150fca31aee7",
   "metadata": {},
   "outputs": [],
   "source": []
  },
  {
   "cell_type": "code",
   "execution_count": null,
   "id": "8b1734af-307b-4ffa-9c06-04ba72e95c29",
   "metadata": {},
   "outputs": [],
   "source": []
  },
  {
   "cell_type": "code",
   "execution_count": 1,
   "id": "5980594b-9cb0-4eda-a409-7f127c769668",
   "metadata": {
    "execution": {
     "iopub.execute_input": "2025-09-16T13:04:03.410028Z",
     "iopub.status.busy": "2025-09-16T13:04:03.409832Z",
     "iopub.status.idle": "2025-09-16T13:04:03.973182Z",
     "shell.execute_reply": "2025-09-16T13:04:03.972760Z",
     "shell.execute_reply.started": "2025-09-16T13:04:03.410017Z"
    }
   },
   "outputs": [],
   "source": []
  },
  {
   "cell_type": "code",
   "execution_count": 2,
   "id": "3fae938e-d7be-43f6-884a-7ad7853e3a64",
   "metadata": {
    "execution": {
     "iopub.execute_input": "2025-09-16T13:04:03.973663Z",
     "iopub.status.busy": "2025-09-16T13:04:03.973567Z",
     "iopub.status.idle": "2025-09-16T13:04:03.976737Z",
     "shell.execute_reply": "2025-09-16T13:04:03.976316Z",
     "shell.execute_reply.started": "2025-09-16T13:04:03.973654Z"
    }
   },
   "outputs": [],
   "source": []
  },
  {
   "cell_type": "code",
   "execution_count": 3,
   "id": "d730b794-c3db-4024-87af-4c3cd753340c",
   "metadata": {
    "execution": {
     "iopub.execute_input": "2025-09-16T13:04:03.977842Z",
     "iopub.status.busy": "2025-09-16T13:04:03.977216Z",
     "iopub.status.idle": "2025-09-16T13:04:03.985415Z",
     "shell.execute_reply": "2025-09-16T13:04:03.984860Z",
     "shell.execute_reply.started": "2025-09-16T13:04:03.977773Z"
    }
   },
   "outputs": [],
   "source": []
  },
  {
   "cell_type": "code",
   "execution_count": 4,
   "id": "2fd32ed9-4c25-48c2-b0dc-540550bfe072",
   "metadata": {
    "execution": {
     "iopub.execute_input": "2025-09-16T13:04:03.986162Z",
     "iopub.status.busy": "2025-09-16T13:04:03.986010Z",
     "iopub.status.idle": "2025-09-16T13:04:15.218602Z",
     "shell.execute_reply": "2025-09-16T13:04:15.217890Z",
     "shell.execute_reply.started": "2025-09-16T13:04:03.986153Z"
    }
   },
   "outputs": [],
   "source": []
  },
  {
   "cell_type": "code",
   "execution_count": 5,
   "id": "e8a7c6e0-9afa-4b27-987e-0c81ee34df44",
   "metadata": {
    "execution": {
     "iopub.execute_input": "2025-09-16T13:04:15.219456Z",
     "iopub.status.busy": "2025-09-16T13:04:15.219159Z",
     "iopub.status.idle": "2025-09-16T13:04:20.185806Z",
     "shell.execute_reply": "2025-09-16T13:04:20.185023Z",
     "shell.execute_reply.started": "2025-09-16T13:04:15.219445Z"
    }
   },
   "outputs": [],
   "source": []
  },
  {
   "cell_type": "code",
   "execution_count": 6,
   "id": "8041bac8-3c29-4323-b348-ef913a9053ef",
   "metadata": {
    "execution": {
     "iopub.execute_input": "2025-09-16T13:04:20.187456Z",
     "iopub.status.busy": "2025-09-16T13:04:20.187027Z",
     "iopub.status.idle": "2025-09-16T13:04:24.922834Z",
     "shell.execute_reply": "2025-09-16T13:04:24.922152Z",
     "shell.execute_reply.started": "2025-09-16T13:04:20.187437Z"
    }
   },
   "outputs": [],
   "source": []
  },
  {
   "cell_type": "code",
   "execution_count": 7,
   "id": "0bd682ac-3cf4-488c-ab24-7a6b5a816c99",
   "metadata": {
    "execution": {
     "iopub.execute_input": "2025-09-16T13:04:24.923508Z",
     "iopub.status.busy": "2025-09-16T13:04:24.923305Z",
     "iopub.status.idle": "2025-09-16T13:04:31.593474Z",
     "shell.execute_reply": "2025-09-16T13:04:31.592881Z",
     "shell.execute_reply.started": "2025-09-16T13:04:24.923494Z"
    }
   },
   "outputs": [],
   "source": []
  },
  {
   "cell_type": "code",
   "execution_count": null,
   "id": "98156783-bc4e-4577-96a2-2393838ef4a6",
   "metadata": {},
   "outputs": [],
   "source": []
  },
  {
   "cell_type": "code",
   "execution_count": 8,
   "id": "2ad6a60c-34bc-4f9c-b041-e72ee8c00ad1",
   "metadata": {
    "execution": {
     "iopub.execute_input": "2025-09-16T13:04:31.594552Z",
     "iopub.status.busy": "2025-09-16T13:04:31.594185Z",
     "iopub.status.idle": "2025-09-16T13:04:54.794994Z",
     "shell.execute_reply": "2025-09-16T13:04:54.794015Z",
     "shell.execute_reply.started": "2025-09-16T13:04:31.594534Z"
    }
   },
   "outputs": [],
   "source": [
    "\n",
    "# Load your current files (haplotype-coded 0/1 matrix)\n",
    "geno_hap = pd.read_parquet(\"simulation_realistic/msprime_A_B/genotypes_raw.parquet\")  # variants x haplotypes\n",
    "sites    = pd.read_parquet(\"simulation_realistic/msprime_A_B/sites.parquet\")         # must have 'pos' (bp)\n",
    "samples  = pd.read_parquet(\"simulation_realistic/msprime_A_B/samples.parquet\")       # hap rows; include 'population'\n",
    "\n",
    "cfg = AscertainmentConfig(\n",
    "    discovery_pop=\"A\",   # the population you want to mimic array ascertainment on\n",
    "    maf_min=0.05, maf_max=0.50,\n",
    "    n_snps_target=600_000,\n",
    "    ld_r2=0.2, ld_window_bp=50_000, ld_step_bp=5_000,\n",
    "    random_seed=1\n",
    ")\n",
    "\n",
    "res = ascertain_chip_diploid(\n",
    "    genotypes_hap_df=geno_hap,\n",
    "    sites_df=sites,\n",
    "    samples_df=samples,\n",
    "    config=cfg,\n",
    "    pairing=None,  # set to list of (hap1_col, hap2_col) if you have a custom pairing\n",
    "    discovery_sample_col=\"population\",\n",
    "    outdir=Path(\"simulation_realistic/msprime_A_B_arraylike\")\n",
    ")\n",
    "\n",
    "# Outputs on disk:\n",
    "# - genotypes_array_diploid.parquet   (variants x individuals, values in {0,1,2})\n",
    "# - sites_array.parquet\n",
    "# - samples_individuals.parquet       (one row per individual incl. 'population' if available)\n",
    "# - ascertainment_index.parquet       (indices back to the original variants)\n",
    "# - manifest.json\n"
   ]
  },
  {
   "cell_type": "code",
   "execution_count": 9,
   "id": "316de55e-8abf-4c0d-845f-5d66bf82fc5e",
   "metadata": {
    "execution": {
     "iopub.execute_input": "2025-09-16T13:04:54.797732Z",
     "iopub.status.busy": "2025-09-16T13:04:54.797393Z",
     "iopub.status.idle": "2025-09-16T13:04:54.873517Z",
     "shell.execute_reply": "2025-09-16T13:04:54.873023Z",
     "shell.execute_reply.started": "2025-09-16T13:04:54.797717Z"
    }
   },
   "outputs": [],
   "source": [
    "root = Path(\"simulation_realistic/msprime_A_B_arraylike\")\n",
    "G_df   = pd.read_parquet(root / \"genotypes_array_diploid.parquet\")  # variants × individuals\n",
    "sites  = pd.read_parquet(root / \"sites_array.parquet\")\n",
    "inds   = pd.read_parquet(root / \"samples_individuals.parquet\")\n"
   ]
  },
  {
   "cell_type": "code",
   "execution_count": null,
   "id": "8076d932-d303-4b83-bd5f-853b280dec93",
   "metadata": {},
   "outputs": [],
   "source": []
  },
  {
   "cell_type": "code",
   "execution_count": 10,
   "id": "e863b684-d4ce-447d-80b9-8029ff0b9309",
   "metadata": {
    "execution": {
     "iopub.execute_input": "2025-09-16T13:04:54.876907Z",
     "iopub.status.busy": "2025-09-16T13:04:54.876772Z",
     "iopub.status.idle": "2025-09-16T13:04:54.910505Z",
     "shell.execute_reply": "2025-09-16T13:04:54.909877Z",
     "shell.execute_reply.started": "2025-09-16T13:04:54.876897Z"
    }
   },
   "outputs": [
    {
     "data": {
      "text/html": [
       "<div>\n",
       "<style scoped>\n",
       "    .dataframe tbody tr th:only-of-type {\n",
       "        vertical-align: middle;\n",
       "    }\n",
       "\n",
       "    .dataframe tbody tr th {\n",
       "        vertical-align: top;\n",
       "    }\n",
       "\n",
       "    .dataframe thead th {\n",
       "        text-align: right;\n",
       "    }\n",
       "</style>\n",
       "<table border=\"1\" class=\"dataframe\">\n",
       "  <thead>\n",
       "    <tr style=\"text-align: right;\">\n",
       "      <th></th>\n",
       "      <th>0</th>\n",
       "      <th>1</th>\n",
       "      <th>2</th>\n",
       "      <th>3</th>\n",
       "      <th>4</th>\n",
       "      <th>5</th>\n",
       "      <th>6</th>\n",
       "      <th>7</th>\n",
       "      <th>8</th>\n",
       "      <th>9</th>\n",
       "      <th>...</th>\n",
       "      <th>990</th>\n",
       "      <th>991</th>\n",
       "      <th>992</th>\n",
       "      <th>993</th>\n",
       "      <th>994</th>\n",
       "      <th>995</th>\n",
       "      <th>996</th>\n",
       "      <th>997</th>\n",
       "      <th>998</th>\n",
       "      <th>999</th>\n",
       "    </tr>\n",
       "  </thead>\n",
       "  <tbody>\n",
       "    <tr>\n",
       "      <th>0</th>\n",
       "      <td>0</td>\n",
       "      <td>0</td>\n",
       "      <td>0</td>\n",
       "      <td>1</td>\n",
       "      <td>0</td>\n",
       "      <td>0</td>\n",
       "      <td>0</td>\n",
       "      <td>0</td>\n",
       "      <td>0</td>\n",
       "      <td>0</td>\n",
       "      <td>...</td>\n",
       "      <td>0</td>\n",
       "      <td>0</td>\n",
       "      <td>0</td>\n",
       "      <td>0</td>\n",
       "      <td>0</td>\n",
       "      <td>0</td>\n",
       "      <td>0</td>\n",
       "      <td>0</td>\n",
       "      <td>0</td>\n",
       "      <td>0</td>\n",
       "    </tr>\n",
       "    <tr>\n",
       "      <th>1</th>\n",
       "      <td>1</td>\n",
       "      <td>0</td>\n",
       "      <td>1</td>\n",
       "      <td>1</td>\n",
       "      <td>1</td>\n",
       "      <td>1</td>\n",
       "      <td>1</td>\n",
       "      <td>0</td>\n",
       "      <td>0</td>\n",
       "      <td>0</td>\n",
       "      <td>...</td>\n",
       "      <td>0</td>\n",
       "      <td>0</td>\n",
       "      <td>1</td>\n",
       "      <td>1</td>\n",
       "      <td>1</td>\n",
       "      <td>0</td>\n",
       "      <td>1</td>\n",
       "      <td>1</td>\n",
       "      <td>2</td>\n",
       "      <td>0</td>\n",
       "    </tr>\n",
       "    <tr>\n",
       "      <th>2</th>\n",
       "      <td>2</td>\n",
       "      <td>2</td>\n",
       "      <td>2</td>\n",
       "      <td>2</td>\n",
       "      <td>2</td>\n",
       "      <td>2</td>\n",
       "      <td>2</td>\n",
       "      <td>1</td>\n",
       "      <td>2</td>\n",
       "      <td>2</td>\n",
       "      <td>...</td>\n",
       "      <td>2</td>\n",
       "      <td>2</td>\n",
       "      <td>2</td>\n",
       "      <td>2</td>\n",
       "      <td>1</td>\n",
       "      <td>2</td>\n",
       "      <td>2</td>\n",
       "      <td>2</td>\n",
       "      <td>2</td>\n",
       "      <td>2</td>\n",
       "    </tr>\n",
       "    <tr>\n",
       "      <th>3</th>\n",
       "      <td>0</td>\n",
       "      <td>0</td>\n",
       "      <td>0</td>\n",
       "      <td>1</td>\n",
       "      <td>0</td>\n",
       "      <td>0</td>\n",
       "      <td>0</td>\n",
       "      <td>1</td>\n",
       "      <td>0</td>\n",
       "      <td>0</td>\n",
       "      <td>...</td>\n",
       "      <td>0</td>\n",
       "      <td>0</td>\n",
       "      <td>0</td>\n",
       "      <td>1</td>\n",
       "      <td>1</td>\n",
       "      <td>0</td>\n",
       "      <td>1</td>\n",
       "      <td>0</td>\n",
       "      <td>2</td>\n",
       "      <td>0</td>\n",
       "    </tr>\n",
       "    <tr>\n",
       "      <th>4</th>\n",
       "      <td>0</td>\n",
       "      <td>1</td>\n",
       "      <td>0</td>\n",
       "      <td>0</td>\n",
       "      <td>0</td>\n",
       "      <td>0</td>\n",
       "      <td>0</td>\n",
       "      <td>0</td>\n",
       "      <td>0</td>\n",
       "      <td>0</td>\n",
       "      <td>...</td>\n",
       "      <td>0</td>\n",
       "      <td>0</td>\n",
       "      <td>0</td>\n",
       "      <td>0</td>\n",
       "      <td>0</td>\n",
       "      <td>0</td>\n",
       "      <td>0</td>\n",
       "      <td>0</td>\n",
       "      <td>0</td>\n",
       "      <td>0</td>\n",
       "    </tr>\n",
       "    <tr>\n",
       "      <th>...</th>\n",
       "      <td>...</td>\n",
       "      <td>...</td>\n",
       "      <td>...</td>\n",
       "      <td>...</td>\n",
       "      <td>...</td>\n",
       "      <td>...</td>\n",
       "      <td>...</td>\n",
       "      <td>...</td>\n",
       "      <td>...</td>\n",
       "      <td>...</td>\n",
       "      <td>...</td>\n",
       "      <td>...</td>\n",
       "      <td>...</td>\n",
       "      <td>...</td>\n",
       "      <td>...</td>\n",
       "      <td>...</td>\n",
       "      <td>...</td>\n",
       "      <td>...</td>\n",
       "      <td>...</td>\n",
       "      <td>...</td>\n",
       "      <td>...</td>\n",
       "    </tr>\n",
       "    <tr>\n",
       "      <th>7858</th>\n",
       "      <td>1</td>\n",
       "      <td>1</td>\n",
       "      <td>1</td>\n",
       "      <td>1</td>\n",
       "      <td>0</td>\n",
       "      <td>2</td>\n",
       "      <td>1</td>\n",
       "      <td>2</td>\n",
       "      <td>2</td>\n",
       "      <td>2</td>\n",
       "      <td>...</td>\n",
       "      <td>0</td>\n",
       "      <td>2</td>\n",
       "      <td>2</td>\n",
       "      <td>2</td>\n",
       "      <td>0</td>\n",
       "      <td>1</td>\n",
       "      <td>1</td>\n",
       "      <td>1</td>\n",
       "      <td>1</td>\n",
       "      <td>1</td>\n",
       "    </tr>\n",
       "    <tr>\n",
       "      <th>7859</th>\n",
       "      <td>0</td>\n",
       "      <td>0</td>\n",
       "      <td>0</td>\n",
       "      <td>0</td>\n",
       "      <td>0</td>\n",
       "      <td>1</td>\n",
       "      <td>0</td>\n",
       "      <td>0</td>\n",
       "      <td>0</td>\n",
       "      <td>1</td>\n",
       "      <td>...</td>\n",
       "      <td>0</td>\n",
       "      <td>0</td>\n",
       "      <td>1</td>\n",
       "      <td>0</td>\n",
       "      <td>0</td>\n",
       "      <td>0</td>\n",
       "      <td>0</td>\n",
       "      <td>0</td>\n",
       "      <td>1</td>\n",
       "      <td>0</td>\n",
       "    </tr>\n",
       "    <tr>\n",
       "      <th>7860</th>\n",
       "      <td>0</td>\n",
       "      <td>1</td>\n",
       "      <td>0</td>\n",
       "      <td>0</td>\n",
       "      <td>0</td>\n",
       "      <td>0</td>\n",
       "      <td>0</td>\n",
       "      <td>0</td>\n",
       "      <td>0</td>\n",
       "      <td>0</td>\n",
       "      <td>...</td>\n",
       "      <td>0</td>\n",
       "      <td>0</td>\n",
       "      <td>0</td>\n",
       "      <td>0</td>\n",
       "      <td>0</td>\n",
       "      <td>0</td>\n",
       "      <td>0</td>\n",
       "      <td>0</td>\n",
       "      <td>0</td>\n",
       "      <td>0</td>\n",
       "    </tr>\n",
       "    <tr>\n",
       "      <th>7861</th>\n",
       "      <td>0</td>\n",
       "      <td>2</td>\n",
       "      <td>0</td>\n",
       "      <td>1</td>\n",
       "      <td>1</td>\n",
       "      <td>1</td>\n",
       "      <td>1</td>\n",
       "      <td>0</td>\n",
       "      <td>0</td>\n",
       "      <td>1</td>\n",
       "      <td>...</td>\n",
       "      <td>1</td>\n",
       "      <td>1</td>\n",
       "      <td>1</td>\n",
       "      <td>0</td>\n",
       "      <td>0</td>\n",
       "      <td>1</td>\n",
       "      <td>0</td>\n",
       "      <td>0</td>\n",
       "      <td>1</td>\n",
       "      <td>1</td>\n",
       "    </tr>\n",
       "    <tr>\n",
       "      <th>7862</th>\n",
       "      <td>0</td>\n",
       "      <td>0</td>\n",
       "      <td>1</td>\n",
       "      <td>0</td>\n",
       "      <td>0</td>\n",
       "      <td>0</td>\n",
       "      <td>0</td>\n",
       "      <td>0</td>\n",
       "      <td>0</td>\n",
       "      <td>0</td>\n",
       "      <td>...</td>\n",
       "      <td>0</td>\n",
       "      <td>0</td>\n",
       "      <td>1</td>\n",
       "      <td>0</td>\n",
       "      <td>0</td>\n",
       "      <td>0</td>\n",
       "      <td>0</td>\n",
       "      <td>1</td>\n",
       "      <td>0</td>\n",
       "      <td>0</td>\n",
       "    </tr>\n",
       "  </tbody>\n",
       "</table>\n",
       "<p>7863 rows × 1000 columns</p>\n",
       "</div>"
      ],
      "text/plain": [
       "      0  1  2  3  4  5  6  7  8  9  ...  990  991  992  993  994  995  996  \\\n",
       "0     0  0  0  1  0  0  0  0  0  0  ...    0    0    0    0    0    0    0   \n",
       "1     1  0  1  1  1  1  1  0  0  0  ...    0    0    1    1    1    0    1   \n",
       "2     2  2  2  2  2  2  2  1  2  2  ...    2    2    2    2    1    2    2   \n",
       "3     0  0  0  1  0  0  0  1  0  0  ...    0    0    0    1    1    0    1   \n",
       "4     0  1  0  0  0  0  0  0  0  0  ...    0    0    0    0    0    0    0   \n",
       "...  .. .. .. .. .. .. .. .. .. ..  ...  ...  ...  ...  ...  ...  ...  ...   \n",
       "7858  1  1  1  1  0  2  1  2  2  2  ...    0    2    2    2    0    1    1   \n",
       "7859  0  0  0  0  0  1  0  0  0  1  ...    0    0    1    0    0    0    0   \n",
       "7860  0  1  0  0  0  0  0  0  0  0  ...    0    0    0    0    0    0    0   \n",
       "7861  0  2  0  1  1  1  1  0  0  1  ...    1    1    1    0    0    1    0   \n",
       "7862  0  0  1  0  0  0  0  0  0  0  ...    0    0    1    0    0    0    0   \n",
       "\n",
       "      997  998  999  \n",
       "0       0    0    0  \n",
       "1       1    2    0  \n",
       "2       2    2    2  \n",
       "3       0    2    0  \n",
       "4       0    0    0  \n",
       "...   ...  ...  ...  \n",
       "7858    1    1    1  \n",
       "7859    0    1    0  \n",
       "7860    0    0    0  \n",
       "7861    0    1    1  \n",
       "7862    1    0    0  \n",
       "\n",
       "[7863 rows x 1000 columns]"
      ]
     },
     "execution_count": 10,
     "metadata": {},
     "output_type": "execute_result"
    }
   ],
   "source": [
    "G_df"
   ]
  },
  {
   "cell_type": "code",
   "execution_count": 12,
   "id": "cf58450b-e0ec-47d4-bf87-1a1380de0a41",
   "metadata": {
    "execution": {
     "iopub.execute_input": "2025-09-16T13:07:04.698867Z",
     "iopub.status.busy": "2025-09-16T13:07:04.698484Z",
     "iopub.status.idle": "2025-09-16T13:07:04.769163Z",
     "shell.execute_reply": "2025-09-16T13:07:04.768630Z",
     "shell.execute_reply.started": "2025-09-16T13:07:04.698853Z"
    }
   },
   "outputs": [
    {
     "name": "stdout",
     "output_type": "stream",
     "text": [
      "(7863, 1000) 1000\n"
     ]
    }
   ],
   "source": [
    "import pandas as pd\n",
    "import numpy as np\n",
    "from pathlib import Path\n",
    "\n",
    "root = Path(\"simulation_realistic/msprime_A_B_arraylike\")\n",
    "\n",
    "# Must be the diploid file (variants × INDIVIDUALS)\n",
    "G = pd.read_parquet(root / \"genotypes_array_diploid.parquet\").to_numpy(dtype=np.int8)\n",
    "inds = pd.read_parquet(root / \"samples_individuals.parquet\")\n",
    "\n",
    "print(G.shape, len(inds))  # <- columns must equal len(inds)\n",
    "\n",
    "pops = inds[\"population\"].to_numpy()\n",
    "assert G.shape[1] == pops.shape[0], \"Mismatch: G columns must equal number of individuals\"\n",
    "\n",
    "maf_by_pop = {}\n",
    "for pop in np.unique(pops):\n",
    "    mask = (pops == pop)                  # length = n_individuals\n",
    "    p = (G[:, mask].mean(axis=1) / 2.0)   # alt allele freq\n",
    "    maf_by_pop[pop] = np.minimum(p, 1 - p)\n"
   ]
  },
  {
   "cell_type": "code",
   "execution_count": 13,
   "id": "7a4c44ed-b35e-45d8-ab73-ad345edcda3b",
   "metadata": {
    "execution": {
     "iopub.execute_input": "2025-09-16T13:07:08.170576Z",
     "iopub.status.busy": "2025-09-16T13:07:08.170196Z",
     "iopub.status.idle": "2025-09-16T13:07:10.731176Z",
     "shell.execute_reply": "2025-09-16T13:07:10.730216Z",
     "shell.execute_reply.started": "2025-09-16T13:07:08.170553Z"
    }
   },
   "outputs": [
    {
     "name": "stdout",
     "output_type": "stream",
     "text": [
      "[0.02098656 0.00313388 0.00309205 0.00301056 0.00295466]\n"
     ]
    }
   ],
   "source": [
    "from sklearn.preprocessing import StandardScaler\n",
    "from sklearn.decomposition import PCA\n",
    "\n",
    "# sklearn expects samples × features; here samples = individuals, features = variants\n",
    "X = G.T                                  # shape → (n_individuals, n_variants)\n",
    "\n",
    "# Standardize features (variants). On very large data, consider LD pruning beforehand.\n",
    "scaler = StandardScaler(with_mean=True, with_std=True)\n",
    "Xz = scaler.fit_transform(X)\n",
    "\n",
    "pca = PCA(n_components=10, svd_solver=\"randomized\", random_state=1)\n",
    "PC = pca.fit_transform(Xz)                # (n_individuals × 10)\n",
    "\n",
    "# Attach metadata\n",
    "pc_df = pd.DataFrame(PC, columns=[f\"PC{i+1}\" for i in range(PC.shape[1])])\n",
    "if \"population\" in inds.columns:\n",
    "    pc_df[\"population\"] = inds[\"population\"].values\n",
    "\n",
    "print(pca.explained_variance_ratio_[:5])\n"
   ]
  },
  {
   "cell_type": "code",
   "execution_count": 14,
   "id": "fa83f998-6766-4382-a0af-a7641d93688c",
   "metadata": {
    "execution": {
     "iopub.execute_input": "2025-09-16T13:07:33.023541Z",
     "iopub.status.busy": "2025-09-16T13:07:33.022892Z",
     "iopub.status.idle": "2025-09-16T13:07:35.480467Z",
     "shell.execute_reply": "2025-09-16T13:07:35.479878Z",
     "shell.execute_reply.started": "2025-09-16T13:07:33.023514Z"
    }
   },
   "outputs": [
    {
     "data": {
      "image/png": "[encoded data removed]",
      "text/plain": [
       "<Figure size 700x600 with 1 Axes>"
      ]
     },
     "metadata": {},
     "output_type": "display_data"
    }
   ],
   "source": [
    "import pandas as pd\n",
    "import seaborn as sns\n",
    "import matplotlib.pyplot as plt\n",
    "from sklearn.preprocessing import StandardScaler\n",
    "from sklearn.decomposition import PCA\n",
    "\n",
    "# --- Load data ---\n",
    "root = Path(\"simulation_realistic/msprime_A_B_arraylike\")\n",
    "G = pd.read_parquet(root / \"genotypes_array_diploid.parquet\").to_numpy(dtype=np.int8)  # variants × individuals\n",
    "inds = pd.read_parquet(root / \"samples_individuals.parquet\")\n",
    "\n",
    "# --- PCA ---\n",
    "X = G.T  # shape: (n_individuals, n_variants)\n",
    "Xz = StandardScaler(with_mean=True, with_std=True).fit_transform(X)\n",
    "pca = PCA(n_components=10, svd_solver=\"randomized\", random_state=1)\n",
    "PC = pca.fit_transform(Xz)\n",
    "\n",
    "# --- Make DataFrame with metadata ---\n",
    "pc_df = pd.DataFrame(PC[:, :2], columns=[\"PC1\", \"PC2\"])\n",
    "if \"population\" in inds.columns:\n",
    "    pc_df[\"population\"] = inds[\"population\"].values\n",
    "\n",
    "# --- Plot ---\n",
    "plt.figure(figsize=(7,6))\n",
    "sns.scatterplot(\n",
    "    data=pc_df,\n",
    "    x=\"PC1\", y=\"PC2\",\n",
    "    hue=\"population\",\n",
    "    palette=\"tab10\",\n",
    "    alpha=0.7, s=40\n",
    ")\n",
    "plt.title(\"PCA: PC1 vs PC2\")\n",
    "plt.xlabel(f\"PC1 ({pca.explained_variance_ratio_[0]*100:.1f}% var)\")\n",
    "plt.ylabel(f\"PC2 ({pca.explained_variance_ratio_[1]*100:.1f}% var)\")\n",
    "plt.legend(title=\"Population\", bbox_to_anchor=(1.05,1), loc=\"upper left\")\n",
    "plt.tight_layout()\n",
    "plt.show()\n"
   ]
  },
  {
   "cell_type": "code",
   "execution_count": null,
   "id": "ac289efc-0dfd-41f3-9279-94660a5bccd1",
   "metadata": {},
   "outputs": [],
   "source": []
  },
  {
   "cell_type": "code",
   "execution_count": null,
   "id": "446b5ad2-b5ab-4cbd-a5e2-001808bef621",
   "metadata": {},
   "outputs": [],
   "source": []
  },
  {
   "cell_type": "code",
   "execution_count": null,
   "id": "ad812628-2078-45df-8ed8-f9b887ae7d9a",
   "metadata": {},
   "outputs": [],
   "source": []
  },
  {
   "cell_type": "code",
   "execution_count": null,
   "id": "cb894011-470c-4cd5-9590-c572e28a9c25",
   "metadata": {},
   "outputs": [],
   "source": []
  },
  {
   "cell_type": "code",
   "execution_count": null,
   "id": "db5dfeac-ce27-4fa3-866b-07986ec30f97",
   "metadata": {},
   "outputs": [],
   "source": []
  },
  {
   "cell_type": "code",
   "execution_count": null,
   "id": "95deb329-5d3a-48ce-a964-538907de8e78",
   "metadata": {},
   "outputs": [],
   "source": []
  }
 ],
 "metadata": {
  "kernelspec": {
   "display_name": "Python 3 (ipykernel)",
   "language": "python",
   "name": "python3"
  },
  "language_info": {
   "codemirror_mode": {
    "name": "ipython",
    "version": 3
   },
   "file_extension": ".py",
   "mimetype": "text/x-python",
   "name": "python",
   "nbconvert_exporter": "python",
   "pygments_lexer": "ipython3",
   "version": "3.12.9"
  }
 },
 "nbformat": 4,
 "nbformat_minor": 5
}
